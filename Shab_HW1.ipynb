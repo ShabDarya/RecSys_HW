{
 "cells": [
  {
   "cell_type": "markdown",
   "id": "c865b610-e175-4e9f-be2f-995e43e45332",
   "metadata": {
    "id": "c865b610-e175-4e9f-be2f-995e43e45332"
   },
   "source": [
    "## ДЗ №1. Метрики и простейшие алгоритмы рекомендаций"
   ]
  },
  {
   "cell_type": "markdown",
   "id": "16ff81db-dc65-4d89-8c79-d4e2a6e71879",
   "metadata": {
    "id": "16ff81db-dc65-4d89-8c79-d4e2a6e71879"
   },
   "source": [
    "## Общая информация\n",
    "**Дата выдачи: 4 февраля 2025**\n",
    "\n",
    "**Дедлайн: 12 февраля 2025 23:59 MSK**"
   ]
  },
  {
   "cell_type": "code",
   "execution_count": 1,
   "id": "e5fbada3-40bc-4748-9897-1c0e15d7892a",
   "metadata": {
    "id": "e5fbada3-40bc-4748-9897-1c0e15d7892a"
   },
   "outputs": [
    {
     "name": "stderr",
     "output_type": "stream",
     "text": [
      "d:\\Programs\\anac\\Lib\\site-packages\\pandas\\core\\arrays\\masked.py:60: UserWarning: Pandas requires version '1.3.6' or newer of 'bottleneck' (version '1.3.5' currently installed).\n",
      "  from pandas.core import (\n"
     ]
    }
   ],
   "source": [
    "import pandas as pd\n",
    "import numpy as np\n",
    "from matplotlib import pyplot as plt\n",
    "from tqdm.auto import tqdm\n",
    "from typing import List, Optional\n",
    "from metric_tests import run_tests\n",
    "\n",
    "%matplotlib inline"
   ]
  },
  {
   "cell_type": "markdown",
   "id": "4098f8b8-a49a-4a66-92e2-e75c7acc4988",
   "metadata": {
    "id": "4098f8b8-a49a-4a66-92e2-e75c7acc4988"
   },
   "source": [
    "## О задании\n",
    "\n",
    "В этой работе мы посмотрим на то, как работают самые простые модели для рекомендаций. Как правило, они не требуют построения специальных моделей, но даже так оказываются полезны в качестве бейзлайна. Попробуем сделать предсказания с помощью EASE. Это тоже довольно простой подход, но не стоит забывать, что сложные модели могут оказаться не лучшим выбором в условиях большого количества данных. Посчитаем метрики, построим графики и подумаем, насколько хорошо эти модели вообще решают поставленную задачу.\n",
    "\n",
    "Мы будем работать с датасетом по рекомендации фильмов от Kion MTS, который был дан для соревнования. Сперва нужно его предобработать, эта часть повторяет то, что было на семинаре. \n",
    "\n",
    "Датасет необходимо скачать: https://ods.ai/competitions/competition-recsys-21/data\n",
    "\n",
    "Оттуда нужны файлы `interactions.csv` и `items.csv`\n",
    "\n",
    "Каждое задание весит **1 балл**, если выполнено полностью и без ошибок, **0 баллов** ставится при наличии хотя бы 1 ошибки. Максимальная оценка - **10 баллов**. Шаблоны функций и классов можно менять по своему усмотрению."
   ]
  },
  {
   "cell_type": "code",
   "execution_count": 2,
   "id": "02af9415-838f-446e-80ed-f6083cc9cb27",
   "metadata": {
    "colab": {
     "base_uri": "https://localhost:8080/",
     "height": 206
    },
    "id": "02af9415-838f-446e-80ed-f6083cc9cb27",
    "outputId": "38e0880c-09b1-4b18-9477-6fc6d0ca0990"
   },
   "outputs": [
    {
     "data": {
      "text/html": [
       "<div>\n",
       "<style scoped>\n",
       "    .dataframe tbody tr th:only-of-type {\n",
       "        vertical-align: middle;\n",
       "    }\n",
       "\n",
       "    .dataframe tbody tr th {\n",
       "        vertical-align: top;\n",
       "    }\n",
       "\n",
       "    .dataframe thead th {\n",
       "        text-align: right;\n",
       "    }\n",
       "</style>\n",
       "<table border=\"1\" class=\"dataframe\">\n",
       "  <thead>\n",
       "    <tr style=\"text-align: right;\">\n",
       "      <th></th>\n",
       "      <th>user_id</th>\n",
       "      <th>item_id</th>\n",
       "      <th>last_watch_dt</th>\n",
       "      <th>total_dur</th>\n",
       "      <th>watched_pct</th>\n",
       "    </tr>\n",
       "  </thead>\n",
       "  <tbody>\n",
       "    <tr>\n",
       "      <th>0</th>\n",
       "      <td>176549</td>\n",
       "      <td>9506</td>\n",
       "      <td>2021-05-11</td>\n",
       "      <td>4250</td>\n",
       "      <td>72.0</td>\n",
       "    </tr>\n",
       "    <tr>\n",
       "      <th>1</th>\n",
       "      <td>699317</td>\n",
       "      <td>1659</td>\n",
       "      <td>2021-05-29</td>\n",
       "      <td>8317</td>\n",
       "      <td>100.0</td>\n",
       "    </tr>\n",
       "    <tr>\n",
       "      <th>2</th>\n",
       "      <td>656683</td>\n",
       "      <td>7107</td>\n",
       "      <td>2021-05-09</td>\n",
       "      <td>10</td>\n",
       "      <td>0.0</td>\n",
       "    </tr>\n",
       "    <tr>\n",
       "      <th>3</th>\n",
       "      <td>864613</td>\n",
       "      <td>7638</td>\n",
       "      <td>2021-07-05</td>\n",
       "      <td>14483</td>\n",
       "      <td>100.0</td>\n",
       "    </tr>\n",
       "    <tr>\n",
       "      <th>4</th>\n",
       "      <td>964868</td>\n",
       "      <td>9506</td>\n",
       "      <td>2021-04-30</td>\n",
       "      <td>6725</td>\n",
       "      <td>100.0</td>\n",
       "    </tr>\n",
       "  </tbody>\n",
       "</table>\n",
       "</div>"
      ],
      "text/plain": [
       "   user_id  item_id last_watch_dt  total_dur  watched_pct\n",
       "0   176549     9506    2021-05-11       4250         72.0\n",
       "1   699317     1659    2021-05-29       8317        100.0\n",
       "2   656683     7107    2021-05-09         10          0.0\n",
       "3   864613     7638    2021-07-05      14483        100.0\n",
       "4   964868     9506    2021-04-30       6725        100.0"
      ]
     },
     "execution_count": 2,
     "metadata": {},
     "output_type": "execute_result"
    }
   ],
   "source": [
    "df = pd.read_csv('interactions.csv').iloc[:-1]\n",
    "df.head()"
   ]
  },
  {
   "cell_type": "code",
   "execution_count": 3,
   "id": "78153b4e-975b-4493-95e7-e503f7c68757",
   "metadata": {
    "colab": {
     "base_uri": "https://localhost:8080/",
     "height": 206
    },
    "id": "78153b4e-975b-4493-95e7-e503f7c68757",
    "outputId": "d4cdad47-aca2-4140-bf48-511b57b6ca9e"
   },
   "outputs": [
    {
     "data": {
      "text/html": [
       "<div>\n",
       "<style scoped>\n",
       "    .dataframe tbody tr th:only-of-type {\n",
       "        vertical-align: middle;\n",
       "    }\n",
       "\n",
       "    .dataframe tbody tr th {\n",
       "        vertical-align: top;\n",
       "    }\n",
       "\n",
       "    .dataframe thead th {\n",
       "        text-align: right;\n",
       "    }\n",
       "</style>\n",
       "<table border=\"1\" class=\"dataframe\">\n",
       "  <thead>\n",
       "    <tr style=\"text-align: right;\">\n",
       "      <th></th>\n",
       "      <th>user_id</th>\n",
       "      <th>item_id</th>\n",
       "      <th>last_watch_dt</th>\n",
       "      <th>total_dur</th>\n",
       "      <th>watched_pct</th>\n",
       "    </tr>\n",
       "  </thead>\n",
       "  <tbody>\n",
       "    <tr>\n",
       "      <th>1318810</th>\n",
       "      <td>916595</td>\n",
       "      <td>14378</td>\n",
       "      <td>100</td>\n",
       "      <td>7957</td>\n",
       "      <td>100.0</td>\n",
       "    </tr>\n",
       "    <tr>\n",
       "      <th>2948660</th>\n",
       "      <td>928925</td>\n",
       "      <td>1418</td>\n",
       "      <td>111</td>\n",
       "      <td>1010</td>\n",
       "      <td>19.0</td>\n",
       "    </tr>\n",
       "    <tr>\n",
       "      <th>2679518</th>\n",
       "      <td>425497</td>\n",
       "      <td>11382</td>\n",
       "      <td>108</td>\n",
       "      <td>10254</td>\n",
       "      <td>100.0</td>\n",
       "    </tr>\n",
       "    <tr>\n",
       "      <th>3851233</th>\n",
       "      <td>30029</td>\n",
       "      <td>3734</td>\n",
       "      <td>106</td>\n",
       "      <td>6809</td>\n",
       "      <td>100.0</td>\n",
       "    </tr>\n",
       "    <tr>\n",
       "      <th>1890517</th>\n",
       "      <td>512041</td>\n",
       "      <td>13865</td>\n",
       "      <td>108</td>\n",
       "      <td>8590</td>\n",
       "      <td>100.0</td>\n",
       "    </tr>\n",
       "  </tbody>\n",
       "</table>\n",
       "</div>"
      ],
      "text/plain": [
       "         user_id  item_id  last_watch_dt  total_dur  watched_pct\n",
       "1318810   916595    14378            100       7957        100.0\n",
       "2948660   928925     1418            111       1010         19.0\n",
       "2679518   425497    11382            108      10254        100.0\n",
       "3851233    30029     3734            106       6809        100.0\n",
       "1890517   512041    13865            108       8590        100.0"
      ]
     },
     "execution_count": 3,
     "metadata": {},
     "output_type": "execute_result"
    }
   ],
   "source": [
    "df['last_watch_dt'] = (pd.to_datetime(df['last_watch_dt']) - pd.to_datetime(df['last_watch_dt']).min())\n",
    "df['last_watch_dt'] = df.last_watch_dt.apply(lambda x: int(str(x).split()[0]))\n",
    "df.sample(5)"
   ]
  },
  {
   "cell_type": "markdown",
   "id": "DnuIUsrRj0Tk",
   "metadata": {
    "id": "DnuIUsrRj0Tk"
   },
   "source": [
    "Сделаем разбиение по времени"
   ]
  },
  {
   "cell_type": "code",
   "execution_count": 4,
   "id": "1a0df672-7a64-4ba7-aea2-9aed9c13ecb6",
   "metadata": {
    "colab": {
     "base_uri": "https://localhost:8080/",
     "height": 447
    },
    "id": "1a0df672-7a64-4ba7-aea2-9aed9c13ecb6",
    "outputId": "6991b14a-91a5-4f3a-8f28-c5914132839a"
   },
   "outputs": [
    {
     "data": {
      "text/plain": [
       "<Axes: >"
      ]
     },
     "execution_count": 4,
     "metadata": {},
     "output_type": "execute_result"
    },
    {
     "data": {
      "image/png": "[encoded data removed]",
      "text/plain": [
       "<Figure size 640x480 with 1 Axes>"
      ]
     },
     "metadata": {},
     "output_type": "display_data"
    }
   ],
   "source": [
    "df.last_watch_dt.hist(bins=50)"
   ]
  },
  {
   "cell_type": "code",
   "execution_count": 5,
   "id": "1017b62e-68ce-4bfb-b44f-9e1b391aa08b",
   "metadata": {
    "colab": {
     "base_uri": "https://localhost:8080/"
    },
    "id": "1017b62e-68ce-4bfb-b44f-9e1b391aa08b",
    "outputId": "730db660-a2f0-4f12-f54c-b794f299a41b"
   },
   "outputs": [
    {
     "name": "stdout",
     "output_type": "stream",
     "text": [
      "число людей и там и там:  134670\n",
      "число людей всего: 880449\n"
     ]
    }
   ],
   "source": [
    "train_df = df.loc[(df.last_watch_dt < 160-7)].copy()\n",
    "test_df = df.loc[(df.last_watch_dt >= 160-7)].copy()\n",
    "\n",
    "train_users = train_df.user_id.unique()\n",
    "test_users = test_df.user_id.unique()\n",
    "\n",
    "all_included = np.intersect1d(train_users, test_users)\n",
    "\n",
    "print('число людей и там и там: ', all_included.shape[0])\n",
    "print('число людей всего:', train_users.shape[0])"
   ]
  },
  {
   "cell_type": "code",
   "execution_count": 6,
   "id": "8f30d288-bdd7-4304-81ef-61c3b9b75ac9",
   "metadata": {
    "colab": {
     "base_uri": "https://localhost:8080/"
    },
    "id": "8f30d288-bdd7-4304-81ef-61c3b9b75ac9",
    "outputId": "56b765fb-2bfb-47e1-bf06-c594bde79921"
   },
   "outputs": [
    {
     "data": {
      "text/plain": [
       "0.37768022181146027"
      ]
     },
     "execution_count": 6,
     "metadata": {},
     "output_type": "execute_result"
    }
   ],
   "source": [
    "len(set(test_users) - set(train_users)) / len(test_users)"
   ]
  },
  {
   "cell_type": "markdown",
   "id": "de1eb6f2-f78c-4403-aebd-a0561a049360",
   "metadata": {
    "id": "de1eb6f2-f78c-4403-aebd-a0561a049360"
   },
   "source": [
    "И переведём всё к соединённому датасету:"
   ]
  },
  {
   "cell_type": "code",
   "execution_count": 7,
   "id": "3686c2f1-9a9b-4684-b3d3-06c891252549",
   "metadata": {
    "id": "3686c2f1-9a9b-4684-b3d3-06c891252549"
   },
   "outputs": [],
   "source": [
    "n_users = 10000\n",
    "\n",
    "all_included = np.random.choice(all_included, size=n_users, replace=False)\n",
    "\n",
    "train_df = train_df.loc[train_df.user_id.isin(all_included)].copy()\n",
    "test_df = test_df.loc[test_df.user_id.isin(all_included)].copy()\n",
    "\n",
    "assert train_df.last_watch_dt.max() < test_df.last_watch_dt.min()\n",
    "assert train_df.user_id.nunique() == n_users\n",
    "assert test_df.user_id.nunique() == n_users"
   ]
  },
  {
   "cell_type": "code",
   "execution_count": 8,
   "id": "1c995549-bc88-4af3-a8ce-ca19baa30ee2",
   "metadata": {
    "colab": {
     "base_uri": "https://localhost:8080/",
     "height": 206
    },
    "id": "1c995549-bc88-4af3-a8ce-ca19baa30ee2",
    "outputId": "b0e5cd25-3f51-457a-808f-ccd23a4c677d"
   },
   "outputs": [
    {
     "data": {
      "text/html": [
       "<div>\n",
       "<style scoped>\n",
       "    .dataframe tbody tr th:only-of-type {\n",
       "        vertical-align: middle;\n",
       "    }\n",
       "\n",
       "    .dataframe tbody tr th {\n",
       "        vertical-align: top;\n",
       "    }\n",
       "\n",
       "    .dataframe thead th {\n",
       "        text-align: right;\n",
       "    }\n",
       "</style>\n",
       "<table border=\"1\" class=\"dataframe\">\n",
       "  <thead>\n",
       "    <tr style=\"text-align: right;\">\n",
       "      <th></th>\n",
       "      <th>user_id</th>\n",
       "      <th>item_id</th>\n",
       "      <th>last_watch_dt</th>\n",
       "      <th>total_dur</th>\n",
       "      <th>watched_pct</th>\n",
       "    </tr>\n",
       "  </thead>\n",
       "  <tbody>\n",
       "    <tr>\n",
       "      <th>33</th>\n",
       "      <td>68478</td>\n",
       "      <td>9728</td>\n",
       "      <td>151</td>\n",
       "      <td>139</td>\n",
       "      <td>2.0</td>\n",
       "    </tr>\n",
       "    <tr>\n",
       "      <th>87</th>\n",
       "      <td>379585</td>\n",
       "      <td>9070</td>\n",
       "      <td>151</td>\n",
       "      <td>2301</td>\n",
       "      <td>35.0</td>\n",
       "    </tr>\n",
       "    <tr>\n",
       "      <th>114</th>\n",
       "      <td>806082</td>\n",
       "      <td>579</td>\n",
       "      <td>110</td>\n",
       "      <td>836</td>\n",
       "      <td>11.0</td>\n",
       "    </tr>\n",
       "    <tr>\n",
       "      <th>189</th>\n",
       "      <td>969875</td>\n",
       "      <td>372</td>\n",
       "      <td>122</td>\n",
       "      <td>567</td>\n",
       "      <td>12.0</td>\n",
       "    </tr>\n",
       "    <tr>\n",
       "      <th>234</th>\n",
       "      <td>20224</td>\n",
       "      <td>8650</td>\n",
       "      <td>102</td>\n",
       "      <td>154</td>\n",
       "      <td>3.0</td>\n",
       "    </tr>\n",
       "  </tbody>\n",
       "</table>\n",
       "</div>"
      ],
      "text/plain": [
       "     user_id  item_id  last_watch_dt  total_dur  watched_pct\n",
       "33     68478     9728            151        139          2.0\n",
       "87    379585     9070            151       2301         35.0\n",
       "114   806082      579            110        836         11.0\n",
       "189   969875      372            122        567         12.0\n",
       "234    20224     8650            102        154          3.0"
      ]
     },
     "execution_count": 8,
     "metadata": {},
     "output_type": "execute_result"
    }
   ],
   "source": [
    "train_df.head()"
   ]
  },
  {
   "cell_type": "code",
   "execution_count": 9,
   "id": "4a1e9f17-02e9-4c7f-aa54-4a331b7244b2",
   "metadata": {
    "colab": {
     "base_uri": "https://localhost:8080/",
     "height": 206
    },
    "id": "4a1e9f17-02e9-4c7f-aa54-4a331b7244b2",
    "outputId": "6210ca52-f2a5-4594-d20f-8e17a3a27046"
   },
   "outputs": [
    {
     "name": "stderr",
     "output_type": "stream",
     "text": [
      "C:\\Users\\DARYA\\AppData\\Local\\Temp\\ipykernel_4700\\1105526701.py:1: DeprecationWarning: DataFrameGroupBy.apply operated on the grouping columns. This behavior is deprecated, and in a future version of pandas the grouping columns will be excluded from the operation. Either pass `include_groups=False` to exclude the groupings or explicitly select the grouping columns after groupby to silence this warning.\n",
      "  train_grouped = train_df.groupby('user_id').apply(\n",
      "C:\\Users\\DARYA\\AppData\\Local\\Temp\\ipykernel_4700\\1105526701.py:7: DeprecationWarning: DataFrameGroupBy.apply operated on the grouping columns. This behavior is deprecated, and in a future version of pandas the grouping columns will be excluded from the operation. Either pass `include_groups=False` to exclude the groupings or explicitly select the grouping columns after groupby to silence this warning.\n",
      "  test_grouped = test_df.groupby('user_id').apply(\n"
     ]
    },
    {
     "data": {
      "text/html": [
       "<div>\n",
       "<style scoped>\n",
       "    .dataframe tbody tr th:only-of-type {\n",
       "        vertical-align: middle;\n",
       "    }\n",
       "\n",
       "    .dataframe tbody tr th {\n",
       "        vertical-align: top;\n",
       "    }\n",
       "\n",
       "    .dataframe thead th {\n",
       "        text-align: right;\n",
       "    }\n",
       "</style>\n",
       "<table border=\"1\" class=\"dataframe\">\n",
       "  <thead>\n",
       "    <tr style=\"text-align: right;\">\n",
       "      <th></th>\n",
       "      <th>user_id</th>\n",
       "      <th>train_interactions</th>\n",
       "    </tr>\n",
       "  </thead>\n",
       "  <tbody>\n",
       "    <tr>\n",
       "      <th>0</th>\n",
       "      <td>120</td>\n",
       "      <td>[(15297, 151), (6809, 151), (1000, 151)]</td>\n",
       "    </tr>\n",
       "    <tr>\n",
       "      <th>1</th>\n",
       "      <td>170</td>\n",
       "      <td>[(13237, 152), (4331, 152)]</td>\n",
       "    </tr>\n",
       "    <tr>\n",
       "      <th>2</th>\n",
       "      <td>189</td>\n",
       "      <td>[(5505, 144)]</td>\n",
       "    </tr>\n",
       "    <tr>\n",
       "      <th>3</th>\n",
       "      <td>313</td>\n",
       "      <td>[(14170, 4), (162, 4), (8276, 6), (758, 14), (...</td>\n",
       "    </tr>\n",
       "    <tr>\n",
       "      <th>4</th>\n",
       "      <td>480</td>\n",
       "      <td>[(7389, 51), (9314, 51), (760, 55), (9709, 56)...</td>\n",
       "    </tr>\n",
       "  </tbody>\n",
       "</table>\n",
       "</div>"
      ],
      "text/plain": [
       "   user_id                                 train_interactions\n",
       "0      120           [(15297, 151), (6809, 151), (1000, 151)]\n",
       "1      170                        [(13237, 152), (4331, 152)]\n",
       "2      189                                      [(5505, 144)]\n",
       "3      313  [(14170, 4), (162, 4), (8276, 6), (758, 14), (...\n",
       "4      480  [(7389, 51), (9314, 51), (760, 55), (9709, 56)..."
      ]
     },
     "execution_count": 9,
     "metadata": {},
     "output_type": "execute_result"
    }
   ],
   "source": [
    "train_grouped = train_df.groupby('user_id').apply(\n",
    "    lambda x: [(t1, t2) for t1, t2 in sorted(zip(x.item_id,\n",
    "                                                 x.last_watch_dt), key=lambda x: x[1])]\n",
    ").reset_index()\n",
    "train_grouped.rename({0:'train_interactions'}, axis=1, inplace=True)\n",
    "\n",
    "test_grouped = test_df.groupby('user_id').apply(\n",
    "    lambda x: [(t1, t2) for t1, t2 in sorted(zip(x.item_id,\n",
    "                                                         x.last_watch_dt), key=lambda x: x[1])]\n",
    ").reset_index()\n",
    "test_grouped.rename({0:'test_interactions'}, axis=1, inplace=True)\n",
    "\n",
    "train_grouped.head()"
   ]
  },
  {
   "cell_type": "code",
   "execution_count": 10,
   "id": "594ade13-ff8b-4ded-9c73-00ea48be4bd9",
   "metadata": {
    "colab": {
     "base_uri": "https://localhost:8080/",
     "height": 206
    },
    "id": "594ade13-ff8b-4ded-9c73-00ea48be4bd9",
    "outputId": "1e4c65ad-171a-497e-f65d-0af5bd96c90d"
   },
   "outputs": [
    {
     "data": {
      "text/html": [
       "<div>\n",
       "<style scoped>\n",
       "    .dataframe tbody tr th:only-of-type {\n",
       "        vertical-align: middle;\n",
       "    }\n",
       "\n",
       "    .dataframe tbody tr th {\n",
       "        vertical-align: top;\n",
       "    }\n",
       "\n",
       "    .dataframe thead th {\n",
       "        text-align: right;\n",
       "    }\n",
       "</style>\n",
       "<table border=\"1\" class=\"dataframe\">\n",
       "  <thead>\n",
       "    <tr style=\"text-align: right;\">\n",
       "      <th></th>\n",
       "      <th>user_id</th>\n",
       "      <th>train_interactions</th>\n",
       "      <th>test_interactions</th>\n",
       "    </tr>\n",
       "  </thead>\n",
       "  <tbody>\n",
       "    <tr>\n",
       "      <th>0</th>\n",
       "      <td>120</td>\n",
       "      <td>[(15297, 151), (6809, 151), (1000, 151)]</td>\n",
       "      <td>[(10440, 157), (13865, 157)]</td>\n",
       "    </tr>\n",
       "    <tr>\n",
       "      <th>1</th>\n",
       "      <td>170</td>\n",
       "      <td>[(13237, 152), (4331, 152)]</td>\n",
       "      <td>[(1453, 153), (741, 154), (15679, 154), (11083...</td>\n",
       "    </tr>\n",
       "    <tr>\n",
       "      <th>2</th>\n",
       "      <td>189</td>\n",
       "      <td>[(5505, 144)]</td>\n",
       "      <td>[(12360, 155), (6898, 155), (4549, 160), (582,...</td>\n",
       "    </tr>\n",
       "    <tr>\n",
       "      <th>3</th>\n",
       "      <td>313</td>\n",
       "      <td>[(14170, 4), (162, 4), (8276, 6), (758, 14), (...</td>\n",
       "      <td>[(9062, 156)]</td>\n",
       "    </tr>\n",
       "    <tr>\n",
       "      <th>4</th>\n",
       "      <td>480</td>\n",
       "      <td>[(7389, 51), (9314, 51), (760, 55), (9709, 56)...</td>\n",
       "      <td>[(7025, 161)]</td>\n",
       "    </tr>\n",
       "  </tbody>\n",
       "</table>\n",
       "</div>"
      ],
      "text/plain": [
       "   user_id                                 train_interactions  \\\n",
       "0      120           [(15297, 151), (6809, 151), (1000, 151)]   \n",
       "1      170                        [(13237, 152), (4331, 152)]   \n",
       "2      189                                      [(5505, 144)]   \n",
       "3      313  [(14170, 4), (162, 4), (8276, 6), (758, 14), (...   \n",
       "4      480  [(7389, 51), (9314, 51), (760, 55), (9709, 56)...   \n",
       "\n",
       "                                   test_interactions  \n",
       "0                       [(10440, 157), (13865, 157)]  \n",
       "1  [(1453, 153), (741, 154), (15679, 154), (11083...  \n",
       "2  [(12360, 155), (6898, 155), (4549, 160), (582,...  \n",
       "3                                      [(9062, 156)]  \n",
       "4                                      [(7025, 161)]  "
      ]
     },
     "execution_count": 10,
     "metadata": {},
     "output_type": "execute_result"
    }
   ],
   "source": [
    "joined = train_grouped.merge(test_grouped)\n",
    "joined.head()"
   ]
  },
  {
   "cell_type": "code",
   "execution_count": 11,
   "id": "dd2ee6a6-914c-4f2d-91c8-c80bde97d84e",
   "metadata": {
    "colab": {
     "base_uri": "https://localhost:8080/",
     "height": 293
    },
    "id": "dd2ee6a6-914c-4f2d-91c8-c80bde97d84e",
    "outputId": "27bc3f05-b1b4-4bf8-de05-04ea850a7c28"
   },
   "outputs": [
    {
     "data": {
      "text/html": [
       "<div>\n",
       "<style scoped>\n",
       "    .dataframe tbody tr th:only-of-type {\n",
       "        vertical-align: middle;\n",
       "    }\n",
       "\n",
       "    .dataframe tbody tr th {\n",
       "        vertical-align: top;\n",
       "    }\n",
       "\n",
       "    .dataframe thead th {\n",
       "        text-align: right;\n",
       "    }\n",
       "</style>\n",
       "<table border=\"1\" class=\"dataframe\">\n",
       "  <thead>\n",
       "    <tr style=\"text-align: right;\">\n",
       "      <th></th>\n",
       "      <th>user_id</th>\n",
       "      <th>train_interactions</th>\n",
       "      <th>test_interactions</th>\n",
       "      <th>random_recs</th>\n",
       "    </tr>\n",
       "  </thead>\n",
       "  <tbody>\n",
       "    <tr>\n",
       "      <th>0</th>\n",
       "      <td>120</td>\n",
       "      <td>[(15297, 151), (6809, 151), (1000, 151)]</td>\n",
       "      <td>[(10440, 157), (13865, 157)]</td>\n",
       "      <td>[14119, 2025, 10442, 46, 11092, 2798, 15227, 1...</td>\n",
       "    </tr>\n",
       "    <tr>\n",
       "      <th>1</th>\n",
       "      <td>170</td>\n",
       "      <td>[(13237, 152), (4331, 152)]</td>\n",
       "      <td>[(1453, 153), (741, 154), (15679, 154), (11083...</td>\n",
       "      <td>[14119, 2025, 10442, 46, 11092, 2798, 15227, 1...</td>\n",
       "    </tr>\n",
       "    <tr>\n",
       "      <th>2</th>\n",
       "      <td>189</td>\n",
       "      <td>[(5505, 144)]</td>\n",
       "      <td>[(12360, 155), (6898, 155), (4549, 160), (582,...</td>\n",
       "      <td>[14119, 2025, 10442, 46, 11092, 2798, 15227, 1...</td>\n",
       "    </tr>\n",
       "    <tr>\n",
       "      <th>3</th>\n",
       "      <td>313</td>\n",
       "      <td>[(14170, 4), (162, 4), (8276, 6), (758, 14), (...</td>\n",
       "      <td>[(9062, 156)]</td>\n",
       "      <td>[14119, 2025, 10442, 46, 11092, 2798, 15227, 1...</td>\n",
       "    </tr>\n",
       "    <tr>\n",
       "      <th>4</th>\n",
       "      <td>480</td>\n",
       "      <td>[(7389, 51), (9314, 51), (760, 55), (9709, 56)...</td>\n",
       "      <td>[(7025, 161)]</td>\n",
       "      <td>[14119, 2025, 10442, 46, 11092, 2798, 15227, 1...</td>\n",
       "    </tr>\n",
       "  </tbody>\n",
       "</table>\n",
       "</div>"
      ],
      "text/plain": [
       "   user_id                                 train_interactions  \\\n",
       "0      120           [(15297, 151), (6809, 151), (1000, 151)]   \n",
       "1      170                        [(13237, 152), (4331, 152)]   \n",
       "2      189                                      [(5505, 144)]   \n",
       "3      313  [(14170, 4), (162, 4), (8276, 6), (758, 14), (...   \n",
       "4      480  [(7389, 51), (9314, 51), (760, 55), (9709, 56)...   \n",
       "\n",
       "                                   test_interactions  \\\n",
       "0                       [(10440, 157), (13865, 157)]   \n",
       "1  [(1453, 153), (741, 154), (15679, 154), (11083...   \n",
       "2  [(12360, 155), (6898, 155), (4549, 160), (582,...   \n",
       "3                                      [(9062, 156)]   \n",
       "4                                      [(7025, 161)]   \n",
       "\n",
       "                                         random_recs  \n",
       "0  [14119, 2025, 10442, 46, 11092, 2798, 15227, 1...  \n",
       "1  [14119, 2025, 10442, 46, 11092, 2798, 15227, 1...  \n",
       "2  [14119, 2025, 10442, 46, 11092, 2798, 15227, 1...  \n",
       "3  [14119, 2025, 10442, 46, 11092, 2798, 15227, 1...  \n",
       "4  [14119, 2025, 10442, 46, 11092, 2798, 15227, 1...  "
      ]
     },
     "execution_count": 11,
     "metadata": {},
     "output_type": "execute_result"
    }
   ],
   "source": [
    "np.random.seed(777)\n",
    "\n",
    "class Random:\n",
    "\n",
    "    def __init__(self):\n",
    "\n",
    "        self.trained = False\n",
    "\n",
    "    def fit(self, df, col='train_interactions'):\n",
    "\n",
    "        items = set()\n",
    "        for _, row in df.iterrows():\n",
    "            for item, _ in row[col]:\n",
    "                items.add(item)\n",
    "\n",
    "        self.items = list(items)\n",
    "        self.trained = True\n",
    "\n",
    "    def predict(self, df, topn=10):\n",
    "        assert self.trained\n",
    "        return [np.random.choice(self.items, replace=False, size=topn)]*len(df)\n",
    "\n",
    "\n",
    "random = Random()\n",
    "random.fit(joined)\n",
    "\n",
    "joined['random_recs'] = random.predict(joined, topn=10)\n",
    "joined.head()"
   ]
  },
  {
   "cell_type": "markdown",
   "id": "30934f45-28dc-41d3-9263-e93ca0dabb1b",
   "metadata": {
    "id": "30934f45-28dc-41d3-9263-e93ca0dabb1b"
   },
   "source": [
    "**Задание №1. Метрики и бейзлайны**\n",
    "\n",
    "Добавьте реализацию метрик AP, RR, HR, их усреднённые версии по $U$ мы посчитаем ниже, если следовать коду с семинара, поэтому формулы немного отличаются. За имплементацию с циклами балл будет снижаться, векторизуйте! ( ͡° ͜ʖ ͡°)"
   ]
  },
  {
   "cell_type": "markdown",
   "id": "mgj_xY1Vc5b8",
   "metadata": {
    "id": "mgj_xY1Vc5b8"
   },
   "source": [
    "$$\n",
    "AP_u@k = \\frac{1}{\\min(k, n_u)} \\sum_{i=1}^k r_u(i) p_u@i\n",
    "$$\n",
    "$$\n",
    "p_u@k = \\dfrac{1}{k}\\sum_{j=1}^k r_u(j)\n",
    "$$\n",
    "$$\n",
    "RR@k = \\dfrac{1}{\\text{rank}_i@k}\n",
    "$$\n",
    "$$\n",
    "HR@k = [\\exists \\ y_i = 1 \\ \\text{among k preds}]\n",
    "$$\n",
    "\n",
    "\n",
    "*   $n_u$ - число айтемов, с которыми взаимодействовал юзер $u$\n",
    "*   $y_i$ - релевантно ли $i$-ое предсказание, $y_i \\in \\{0,1\\}$\n",
    "* $\\text{rank}_i@k$ - позиция первого релеваннтого айтема среди первых $k$ предсказаний\n",
    "* HR@k - среди первых $k$ предсказаний есть хотя бы одно релевантное\n",
    "\n",
    "Считайте, что если `topn` не задано, то берётся всегда $n_u$. "
   ]
  },
  {
   "cell_type": "code",
   "execution_count": 12,
   "id": "60c1459f-7341-416f-94c7-55f30253e217",
   "metadata": {
    "id": "60c1459f-7341-416f-94c7-55f30253e217"
   },
   "outputs": [],
   "source": [
    "def ap_metric(\n",
    "    gt_items: List[int],\n",
    "    predictions: List[int],\n",
    "    topn: Optional[int]=None\n",
    "):\n",
    "\n",
    "    if topn is None:\n",
    "        topn = len(predictions)\n",
    "    else:\n",
    "        topn = min(topn, len(predictions))\n",
    "\n",
    "    checking = []\n",
    "    for p in predictions[:topn]:\n",
    "        if p in gt_items:\n",
    "            checking.append(1)\n",
    "        else:\n",
    "            checking.append(0)\n",
    "    \n",
    "    sum_el = 0\n",
    "    index = 1\n",
    "    for p in checking:\n",
    "        sum_el += p * (1./index) * sum(checking[:index])\n",
    "        index += 1\n",
    "        \n",
    "\n",
    "\n",
    "    return 1. / min(topn, len(gt_items)) * sum_el\n",
    "\n",
    "def rr_metric(\n",
    "    gt_items: List[int],\n",
    "    predictions: List[int],\n",
    "    topn: Optional[int]=None\n",
    "):\n",
    "\n",
    "    \n",
    "    if topn is None:\n",
    "        topn = len(predictions)\n",
    "    else:\n",
    "        topn = min(topn, len(predictions))\n",
    "\n",
    "    for i in range(1, topn + 1):\n",
    "        if predictions[i-1] in gt_items:\n",
    "            return 1. / i \n",
    "        \n",
    "    return 0\n",
    "\n",
    "def hr_metric(\n",
    "    gt_items: List[int],\n",
    "    predictions: List[int],\n",
    "    topn: Optional[int]=None\n",
    "):\n",
    "\n",
    "    if topn is None:\n",
    "        topn = len(predictions)\n",
    "    else:\n",
    "        topn = min(topn, len(predictions))\n",
    "\n",
    "    if len(set(gt_items) & set(predictions[:topn])) > 0:\n",
    "        return 1\n",
    "    \n",
    "    return 0\n"
   ]
  },
  {
   "cell_type": "markdown",
   "id": "k83GlXGhMt6P",
   "metadata": {
    "id": "k83GlXGhMt6P"
   },
   "source": [
    "Для вашего удобства в файле `metric_tests.py` есть тесты, но хардкодить их, разумеется, не стоит. "
   ]
  },
  {
   "cell_type": "code",
   "execution_count": 13,
   "id": "xtqG_ri3MSO2",
   "metadata": {
    "id": "xtqG_ri3MSO2"
   },
   "outputs": [],
   "source": [
    "run_tests(ap_metric, rr_metric, hr_metric)"
   ]
  },
  {
   "cell_type": "markdown",
   "id": "di3dR9-mM34j",
   "metadata": {
    "id": "di3dR9-mM34j"
   },
   "source": [
    "В следующей ячейке код, который считает и усредняет метрики по юзерам. Он взят с семинара, при желании можно его тоже модифицировать, например, векторизовать. "
   ]
  },
  {
   "cell_type": "code",
   "execution_count": 14,
   "id": "YHz9p4SOg6eN",
   "metadata": {
    "id": "YHz9p4SOg6eN"
   },
   "outputs": [],
   "source": [
    "def evaluate_recommender(df, model_preds, gt_col='test_interactions'):\n",
    "\n",
    "    metric_values = []\n",
    "\n",
    "    for idx, row in df.iterrows():\n",
    "        gt_items = [x[0] for x in row[gt_col]]\n",
    "        predictions = row[model_preds]\n",
    "\n",
    "        ap = ap_metric(gt_items, predictions)\n",
    "        rr = rr_metric(gt_items, predictions)\n",
    "        hr = hr_metric(gt_items, predictions)\n",
    "\n",
    "        metric_values.append((ap, rr, hr))\n",
    "\n",
    "    return {'map': np.mean([x[0] for x in metric_values]),\n",
    "            'mrr': np.mean([x[1] for x in metric_values]),\n",
    "            'hr': np.mean([x[2] for x in metric_values])}"
   ]
  },
  {
   "cell_type": "markdown",
   "id": "HHwUiR0BNOqB",
   "metadata": {
    "id": "HHwUiR0BNOqB"
   },
   "source": [
    "Если вы всё сделали правильно, рандомные предсказания должны дать хоть какое-то качество, но не очень большое."
   ]
  },
  {
   "cell_type": "code",
   "execution_count": 15,
   "id": "107b24e3-00d0-4466-be0f-3377d34c83a0",
   "metadata": {
    "id": "107b24e3-00d0-4466-be0f-3377d34c83a0"
   },
   "outputs": [
    {
     "data": {
      "text/plain": [
       "{'map': 0.001022595238095238, 'mrr': 0.003844444444444444, 'hr': 0.0084}"
      ]
     },
     "execution_count": 15,
     "metadata": {},
     "output_type": "execute_result"
    }
   ],
   "source": [
    "evaluate_recommender(joined, model_preds='random_recs')"
   ]
  },
  {
   "cell_type": "code",
   "execution_count": 16,
   "id": "ac8d261e-1b5f-4894-93db-eb9eb414bfd1",
   "metadata": {
    "colab": {
     "base_uri": "https://localhost:8080/",
     "height": 379
    },
    "id": "ac8d261e-1b5f-4894-93db-eb9eb414bfd1",
    "outputId": "808e1eec-48d3-40f8-809f-a51c3b3b7fd6"
   },
   "outputs": [
    {
     "data": {
      "text/html": [
       "<div>\n",
       "<style scoped>\n",
       "    .dataframe tbody tr th:only-of-type {\n",
       "        vertical-align: middle;\n",
       "    }\n",
       "\n",
       "    .dataframe tbody tr th {\n",
       "        vertical-align: top;\n",
       "    }\n",
       "\n",
       "    .dataframe thead th {\n",
       "        text-align: right;\n",
       "    }\n",
       "</style>\n",
       "<table border=\"1\" class=\"dataframe\">\n",
       "  <thead>\n",
       "    <tr style=\"text-align: right;\">\n",
       "      <th></th>\n",
       "      <th>user_id</th>\n",
       "      <th>train_interactions</th>\n",
       "      <th>test_interactions</th>\n",
       "      <th>random_recs</th>\n",
       "      <th>toppopular_recs</th>\n",
       "    </tr>\n",
       "  </thead>\n",
       "  <tbody>\n",
       "    <tr>\n",
       "      <th>0</th>\n",
       "      <td>120</td>\n",
       "      <td>[(15297, 151), (6809, 151), (1000, 151)]</td>\n",
       "      <td>[(10440, 157), (13865, 157)]</td>\n",
       "      <td>[14119, 2025, 10442, 46, 11092, 2798, 15227, 1...</td>\n",
       "      <td>[10440, 9728, 15297, 13865, 3734, 4151, 4880, ...</td>\n",
       "    </tr>\n",
       "    <tr>\n",
       "      <th>1</th>\n",
       "      <td>170</td>\n",
       "      <td>[(13237, 152), (4331, 152)]</td>\n",
       "      <td>[(1453, 153), (741, 154), (15679, 154), (11083...</td>\n",
       "      <td>[14119, 2025, 10442, 46, 11092, 2798, 15227, 1...</td>\n",
       "      <td>[10440, 9728, 15297, 13865, 3734, 4151, 4880, ...</td>\n",
       "    </tr>\n",
       "    <tr>\n",
       "      <th>2</th>\n",
       "      <td>189</td>\n",
       "      <td>[(5505, 144)]</td>\n",
       "      <td>[(12360, 155), (6898, 155), (4549, 160), (582,...</td>\n",
       "      <td>[14119, 2025, 10442, 46, 11092, 2798, 15227, 1...</td>\n",
       "      <td>[10440, 9728, 15297, 13865, 3734, 4151, 4880, ...</td>\n",
       "    </tr>\n",
       "    <tr>\n",
       "      <th>3</th>\n",
       "      <td>313</td>\n",
       "      <td>[(14170, 4), (162, 4), (8276, 6), (758, 14), (...</td>\n",
       "      <td>[(9062, 156)]</td>\n",
       "      <td>[14119, 2025, 10442, 46, 11092, 2798, 15227, 1...</td>\n",
       "      <td>[10440, 9728, 15297, 13865, 3734, 4151, 4880, ...</td>\n",
       "    </tr>\n",
       "    <tr>\n",
       "      <th>4</th>\n",
       "      <td>480</td>\n",
       "      <td>[(7389, 51), (9314, 51), (760, 55), (9709, 56)...</td>\n",
       "      <td>[(7025, 161)]</td>\n",
       "      <td>[14119, 2025, 10442, 46, 11092, 2798, 15227, 1...</td>\n",
       "      <td>[10440, 9728, 15297, 13865, 3734, 4151, 4880, ...</td>\n",
       "    </tr>\n",
       "  </tbody>\n",
       "</table>\n",
       "</div>"
      ],
      "text/plain": [
       "   user_id                                 train_interactions  \\\n",
       "0      120           [(15297, 151), (6809, 151), (1000, 151)]   \n",
       "1      170                        [(13237, 152), (4331, 152)]   \n",
       "2      189                                      [(5505, 144)]   \n",
       "3      313  [(14170, 4), (162, 4), (8276, 6), (758, 14), (...   \n",
       "4      480  [(7389, 51), (9314, 51), (760, 55), (9709, 56)...   \n",
       "\n",
       "                                   test_interactions  \\\n",
       "0                       [(10440, 157), (13865, 157)]   \n",
       "1  [(1453, 153), (741, 154), (15679, 154), (11083...   \n",
       "2  [(12360, 155), (6898, 155), (4549, 160), (582,...   \n",
       "3                                      [(9062, 156)]   \n",
       "4                                      [(7025, 161)]   \n",
       "\n",
       "                                         random_recs  \\\n",
       "0  [14119, 2025, 10442, 46, 11092, 2798, 15227, 1...   \n",
       "1  [14119, 2025, 10442, 46, 11092, 2798, 15227, 1...   \n",
       "2  [14119, 2025, 10442, 46, 11092, 2798, 15227, 1...   \n",
       "3  [14119, 2025, 10442, 46, 11092, 2798, 15227, 1...   \n",
       "4  [14119, 2025, 10442, 46, 11092, 2798, 15227, 1...   \n",
       "\n",
       "                                     toppopular_recs  \n",
       "0  [10440, 9728, 15297, 13865, 3734, 4151, 4880, ...  \n",
       "1  [10440, 9728, 15297, 13865, 3734, 4151, 4880, ...  \n",
       "2  [10440, 9728, 15297, 13865, 3734, 4151, 4880, ...  \n",
       "3  [10440, 9728, 15297, 13865, 3734, 4151, 4880, ...  \n",
       "4  [10440, 9728, 15297, 13865, 3734, 4151, 4880, ...  "
      ]
     },
     "execution_count": 16,
     "metadata": {},
     "output_type": "execute_result"
    }
   ],
   "source": [
    "class TopPopular:\n",
    "\n",
    "    def __init__(self):\n",
    "\n",
    "        self.trained = False\n",
    "\n",
    "    def fit(self, df, col='train_interactions'):\n",
    "\n",
    "        counts = {}\n",
    "        for _, row in df.iterrows():\n",
    "            for item, _ in row[col]:\n",
    "                if item in counts:\n",
    "                    counts[item] += 1\n",
    "                else:\n",
    "                    counts[item] = 1\n",
    "\n",
    "        counts = sorted(counts.items(), key=lambda x: x[1], reverse=True)\n",
    "\n",
    "        self.recommenations = [x[0] for x in counts]\n",
    "        self.trained = True\n",
    "\n",
    "    def predict(self, df, topn=10)  -> List[np.ndarray]:\n",
    "\n",
    "        assert self.trained\n",
    "        return [self.recommenations[:topn]]*len(df)\n",
    "\n",
    "\n",
    "toppop = TopPopular()\n",
    "toppop.fit(joined)\n",
    "\n",
    "joined['toppopular_recs'] = toppop.predict(joined)\n",
    "joined.head()"
   ]
  },
  {
   "cell_type": "markdown",
   "id": "U6Yovxc4NbdO",
   "metadata": {
    "id": "U6Yovxc4NbdO"
   },
   "source": [
    "Самые популярные предсказания должны показать более высокое качество."
   ]
  },
  {
   "cell_type": "code",
   "execution_count": 17,
   "id": "dfd3c545-53f8-46a4-89b9-4cf61475599a",
   "metadata": {
    "id": "dfd3c545-53f8-46a4-89b9-4cf61475599a"
   },
   "outputs": [
    {
     "data": {
      "text/plain": [
       "{'map': 0.06522589663643234, 'mrr': 0.11736071428571426, 'hr': 0.2716}"
      ]
     },
     "execution_count": 17,
     "metadata": {},
     "output_type": "execute_result"
    }
   ],
   "source": [
    "evaluate_recommender(joined, model_preds='toppopular_recs')"
   ]
  },
  {
   "cell_type": "markdown",
   "id": "dcf7944e-962d-4206-8cfe-afa5162512b3",
   "metadata": {
    "id": "dcf7944e-962d-4206-8cfe-afa5162512b3"
   },
   "source": [
    "**Задание №2. Рекомендации в окне**\n",
    "\n",
    "Здесь необходимо переделать метод рекомендации по популярности так, что популярность считается только за какое-то более свежее временное окно. Под окном подразумевается какой-то временной промежуток, например, ближайший месяц. Соответственно, всё что за его пределами, не учитывается."
   ]
  },
  {
   "cell_type": "code",
   "execution_count": 18,
   "id": "4a01f209-5f6a-4643-9d1d-5fcec5598f28",
   "metadata": {
    "id": "4a01f209-5f6a-4643-9d1d-5fcec5598f28"
   },
   "outputs": [],
   "source": [
    "class TopPopularWeighted(TopPopular):\n",
    "\n",
    "    def __init__(self, min_window=2):\n",
    "        super().__init__()\n",
    "        self.min_window = min_window\n",
    "\n",
    "    def fit(self, df, col='train_interactions'):\n",
    "        counts = {}\n",
    "        time_max = -1\n",
    "        for _, row in df.iterrows():\n",
    "            for item, time in row[col]:\n",
    "                if time > time_max:\n",
    "                    time_max = time\n",
    "                    \n",
    "                if item in counts:\n",
    "                    counts[item].append(time)\n",
    "                else:\n",
    "                    counts[item] = [time]\n",
    "\n",
    "        min_time_in_window = time_max - self.min_window\n",
    "\n",
    "        remove_k = []\n",
    "\n",
    "        for key in counts.items():\n",
    "            item = key[0]\n",
    "            counts[item] = len([i for i in counts[item] if i >=min_time_in_window])\n",
    "\n",
    "            if counts[item] == 0:\n",
    "                remove_k.append(item)\n",
    "\n",
    "        for i in remove_k:\n",
    "            counts.pop(i)\n",
    "\n",
    "        counts = sorted(counts.items(), key=lambda x: x[1], reverse=True)\n",
    "\n",
    "        self.recommenations = [x[0] for x in counts]\n",
    "        self.trained = True\n",
    "    \n",
    "    def predict(self, df, topn=10)  -> List[np.ndarray]:\n",
    "\n",
    "        assert self.trained\n",
    "        return [self.recommenations[:topn]]*len(df)\n",
    "        \n",
    "        \n"
   ]
  },
  {
   "cell_type": "markdown",
   "id": "YKmJId7cOWh6",
   "metadata": {
    "id": "YKmJId7cOWh6"
   },
   "source": [
    "Теперь постройте графики зависимости значений трёх метрик (AP@k, RR@k, HR@k) от размера окна. "
   ]
  },
  {
   "cell_type": "code",
   "execution_count": 19,
   "id": "mdxBytDB8gkm",
   "metadata": {
    "id": "mdxBytDB8gkm"
   },
   "outputs": [
    {
     "name": "stdout",
     "output_type": "stream",
     "text": [
      "    window       map       mrr      hr\n",
      "1      1.0  0.070068  0.127180  0.3042\n",
      "6      6.0  0.071317  0.128567  0.3142\n",
      "11    11.0  0.071040  0.128073  0.3127\n",
      "16    16.0  0.070897  0.127873  0.3127\n",
      "21    21.0  0.068804  0.125682  0.2865\n"
     ]
    }
   ],
   "source": [
    "window_size = range(1, 100, 5)\n",
    "\n",
    "dfw = pd.DataFrame({'window':[], 'map':[], 'mrr':[], 'hr':[]})\n",
    "\n",
    "for i in window_size:\n",
    "    toppop_wind = TopPopularWeighted(i)\n",
    "    toppop_wind.fit(joined)\n",
    "    joined['toppopular_wind_recs'] = toppop_wind.predict(joined)\n",
    "\n",
    "    res = evaluate_recommender(joined, model_preds='toppopular_wind_recs')\n",
    "    dfw.loc[i] = [i, res['map'], res['mrr'], res['hr']]\n",
    "\n",
    "print(dfw.head())"
   ]
  },
  {
   "cell_type": "code",
   "execution_count": 20,
   "id": "5f870cd8",
   "metadata": {},
   "outputs": [
    {
     "name": "stderr",
     "output_type": "stream",
     "text": [
      "d:\\Programs\\anac\\Lib\\site-packages\\seaborn\\_oldcore.py:1119: FutureWarning: use_inf_as_na option is deprecated and will be removed in a future version. Convert inf values to NaN before operating instead.\n",
      "  with pd.option_context('mode.use_inf_as_na', True):\n",
      "d:\\Programs\\anac\\Lib\\site-packages\\seaborn\\_oldcore.py:1119: FutureWarning: use_inf_as_na option is deprecated and will be removed in a future version. Convert inf values to NaN before operating instead.\n",
      "  with pd.option_context('mode.use_inf_as_na', True):\n",
      "d:\\Programs\\anac\\Lib\\site-packages\\seaborn\\_oldcore.py:1075: FutureWarning: When grouping with a length-1 list-like, you will need to pass a length-1 tuple to get_group in a future version of pandas. Pass `(name,)` instead of `name` to silence this warning.\n",
      "  data_subset = grouped_data.get_group(pd_key)\n",
      "d:\\Programs\\anac\\Lib\\site-packages\\seaborn\\_oldcore.py:1075: FutureWarning: When grouping with a length-1 list-like, you will need to pass a length-1 tuple to get_group in a future version of pandas. Pass `(name,)` instead of `name` to silence this warning.\n",
      "  data_subset = grouped_data.get_group(pd_key)\n",
      "d:\\Programs\\anac\\Lib\\site-packages\\seaborn\\_oldcore.py:1075: FutureWarning: When grouping with a length-1 list-like, you will need to pass a length-1 tuple to get_group in a future version of pandas. Pass `(name,)` instead of `name` to silence this warning.\n",
      "  data_subset = grouped_data.get_group(pd_key)\n"
     ]
    },
    {
     "data": {
      "text/plain": [
       "<Axes: xlabel='window', ylabel='value'>"
      ]
     },
     "execution_count": 20,
     "metadata": {},
     "output_type": "execute_result"
    },
    {
     "data": {
      "image/png": "[encoded data removed]",
      "text/plain": [
       "<Figure size 640x480 with 1 Axes>"
      ]
     },
     "metadata": {},
     "output_type": "display_data"
    }
   ],
   "source": [
    "import seaborn as sns\n",
    "\n",
    "dff = pd.melt(dfw, ['window'])\n",
    "sns.lineplot(data=dff, x='window', y='value', hue='variable')\n",
    "\n"
   ]
  },
  {
   "cell_type": "code",
   "execution_count": 21,
   "id": "d30b29a5",
   "metadata": {},
   "outputs": [
    {
     "data": {
      "text/html": [
       "<div>\n",
       "<style scoped>\n",
       "    .dataframe tbody tr th:only-of-type {\n",
       "        vertical-align: middle;\n",
       "    }\n",
       "\n",
       "    .dataframe tbody tr th {\n",
       "        vertical-align: top;\n",
       "    }\n",
       "\n",
       "    .dataframe thead th {\n",
       "        text-align: right;\n",
       "    }\n",
       "</style>\n",
       "<table border=\"1\" class=\"dataframe\">\n",
       "  <thead>\n",
       "    <tr style=\"text-align: right;\">\n",
       "      <th></th>\n",
       "      <th>user_id</th>\n",
       "      <th>item_id</th>\n",
       "      <th>last_watch_dt</th>\n",
       "      <th>total_dur</th>\n",
       "      <th>watched_pct</th>\n",
       "    </tr>\n",
       "  </thead>\n",
       "  <tbody>\n",
       "    <tr>\n",
       "      <th>count</th>\n",
       "      <td>5.476250e+06</td>\n",
       "      <td>5.476250e+06</td>\n",
       "      <td>5.476250e+06</td>\n",
       "      <td>5.476250e+06</td>\n",
       "      <td>5.475422e+06</td>\n",
       "    </tr>\n",
       "    <tr>\n",
       "      <th>mean</th>\n",
       "      <td>5.491159e+05</td>\n",
       "      <td>8.485861e+03</td>\n",
       "      <td>1.024973e+02</td>\n",
       "      <td>8.295491e+03</td>\n",
       "      <td>4.637400e+01</td>\n",
       "    </tr>\n",
       "    <tr>\n",
       "      <th>std</th>\n",
       "      <td>3.166077e+05</td>\n",
       "      <td>4.740762e+03</td>\n",
       "      <td>4.281572e+01</td>\n",
       "      <td>4.856800e+04</td>\n",
       "      <td>4.191853e+01</td>\n",
       "    </tr>\n",
       "    <tr>\n",
       "      <th>min</th>\n",
       "      <td>0.000000e+00</td>\n",
       "      <td>0.000000e+00</td>\n",
       "      <td>0.000000e+00</td>\n",
       "      <td>1.000000e+00</td>\n",
       "      <td>0.000000e+00</td>\n",
       "    </tr>\n",
       "    <tr>\n",
       "      <th>25%</th>\n",
       "      <td>2.750140e+05</td>\n",
       "      <td>4.326000e+03</td>\n",
       "      <td>7.300000e+01</td>\n",
       "      <td>3.710000e+02</td>\n",
       "      <td>4.000000e+00</td>\n",
       "    </tr>\n",
       "    <tr>\n",
       "      <th>50%</th>\n",
       "      <td>5.493640e+05</td>\n",
       "      <td>8.776000e+03</td>\n",
       "      <td>1.100000e+02</td>\n",
       "      <td>2.898000e+03</td>\n",
       "      <td>3.200000e+01</td>\n",
       "    </tr>\n",
       "    <tr>\n",
       "      <th>75%</th>\n",
       "      <td>8.227540e+05</td>\n",
       "      <td>1.254400e+04</td>\n",
       "      <td>1.390000e+02</td>\n",
       "      <td>7.116000e+03</td>\n",
       "      <td>1.000000e+02</td>\n",
       "    </tr>\n",
       "    <tr>\n",
       "      <th>max</th>\n",
       "      <td>1.097557e+06</td>\n",
       "      <td>1.651800e+04</td>\n",
       "      <td>1.620000e+02</td>\n",
       "      <td>8.041167e+07</td>\n",
       "      <td>1.000000e+02</td>\n",
       "    </tr>\n",
       "  </tbody>\n",
       "</table>\n",
       "</div>"
      ],
      "text/plain": [
       "            user_id       item_id  last_watch_dt     total_dur   watched_pct\n",
       "count  5.476250e+06  5.476250e+06   5.476250e+06  5.476250e+06  5.475422e+06\n",
       "mean   5.491159e+05  8.485861e+03   1.024973e+02  8.295491e+03  4.637400e+01\n",
       "std    3.166077e+05  4.740762e+03   4.281572e+01  4.856800e+04  4.191853e+01\n",
       "min    0.000000e+00  0.000000e+00   0.000000e+00  1.000000e+00  0.000000e+00\n",
       "25%    2.750140e+05  4.326000e+03   7.300000e+01  3.710000e+02  4.000000e+00\n",
       "50%    5.493640e+05  8.776000e+03   1.100000e+02  2.898000e+03  3.200000e+01\n",
       "75%    8.227540e+05  1.254400e+04   1.390000e+02  7.116000e+03  1.000000e+02\n",
       "max    1.097557e+06  1.651800e+04   1.620000e+02  8.041167e+07  1.000000e+02"
      ]
     },
     "execution_count": 21,
     "metadata": {},
     "output_type": "execute_result"
    }
   ],
   "source": [
    "df.describe()"
   ]
  },
  {
   "cell_type": "markdown",
   "id": "b_0ke9aD9nkO",
   "metadata": {
    "id": "b_0ke9aD9nkO"
   },
   "source": [
    "Подумайте и ответьте, как размер окна влияет на качество рекомендаций. Какое значение наилучшее, есть ли у этого разумное объяснение?\n",
    "\n",
    "**Ответ:** \n",
    "MAP - дает максимальное усредненное значение при окне = 1, далее метрика уменьшается и на значениях с 36 по 61 график растет и снова падает.\n",
    "MRR - с 16 по 21 значения метрика резко возрастает и до значения 76 метрика слегка уменьшается с небольшими единичными резкими повышениями.\n",
    "MHR - при увеличении значения окна метрика уменьшается. \n",
    "\n",
    "Если нам важны все 3 метрики, то лучше взять значение окна равного 51 - это первое значение окна после среднего и по нему значения метрик будет близко к среднему. Если нам важна метрика MHR, то лучше брать как можно меньшее значение. Для других метрик окно должно быть равно от 30 до 60. "
   ]
  },
  {
   "cell_type": "code",
   "execution_count": 22,
   "id": "ee83fb58",
   "metadata": {},
   "outputs": [],
   "source": [
    "toppop_wind = TopPopularWeighted(51)\n",
    "toppop_wind.fit(joined)\n",
    "joined['toppopular_wind_recs'] = toppop_wind.predict(joined)"
   ]
  },
  {
   "cell_type": "markdown",
   "id": "1a112ae1-d5f3-4150-8df3-9155240a557a",
   "metadata": {
    "id": "1a112ae1-d5f3-4150-8df3-9155240a557a"
   },
   "source": [
    "**Задание №3. Метрики и k.**\n",
    "\n",
    "Постройте зависимость значений MAP@K, MRR@K, HR@K для метода рекомендации по популярности. Возьмите какие-нибудь k, например, от 1 до 100, переберите значения и покажите на линейном графике. "
   ]
  },
  {
   "cell_type": "code",
   "execution_count": 23,
   "id": "URxM6rRVP6Nu",
   "metadata": {
    "id": "URxM6rRVP6Nu"
   },
   "outputs": [
    {
     "name": "stdout",
     "output_type": "stream",
     "text": [
      "    top-K       map       mrr      hr\n",
      "1     1.0  0.049800  0.049800  0.0498\n",
      "6     6.0  0.063443  0.113602  0.2402\n",
      "11   11.0  0.065507  0.117933  0.2779\n",
      "16   16.0  0.069179  0.122734  0.3399\n",
      "21   21.0  0.070581  0.124300  0.3709\n"
     ]
    }
   ],
   "source": [
    "topk = range(1, 100, 5)\n",
    "\n",
    "df1 = pd.DataFrame({'top-K':[], 'map':[], 'mrr':[], 'hr':[]})\n",
    "\n",
    "for i in topk:\n",
    "    joined['toppopular_recs'] = toppop.predict(joined, topn=i)\n",
    "\n",
    "    res = evaluate_recommender(joined, model_preds='toppopular_recs')\n",
    "    df1.loc[i] = [i, res['map'], res['mrr'], res['hr']]\n",
    "\n",
    "print(df1.head())\n",
    "joined['toppopular_recs'] = toppop.predict(joined, topn=10)\n"
   ]
  },
  {
   "cell_type": "code",
   "execution_count": 24,
   "id": "f4687ead-a7fa-4407-83f2-17c465d80f67",
   "metadata": {
    "id": "f4687ead-a7fa-4407-83f2-17c465d80f67"
   },
   "outputs": [
    {
     "name": "stderr",
     "output_type": "stream",
     "text": [
      "d:\\Programs\\anac\\Lib\\site-packages\\seaborn\\_oldcore.py:1119: FutureWarning: use_inf_as_na option is deprecated and will be removed in a future version. Convert inf values to NaN before operating instead.\n",
      "  with pd.option_context('mode.use_inf_as_na', True):\n",
      "d:\\Programs\\anac\\Lib\\site-packages\\seaborn\\_oldcore.py:1119: FutureWarning: use_inf_as_na option is deprecated and will be removed in a future version. Convert inf values to NaN before operating instead.\n",
      "  with pd.option_context('mode.use_inf_as_na', True):\n",
      "d:\\Programs\\anac\\Lib\\site-packages\\seaborn\\_oldcore.py:1075: FutureWarning: When grouping with a length-1 list-like, you will need to pass a length-1 tuple to get_group in a future version of pandas. Pass `(name,)` instead of `name` to silence this warning.\n",
      "  data_subset = grouped_data.get_group(pd_key)\n",
      "d:\\Programs\\anac\\Lib\\site-packages\\seaborn\\_oldcore.py:1075: FutureWarning: When grouping with a length-1 list-like, you will need to pass a length-1 tuple to get_group in a future version of pandas. Pass `(name,)` instead of `name` to silence this warning.\n",
      "  data_subset = grouped_data.get_group(pd_key)\n",
      "d:\\Programs\\anac\\Lib\\site-packages\\seaborn\\_oldcore.py:1075: FutureWarning: When grouping with a length-1 list-like, you will need to pass a length-1 tuple to get_group in a future version of pandas. Pass `(name,)` instead of `name` to silence this warning.\n",
      "  data_subset = grouped_data.get_group(pd_key)\n"
     ]
    },
    {
     "data": {
      "text/plain": [
       "<Axes: xlabel='top-K', ylabel='value'>"
      ]
     },
     "execution_count": 24,
     "metadata": {},
     "output_type": "execute_result"
    },
    {
     "data": {
      "image/png": "[encoded data removed]",
      "text/plain": [
       "<Figure size 640x480 with 1 Axes>"
      ]
     },
     "metadata": {},
     "output_type": "display_data"
    }
   ],
   "source": [
    "dfl = pd.melt(df1, ['top-K'])\n",
    "sns.lineplot(data=dfl, x='top-K', y='value', hue='variable')"
   ]
  },
  {
   "cell_type": "code",
   "execution_count": 25,
   "id": "16fd23b8",
   "metadata": {},
   "outputs": [
    {
     "data": {
      "text/html": [
       "<div>\n",
       "<style scoped>\n",
       "    .dataframe tbody tr th:only-of-type {\n",
       "        vertical-align: middle;\n",
       "    }\n",
       "\n",
       "    .dataframe tbody tr th {\n",
       "        vertical-align: top;\n",
       "    }\n",
       "\n",
       "    .dataframe thead th {\n",
       "        text-align: right;\n",
       "    }\n",
       "</style>\n",
       "<table border=\"1\" class=\"dataframe\">\n",
       "  <thead>\n",
       "    <tr style=\"text-align: right;\">\n",
       "      <th></th>\n",
       "      <th>top-K</th>\n",
       "      <th>map</th>\n",
       "      <th>mrr</th>\n",
       "      <th>hr</th>\n",
       "    </tr>\n",
       "  </thead>\n",
       "  <tbody>\n",
       "    <tr>\n",
       "      <th>count</th>\n",
       "      <td>20.000000</td>\n",
       "      <td>20.000000</td>\n",
       "      <td>20.000000</td>\n",
       "      <td>20.000000</td>\n",
       "    </tr>\n",
       "    <tr>\n",
       "      <th>mean</th>\n",
       "      <td>48.500000</td>\n",
       "      <td>0.071095</td>\n",
       "      <td>0.121877</td>\n",
       "      <td>0.423520</td>\n",
       "    </tr>\n",
       "    <tr>\n",
       "      <th>std</th>\n",
       "      <td>29.580399</td>\n",
       "      <td>0.005855</td>\n",
       "      <td>0.017375</td>\n",
       "      <td>0.121994</td>\n",
       "    </tr>\n",
       "    <tr>\n",
       "      <th>min</th>\n",
       "      <td>1.000000</td>\n",
       "      <td>0.049800</td>\n",
       "      <td>0.049800</td>\n",
       "      <td>0.049800</td>\n",
       "    </tr>\n",
       "    <tr>\n",
       "      <th>25%</th>\n",
       "      <td>24.750000</td>\n",
       "      <td>0.071304</td>\n",
       "      <td>0.124924</td>\n",
       "      <td>0.385600</td>\n",
       "    </tr>\n",
       "    <tr>\n",
       "      <th>50%</th>\n",
       "      <td>48.500000</td>\n",
       "      <td>0.073285</td>\n",
       "      <td>0.127099</td>\n",
       "      <td>0.461200</td>\n",
       "    </tr>\n",
       "    <tr>\n",
       "      <th>75%</th>\n",
       "      <td>72.250000</td>\n",
       "      <td>0.074137</td>\n",
       "      <td>0.127855</td>\n",
       "      <td>0.506150</td>\n",
       "    </tr>\n",
       "    <tr>\n",
       "      <th>max</th>\n",
       "      <td>96.000000</td>\n",
       "      <td>0.074687</td>\n",
       "      <td>0.128291</td>\n",
       "      <td>0.542100</td>\n",
       "    </tr>\n",
       "  </tbody>\n",
       "</table>\n",
       "</div>"
      ],
      "text/plain": [
       "           top-K        map        mrr         hr\n",
       "count  20.000000  20.000000  20.000000  20.000000\n",
       "mean   48.500000   0.071095   0.121877   0.423520\n",
       "std    29.580399   0.005855   0.017375   0.121994\n",
       "min     1.000000   0.049800   0.049800   0.049800\n",
       "25%    24.750000   0.071304   0.124924   0.385600\n",
       "50%    48.500000   0.073285   0.127099   0.461200\n",
       "75%    72.250000   0.074137   0.127855   0.506150\n",
       "max    96.000000   0.074687   0.128291   0.542100"
      ]
     },
     "execution_count": 25,
     "metadata": {},
     "output_type": "execute_result"
    }
   ],
   "source": [
    "df1.describe()"
   ]
  },
  {
   "cell_type": "markdown",
   "id": "e5696df8-243a-42a0-9bf4-44aac7474dd7",
   "metadata": {
    "id": "e5696df8-243a-42a0-9bf4-44aac7474dd7"
   },
   "source": [
    "Хорошенько подумайте и ответьте на вопросы ниже.\n",
    "\n",
    "3.1 Какие из метрик являются монотонными функциями по top-K? Объясните, почему они являются монотонными? \\\n",
    "**Ответ:** Все метрики являются возрастающими монотонными функциями по top-K. top-k - параметр, который отвечает за количество айтемов в рейтинге популярности. Чем он больше, тем больше популярных айтемом мы ищем в \"подборках\" айтемов, с которыми повзаимодействовал пользователи, и тем выше вероятность, что юзеры взаимодействовали с ними.\n",
    "\n",
    "3.2 Объясните по каждой метрике, как можно интерпретировать ее график? То есть, что можно сказать про связь изменения метрики c возможными пользовательскими сценариями, например,скроллингом ленты новостей. \\\n",
    "**Ответ:** HR - чем больше популярных новостей мы поместим в ленту к пользователям, тем больше пользователей лайкнет или откроет интересующую его новость. MAP и MRR - добавление в ленту к пользователям до 15 самых популярных новостей может сильно увлечь пользователей и заставит их повзаимодействовать с новостью. Если добавлять больше новостей из рейтинга, то это уже не так сильно увлечет его.\n",
    "\n",
    "3.3 Как вы думаете, почему графики выглядят именно так? Должны ли они возрастать/убывать, от чего это может зависеть? (Тут вам может помочь дополнительный анализ данных)\\\n",
    "**Ответ:** Так как top-K - параметр отвечающий за топ самых популярных айтемов, а популярность - кол-во взаимодействий пользователей с айтемов, то в нашем случае графики должны увеличиваться. Чтобы айтем стал популярным, много пользователей должны прореагировать на него. \n",
    "Кроме популярности айтемов, графики еще зависят от кол-во юзеров по которым усреднялась метрика. Мы могли взять 1 юзера с его новостями. И дать почитать его ленту другому человеку с другими интересами. В таком случае вероятность, что второму что-то понравится - очень мал. А если мы будем давать читать эту ленту и другим пользователям и усреднять ее, то метрики будут падать. \n",
    "Также важно когда айтем появился и на каких пользователям проверяются данные - айтем мог появиться в последнюю секунду валидации или наоборот, перестать продаваться в последний момент train до валидации."
   ]
  },
  {
   "cell_type": "markdown",
   "id": "ab1e75f8-c9bb-4d59-9d57-9934161aa4c7",
   "metadata": {
    "id": "ab1e75f8-c9bb-4d59-9d57-9934161aa4c7"
   },
   "source": [
    "**Задание №4. Интерпретация рейтингов**\n",
    "\n",
    "Возьмите названия фильмов/сериалов из `items.csv`, выделите 5 различных сценариев изменения популярности у фильмов, аргументируйте (например, графиком или статистикой) и проинтерпретируейте их (почему популярность для этого фильма меняется так). Обратите внимание, что надо найти именно разные паттерны изменения вероятностей. "
   ]
  },
  {
   "cell_type": "code",
   "execution_count": 26,
   "id": "59205c4a-1779-4678-a79e-f7b7548f6988",
   "metadata": {
    "colab": {
     "base_uri": "https://localhost:8080/",
     "height": 206
    },
    "id": "59205c4a-1779-4678-a79e-f7b7548f6988",
    "outputId": "4210096a-7b1e-432e-e29e-cc6f6bd7d3cc"
   },
   "outputs": [
    {
     "data": {
      "text/html": [
       "<div>\n",
       "<style scoped>\n",
       "    .dataframe tbody tr th:only-of-type {\n",
       "        vertical-align: middle;\n",
       "    }\n",
       "\n",
       "    .dataframe tbody tr th {\n",
       "        vertical-align: top;\n",
       "    }\n",
       "\n",
       "    .dataframe thead th {\n",
       "        text-align: right;\n",
       "    }\n",
       "</style>\n",
       "<table border=\"1\" class=\"dataframe\">\n",
       "  <thead>\n",
       "    <tr style=\"text-align: right;\">\n",
       "      <th></th>\n",
       "      <th>item_id</th>\n",
       "      <th>title</th>\n",
       "      <th>release_year</th>\n",
       "    </tr>\n",
       "  </thead>\n",
       "  <tbody>\n",
       "    <tr>\n",
       "      <th>0</th>\n",
       "      <td>10711</td>\n",
       "      <td>Поговори с ней</td>\n",
       "      <td>2002.0</td>\n",
       "    </tr>\n",
       "    <tr>\n",
       "      <th>1</th>\n",
       "      <td>2508</td>\n",
       "      <td>Голые перцы</td>\n",
       "      <td>2014.0</td>\n",
       "    </tr>\n",
       "    <tr>\n",
       "      <th>2</th>\n",
       "      <td>10716</td>\n",
       "      <td>Тактическая сила</td>\n",
       "      <td>2011.0</td>\n",
       "    </tr>\n",
       "    <tr>\n",
       "      <th>3</th>\n",
       "      <td>7868</td>\n",
       "      <td>45 лет</td>\n",
       "      <td>2015.0</td>\n",
       "    </tr>\n",
       "    <tr>\n",
       "      <th>4</th>\n",
       "      <td>16268</td>\n",
       "      <td>Все решает мгновение</td>\n",
       "      <td>1978.0</td>\n",
       "    </tr>\n",
       "  </tbody>\n",
       "</table>\n",
       "</div>"
      ],
      "text/plain": [
       "   item_id                 title  release_year\n",
       "0    10711        Поговори с ней        2002.0\n",
       "1     2508           Голые перцы        2014.0\n",
       "2    10716      Тактическая сила        2011.0\n",
       "3     7868                45 лет        2015.0\n",
       "4    16268  Все решает мгновение        1978.0"
      ]
     },
     "execution_count": 26,
     "metadata": {},
     "output_type": "execute_result"
    }
   ],
   "source": [
    "items = pd.read_csv('items.csv')[['item_id','title', 'release_year']].copy()\n",
    "items.head()"
   ]
  },
  {
   "cell_type": "code",
   "execution_count": 27,
   "id": "835bd67b",
   "metadata": {},
   "outputs": [
    {
     "data": {
      "text/html": [
       "<div>\n",
       "<style scoped>\n",
       "    .dataframe tbody tr th:only-of-type {\n",
       "        vertical-align: middle;\n",
       "    }\n",
       "\n",
       "    .dataframe tbody tr th {\n",
       "        vertical-align: top;\n",
       "    }\n",
       "\n",
       "    .dataframe thead th {\n",
       "        text-align: right;\n",
       "    }\n",
       "</style>\n",
       "<table border=\"1\" class=\"dataframe\">\n",
       "  <thead>\n",
       "    <tr style=\"text-align: right;\">\n",
       "      <th></th>\n",
       "      <th>item_id</th>\n",
       "      <th>release_year</th>\n",
       "    </tr>\n",
       "  </thead>\n",
       "  <tbody>\n",
       "    <tr>\n",
       "      <th>count</th>\n",
       "      <td>15963.000000</td>\n",
       "      <td>15865.000000</td>\n",
       "    </tr>\n",
       "    <tr>\n",
       "      <th>mean</th>\n",
       "      <td>8268.453424</td>\n",
       "      <td>2007.932241</td>\n",
       "    </tr>\n",
       "    <tr>\n",
       "      <th>std</th>\n",
       "      <td>4773.841513</td>\n",
       "      <td>16.881118</td>\n",
       "    </tr>\n",
       "    <tr>\n",
       "      <th>min</th>\n",
       "      <td>0.000000</td>\n",
       "      <td>1897.000000</td>\n",
       "    </tr>\n",
       "    <tr>\n",
       "      <th>25%</th>\n",
       "      <td>4141.500000</td>\n",
       "      <td>2007.000000</td>\n",
       "    </tr>\n",
       "    <tr>\n",
       "      <th>50%</th>\n",
       "      <td>8266.000000</td>\n",
       "      <td>2014.000000</td>\n",
       "    </tr>\n",
       "    <tr>\n",
       "      <th>75%</th>\n",
       "      <td>12414.500000</td>\n",
       "      <td>2018.000000</td>\n",
       "    </tr>\n",
       "    <tr>\n",
       "      <th>max</th>\n",
       "      <td>16518.000000</td>\n",
       "      <td>2021.000000</td>\n",
       "    </tr>\n",
       "  </tbody>\n",
       "</table>\n",
       "</div>"
      ],
      "text/plain": [
       "            item_id  release_year\n",
       "count  15963.000000  15865.000000\n",
       "mean    8268.453424   2007.932241\n",
       "std     4773.841513     16.881118\n",
       "min        0.000000   1897.000000\n",
       "25%     4141.500000   2007.000000\n",
       "50%     8266.000000   2014.000000\n",
       "75%    12414.500000   2018.000000\n",
       "max    16518.000000   2021.000000"
      ]
     },
     "execution_count": 27,
     "metadata": {},
     "output_type": "execute_result"
    }
   ],
   "source": [
    "items.describe()"
   ]
  },
  {
   "cell_type": "code",
   "execution_count": 28,
   "id": "5e3d8116",
   "metadata": {},
   "outputs": [
    {
     "data": {
      "text/html": [
       "<div>\n",
       "<style scoped>\n",
       "    .dataframe tbody tr th:only-of-type {\n",
       "        vertical-align: middle;\n",
       "    }\n",
       "\n",
       "    .dataframe tbody tr th {\n",
       "        vertical-align: top;\n",
       "    }\n",
       "\n",
       "    .dataframe thead th {\n",
       "        text-align: right;\n",
       "    }\n",
       "</style>\n",
       "<table border=\"1\" class=\"dataframe\">\n",
       "  <thead>\n",
       "    <tr style=\"text-align: right;\">\n",
       "      <th></th>\n",
       "      <th>item_id</th>\n",
       "      <th>title</th>\n",
       "      <th>release_year</th>\n",
       "    </tr>\n",
       "  </thead>\n",
       "  <tbody>\n",
       "    <tr>\n",
       "      <th>70</th>\n",
       "      <td>4547</td>\n",
       "      <td>КION. Презентация онлайн-кинотеатра. 19 апреля...</td>\n",
       "      <td>2021.0</td>\n",
       "    </tr>\n",
       "    <tr>\n",
       "      <th>78</th>\n",
       "      <td>2662</td>\n",
       "      <td>Пакт</td>\n",
       "      <td>2021.0</td>\n",
       "    </tr>\n",
       "    <tr>\n",
       "      <th>87</th>\n",
       "      <td>1314</td>\n",
       "      <td>КТО ТЫ?!</td>\n",
       "      <td>2021.0</td>\n",
       "    </tr>\n",
       "    <tr>\n",
       "      <th>88</th>\n",
       "      <td>10519</td>\n",
       "      <td>Кто поймал букет невесты</td>\n",
       "      <td>2021.0</td>\n",
       "    </tr>\n",
       "    <tr>\n",
       "      <th>90</th>\n",
       "      <td>9821</td>\n",
       "      <td>Шпагат с нуля</td>\n",
       "      <td>2021.0</td>\n",
       "    </tr>\n",
       "    <tr>\n",
       "      <th>...</th>\n",
       "      <td>...</td>\n",
       "      <td>...</td>\n",
       "      <td>...</td>\n",
       "    </tr>\n",
       "    <tr>\n",
       "      <th>15709</th>\n",
       "      <td>13261</td>\n",
       "      <td>Цветняшки</td>\n",
       "      <td>2021.0</td>\n",
       "    </tr>\n",
       "    <tr>\n",
       "      <th>15758</th>\n",
       "      <td>5906</td>\n",
       "      <td>Райя и последний дракон</td>\n",
       "      <td>2021.0</td>\n",
       "    </tr>\n",
       "    <tr>\n",
       "      <th>15828</th>\n",
       "      <td>2824</td>\n",
       "      <td>Три шага к рельефу</td>\n",
       "      <td>2021.0</td>\n",
       "    </tr>\n",
       "    <tr>\n",
       "      <th>15944</th>\n",
       "      <td>5978</td>\n",
       "      <td>Преступление века</td>\n",
       "      <td>2021.0</td>\n",
       "    </tr>\n",
       "    <tr>\n",
       "      <th>15947</th>\n",
       "      <td>4407</td>\n",
       "      <td>Бережный фитнес</td>\n",
       "      <td>2021.0</td>\n",
       "    </tr>\n",
       "  </tbody>\n",
       "</table>\n",
       "<p>461 rows × 3 columns</p>\n",
       "</div>"
      ],
      "text/plain": [
       "       item_id                                              title  \\\n",
       "70        4547  КION. Презентация онлайн-кинотеатра. 19 апреля...   \n",
       "78        2662                                               Пакт   \n",
       "87        1314                                           КТО ТЫ?!   \n",
       "88       10519                           Кто поймал букет невесты   \n",
       "90        9821                                      Шпагат с нуля   \n",
       "...        ...                                                ...   \n",
       "15709    13261                                          Цветняшки   \n",
       "15758     5906                            Райя и последний дракон   \n",
       "15828     2824                                 Три шага к рельефу   \n",
       "15944     5978                                  Преступление века   \n",
       "15947     4407                                    Бережный фитнес   \n",
       "\n",
       "       release_year  \n",
       "70           2021.0  \n",
       "78           2021.0  \n",
       "87           2021.0  \n",
       "88           2021.0  \n",
       "90           2021.0  \n",
       "...             ...  \n",
       "15709        2021.0  \n",
       "15758        2021.0  \n",
       "15828        2021.0  \n",
       "15944        2021.0  \n",
       "15947        2021.0  \n",
       "\n",
       "[461 rows x 3 columns]"
      ]
     },
     "execution_count": 28,
     "metadata": {},
     "output_type": "execute_result"
    }
   ],
   "source": [
    "items[items['release_year']==2021]"
   ]
  },
  {
   "cell_type": "markdown",
   "id": "d5d18d06-ef56-45ef-a738-72150b094898",
   "metadata": {
    "id": "d5d18d06-ef56-45ef-a738-72150b094898"
   },
   "source": [
    "Пример:"
   ]
  },
  {
   "cell_type": "code",
   "execution_count": 29,
   "id": "bbf556fe-21d5-4210-b699-7090fa2fa178",
   "metadata": {
    "colab": {
     "base_uri": "https://localhost:8080/",
     "height": 465
    },
    "id": "bbf556fe-21d5-4210-b699-7090fa2fa178",
    "outputId": "eb2242ca-5bf9-4125-e597-cbc96412df4e"
   },
   "outputs": [
    {
     "name": "stdout",
     "output_type": "stream",
     "text": [
      "1917\n"
     ]
    },
    {
     "data": {
      "text/plain": [
       "<Axes: >"
      ]
     },
     "execution_count": 29,
     "metadata": {},
     "output_type": "execute_result"
    },
    {
     "data": {
      "image/png": "[encoded data removed]",
      "text/plain": [
       "<Figure size 640x480 with 1 Axes>"
      ]
     },
     "metadata": {},
     "output_type": "display_data"
    }
   ],
   "source": [
    "popular_items = df.item_id.value_counts()[:300].index.tolist()\n",
    "sampled_id = np.random.choice(popular_items)\n",
    "\n",
    "# это для примера, хотя выцеплять случаи по одному может быть не лучшей идеей\n",
    "sampled_id = 3402\n",
    "\n",
    "interactions = df.loc[df.item_id==sampled_id].copy()\n",
    "name = items.loc[items.item_id==sampled_id].title.values[0]\n",
    "print(name)\n",
    "interactions.last_watch_dt.hist()"
   ]
  },
  {
   "cell_type": "markdown",
   "id": "bf72e854-0b21-4891-ba5c-acbca999c3f1",
   "metadata": {
    "id": "bf72e854-0b21-4891-ba5c-acbca999c3f1"
   },
   "source": [
    "Фильм 1917 какое-то время набирал популярность, потом видим резкое падение (кстати, с какой даты?). Возможно, это связано с ограничением доступности этого фильма для части пользователей, периодом проката фильма / рекламной кампании или другой причиной. "
   ]
  },
  {
   "cell_type": "markdown",
   "id": "eb5ae2d4-8ddc-4593-b7a2-2cb5e8276e16",
   "metadata": {
    "id": "eb5ae2d4-8ddc-4593-b7a2-2cb5e8276e16"
   },
   "source": [
    "Добавьте 5 своих примеров ниже. Опишите, как вы их искали. "
   ]
  },
  {
   "cell_type": "code",
   "execution_count": 30,
   "id": "4144946a-39be-4049-b1f8-6f087d144bed",
   "metadata": {
    "id": "4144946a-39be-4049-b1f8-6f087d144bed"
   },
   "outputs": [
    {
     "name": "stdout",
     "output_type": "stream",
     "text": [
      "Патруль: По законам улиц\n"
     ]
    },
    {
     "data": {
      "text/plain": [
       "<Axes: >"
      ]
     },
     "execution_count": 30,
     "metadata": {},
     "output_type": "execute_result"
    },
    {
     "data": {
      "image/png": "[encoded data removed]",
      "text/plain": [
       "<Figure size 640x480 with 1 Axes>"
      ]
     },
     "metadata": {},
     "output_type": "display_data"
    }
   ],
   "source": [
    "sampled_id = 12324\n",
    "\n",
    "interactions = df.loc[df.item_id==sampled_id].copy()\n",
    "name = items.loc[items.item_id==sampled_id].title.values[0]\n",
    "print(name)\n",
    "interactions.last_watch_dt.hist()"
   ]
  },
  {
   "cell_type": "markdown",
   "id": "8379b224",
   "metadata": {},
   "source": [
    "Фильм \"Патруль: По законам улиц\" вышел в 2020 году. Он резко набрал популярность в год выхода, а потом пошел на спад. - Нашла его через поиск по году."
   ]
  },
  {
   "cell_type": "code",
   "execution_count": 31,
   "id": "8d35b9b2",
   "metadata": {},
   "outputs": [
    {
     "name": "stdout",
     "output_type": "stream",
     "text": [
      "Бережный фитнес\n"
     ]
    },
    {
     "data": {
      "text/plain": [
       "<Axes: >"
      ]
     },
     "execution_count": 31,
     "metadata": {},
     "output_type": "execute_result"
    },
    {
     "data": {
      "image/png": "[encoded data removed]",
      "text/plain": [
       "<Figure size 640x480 with 1 Axes>"
      ]
     },
     "metadata": {},
     "output_type": "display_data"
    }
   ],
   "source": [
    "sampled_id = 4407\n",
    "\n",
    "interactions = df.loc[df.item_id==sampled_id].copy()\n",
    "name = items.loc[items.item_id==sampled_id].title.values[0]\n",
    "print(name)\n",
    "interactions.last_watch_dt.hist()"
   ]
  },
  {
   "cell_type": "markdown",
   "id": "755c5705",
   "metadata": {},
   "source": [
    "Фильм \"Бережный фитнес\" вышел в 2021 году. В нем содержится набор различных тренировок. Это не очень вовлекает людей, поэтому его до сбора данных посмотрело всего 2 человека. Нашла по фильтрации через год."
   ]
  },
  {
   "cell_type": "code",
   "execution_count": 32,
   "id": "87b64e31",
   "metadata": {},
   "outputs": [
    {
     "name": "stdout",
     "output_type": "stream",
     "text": [
      "Поли\n"
     ]
    },
    {
     "data": {
      "text/plain": [
       "<Axes: >"
      ]
     },
     "execution_count": 32,
     "metadata": {},
     "output_type": "execute_result"
    },
    {
     "data": {
      "image/png": "[encoded data removed]",
      "text/plain": [
       "<Figure size 640x480 with 1 Axes>"
      ]
     },
     "metadata": {},
     "output_type": "display_data"
    }
   ],
   "source": [
    "sampled_id = 12537\n",
    "\n",
    "interactions = df.loc[df.item_id==sampled_id].copy()\n",
    "name = items.loc[items.item_id==sampled_id].title.values[0]\n",
    "print(name)\n",
    "interactions.last_watch_dt.hist()"
   ]
  },
  {
   "cell_type": "markdown",
   "id": "6a4717a7",
   "metadata": {},
   "source": [
    "Фильм \"Поли\" вышел в 2020 году. Сначала он никого не заинтересовал, но возможно потом начались рекламные акции и больше людей посмотрели его. Нашла его через случайный поиск."
   ]
  },
  {
   "cell_type": "code",
   "execution_count": 33,
   "id": "6685a46a",
   "metadata": {},
   "outputs": [
    {
     "name": "stdout",
     "output_type": "stream",
     "text": [
      "Любовь между строк\n"
     ]
    },
    {
     "data": {
      "text/plain": [
       "<Axes: >"
      ]
     },
     "execution_count": 33,
     "metadata": {},
     "output_type": "execute_result"
    },
    {
     "data": {
      "image/png": "[encoded data removed]",
      "text/plain": [
       "<Figure size 640x480 with 1 Axes>"
      ]
     },
     "metadata": {},
     "output_type": "display_data"
    }
   ],
   "source": [
    "sampled_id = 8373\n",
    "\n",
    "interactions = df.loc[df.item_id==sampled_id].copy()\n",
    "name = items.loc[items.item_id==sampled_id].title.values[0]\n",
    "print(name)\n",
    "interactions.last_watch_dt.hist()"
   ]
  },
  {
   "cell_type": "markdown",
   "id": "593b64c6",
   "metadata": {},
   "source": [
    "Фильм \"Любовь между строк\" вышел в 2019 году. Сначала он был очень популярен, но потом его стали меньше смотреть. Нашла его через случайный поиск."
   ]
  },
  {
   "cell_type": "code",
   "execution_count": 34,
   "id": "63576a30",
   "metadata": {},
   "outputs": [
    {
     "name": "stdout",
     "output_type": "stream",
     "text": [
      "Тайное влечение\n"
     ]
    },
    {
     "data": {
      "text/plain": [
       "<Axes: >"
      ]
     },
     "execution_count": 34,
     "metadata": {},
     "output_type": "execute_result"
    },
    {
     "data": {
      "image/png": "[encoded data removed]",
      "text/plain": [
       "<Figure size 640x480 with 1 Axes>"
      ]
     },
     "metadata": {},
     "output_type": "display_data"
    }
   ],
   "source": [
    "sampled_id = 5732\n",
    "\n",
    "interactions = df.loc[df.item_id==sampled_id].copy()\n",
    "name = items.loc[items.item_id==sampled_id].title.values[0]\n",
    "print(name)\n",
    "interactions.last_watch_dt.hist()"
   ]
  },
  {
   "cell_type": "markdown",
   "id": "0e7c968d",
   "metadata": {},
   "source": [
    "Фильм \"Тайное влечение\" вышел в 2013 году. Сначала его посмотрели достаточно много людей, позже популярность просела, а потом она снова увеличилась. Он снят в популрных жанрах и с хорошим рейтингом, поэтому это могло повлиять на его просмотры."
   ]
  },
  {
   "cell_type": "markdown",
   "id": "7597d4c1-68c8-4187-92ee-79cb44a84de8",
   "metadata": {
    "id": "7597d4c1-68c8-4187-92ee-79cb44a84de8"
   },
   "source": [
    "**Задание №5. User-item encoding**\n",
    "\n",
    "Теперь, создайте матрицу интеракций user-item по примеру из семинара. Вам нужно в итоге получить разреженную матрицу (sparse matrix), в которой в качестве строк будут пользователи, в качестве колонок - айтемы. Не забудьте перекодировать пользователей и айтемы через энкодер. В отличие от семинара, оставьте в матрице только юзеров и айтемы, которые встречались в матрице > 4 раз."
   ]
  },
  {
   "cell_type": "markdown",
   "id": "4ee1dd61-2f92-420d-96ce-3185dd80cb81",
   "metadata": {
    "id": "4ee1dd61-2f92-420d-96ce-3185dd80cb81"
   },
   "source": [
    "Важно: когда вы отфильтруете юзеров на встречаемость > 4 раз, вы удалите какие-то айтемы, которые теперь станут встречаться меньше 5 раз. Поэтому у вас перестанет выполняться второе условие на минимальное число интеракций с айтемом. Тогда вам надо опять отфильтровать айтемы на встречаемость, но это снова может нарушить условие для юзеров. В таком случае, вам надо написать итеративный алгоритм до сходимости, пока требования не будут выполняться в обеих колонках. "
   ]
  },
  {
   "cell_type": "code",
   "execution_count": 35,
   "id": "1c4a5a4a-eabf-4145-b081-53881e5ce9c1",
   "metadata": {
    "id": "1c4a5a4a-eabf-4145-b081-53881e5ce9c1"
   },
   "outputs": [
    {
     "name": "stdout",
     "output_type": "stream",
     "text": [
      "user_id\n",
      "377371       5\n",
      "828605       5\n",
      "828594       5\n",
      "828586       5\n",
      "828585       5\n",
      "          ... \n",
      "400913     571\n",
      "409259     625\n",
      "11526      674\n",
      "555233     685\n",
      "416206    1252\n",
      "Name: count, Length: 302205, dtype: int64\n",
      "item_id\n",
      "3762          5\n",
      "14544         5\n",
      "13633         5\n",
      "11073         5\n",
      "15738         5\n",
      "          ...  \n",
      "4151      60114\n",
      "13865     79726\n",
      "9728      83407\n",
      "15297     94669\n",
      "10440    100134\n",
      "Name: count, Length: 10031, dtype: int64\n"
     ]
    }
   ],
   "source": [
    "def filter_column(df, min_freq):\n",
    "    \"\"\"\n",
    "    Filter dataframe, excluding least active users and least popular items.\n",
    "    Return a copy of the dataframe with at least min_freq entries\n",
    "    in both users and items\n",
    "    \"\"\"\n",
    "    users = df.value_counts('user_id', ascending=True)\n",
    "    users = users[users.ge(min_freq)].index\n",
    "\n",
    "    items = df.value_counts('item_id', ascending=True)\n",
    "    items = items[items.ge(min_freq)].index\n",
    "\n",
    "    df = df[(df['user_id'].isin(users)) & (df['item_id'].isin(items))].copy()\n",
    "\n",
    "    return df\n",
    "\n",
    "def filter_dataframe(df, cols, min_freq=5):\n",
    "    \"\"\"\n",
    "    Filter dataframe by given columns until each of them satisfies\n",
    "    min_freq condition, guaranteed by filter_columns. Return a copy\n",
    "    of the dataframe\n",
    "    \"\"\"\n",
    "    check = False\n",
    "    while(not check):\n",
    "        df = filter_column(df, 5)\n",
    "        check = True\n",
    "        for i in cols:\n",
    "            if df.value_counts(i, ascending=True).iloc[0] < min_freq:\n",
    "                check = False\n",
    "                break\n",
    "\n",
    "    return df.copy()\n",
    "\n",
    "filtered_train = filter_dataframe(df, ['user_id', 'item_id'])\n",
    "print(filtered_train.value_counts('user_id', ascending=True))\n",
    "print(filtered_train.value_counts('item_id', ascending=True))"
   ]
  },
  {
   "cell_type": "code",
   "execution_count": 36,
   "id": "7e243566",
   "metadata": {},
   "outputs": [
    {
     "data": {
      "text/html": [
       "<div>\n",
       "<style scoped>\n",
       "    .dataframe tbody tr th:only-of-type {\n",
       "        vertical-align: middle;\n",
       "    }\n",
       "\n",
       "    .dataframe tbody tr th {\n",
       "        vertical-align: top;\n",
       "    }\n",
       "\n",
       "    .dataframe thead th {\n",
       "        text-align: right;\n",
       "    }\n",
       "</style>\n",
       "<table border=\"1\" class=\"dataframe\">\n",
       "  <thead>\n",
       "    <tr style=\"text-align: right;\">\n",
       "      <th></th>\n",
       "      <th>user_id</th>\n",
       "      <th>item_id</th>\n",
       "      <th>last_watch_dt</th>\n",
       "      <th>total_dur</th>\n",
       "      <th>watched_pct</th>\n",
       "    </tr>\n",
       "  </thead>\n",
       "  <tbody>\n",
       "    <tr>\n",
       "      <th>0</th>\n",
       "      <td>176549</td>\n",
       "      <td>9506</td>\n",
       "      <td>59</td>\n",
       "      <td>4250</td>\n",
       "      <td>72.0</td>\n",
       "    </tr>\n",
       "    <tr>\n",
       "      <th>1</th>\n",
       "      <td>699317</td>\n",
       "      <td>1659</td>\n",
       "      <td>77</td>\n",
       "      <td>8317</td>\n",
       "      <td>100.0</td>\n",
       "    </tr>\n",
       "    <tr>\n",
       "      <th>3</th>\n",
       "      <td>864613</td>\n",
       "      <td>7638</td>\n",
       "      <td>114</td>\n",
       "      <td>14483</td>\n",
       "      <td>100.0</td>\n",
       "    </tr>\n",
       "    <tr>\n",
       "      <th>5</th>\n",
       "      <td>1032142</td>\n",
       "      <td>6686</td>\n",
       "      <td>61</td>\n",
       "      <td>11286</td>\n",
       "      <td>100.0</td>\n",
       "    </tr>\n",
       "    <tr>\n",
       "      <th>6</th>\n",
       "      <td>1016458</td>\n",
       "      <td>354</td>\n",
       "      <td>154</td>\n",
       "      <td>1672</td>\n",
       "      <td>25.0</td>\n",
       "    </tr>\n",
       "  </tbody>\n",
       "</table>\n",
       "</div>"
      ],
      "text/plain": [
       "   user_id  item_id  last_watch_dt  total_dur  watched_pct\n",
       "0   176549     9506             59       4250         72.0\n",
       "1   699317     1659             77       8317        100.0\n",
       "3   864613     7638            114      14483        100.0\n",
       "5  1032142     6686             61      11286        100.0\n",
       "6  1016458      354            154       1672         25.0"
      ]
     },
     "execution_count": 36,
     "metadata": {},
     "output_type": "execute_result"
    }
   ],
   "source": [
    "filtered_train.head()"
   ]
  },
  {
   "cell_type": "code",
   "execution_count": 37,
   "id": "a02c1fe8-2068-43d2-9851-edd67b5866c2",
   "metadata": {
    "colab": {
     "base_uri": "https://localhost:8080/",
     "height": 373
    },
    "id": "a02c1fe8-2068-43d2-9851-edd67b5866c2",
    "outputId": "0bcbad24-be0f-4b47-8d98-ea72f7ebe2e9"
   },
   "outputs": [
    {
     "data": {
      "text/html": [
       "<div>\n",
       "<style scoped>\n",
       "    .dataframe tbody tr th:only-of-type {\n",
       "        vertical-align: middle;\n",
       "    }\n",
       "\n",
       "    .dataframe tbody tr th {\n",
       "        vertical-align: top;\n",
       "    }\n",
       "\n",
       "    .dataframe thead th {\n",
       "        text-align: right;\n",
       "    }\n",
       "</style>\n",
       "<table border=\"1\" class=\"dataframe\">\n",
       "  <thead>\n",
       "    <tr style=\"text-align: right;\">\n",
       "      <th></th>\n",
       "      <th>user_id</th>\n",
       "      <th>item_id</th>\n",
       "      <th>last_watch_dt</th>\n",
       "      <th>total_dur</th>\n",
       "      <th>watched_pct</th>\n",
       "    </tr>\n",
       "  </thead>\n",
       "  <tbody>\n",
       "    <tr>\n",
       "      <th>4498508</th>\n",
       "      <td>49103</td>\n",
       "      <td>147</td>\n",
       "      <td>80</td>\n",
       "      <td>26399</td>\n",
       "      <td>100.0</td>\n",
       "    </tr>\n",
       "    <tr>\n",
       "      <th>2197579</th>\n",
       "      <td>6429</td>\n",
       "      <td>436</td>\n",
       "      <td>99</td>\n",
       "      <td>294</td>\n",
       "      <td>6.0</td>\n",
       "    </tr>\n",
       "    <tr>\n",
       "      <th>2979185</th>\n",
       "      <td>150569</td>\n",
       "      <td>32</td>\n",
       "      <td>128</td>\n",
       "      <td>16</td>\n",
       "      <td>0.0</td>\n",
       "    </tr>\n",
       "    <tr>\n",
       "      <th>678481</th>\n",
       "      <td>217230</td>\n",
       "      <td>488</td>\n",
       "      <td>157</td>\n",
       "      <td>1635</td>\n",
       "      <td>23.0</td>\n",
       "    </tr>\n",
       "    <tr>\n",
       "      <th>3105343</th>\n",
       "      <td>250288</td>\n",
       "      <td>160</td>\n",
       "      <td>141</td>\n",
       "      <td>474</td>\n",
       "      <td>5.0</td>\n",
       "    </tr>\n",
       "  </tbody>\n",
       "</table>\n",
       "</div>"
      ],
      "text/plain": [
       "         user_id  item_id  last_watch_dt  total_dur  watched_pct\n",
       "4498508    49103      147             80      26399        100.0\n",
       "2197579     6429      436             99        294          6.0\n",
       "2979185   150569       32            128         16          0.0\n",
       "678481    217230      488            157       1635         23.0\n",
       "3105343   250288      160            141        474          5.0"
      ]
     },
     "execution_count": 37,
     "metadata": {},
     "output_type": "execute_result"
    }
   ],
   "source": [
    "def df_encode(df):\n",
    "    item2id = {k:v for v, k in enumerate(df.item_id.unique())}\n",
    "    user2id = {k:v for v, k in enumerate(df.user_id.unique())}\n",
    "\n",
    "    id2item = {k:v for v, k in item2id.items()}\n",
    "    id2user = {k:v for v, k in user2id.items()}\n",
    "    df['user_id'] = df.user_id.apply(lambda x: user2id[x])\n",
    "    df['item_id'] = df.item_id.apply(lambda x: item2id[x])\n",
    "    return df, item2id, id2item\n",
    "\n",
    "filtered_train, item2id, id2item = df_encode(filtered_train)\n",
    "filtered_train.sample(5)"
   ]
  },
  {
   "cell_type": "code",
   "execution_count": 38,
   "id": "cb0760a7-5667-41a5-b47e-12f297ed3d1e",
   "metadata": {
    "colab": {
     "base_uri": "https://localhost:8080/"
    },
    "id": "cb0760a7-5667-41a5-b47e-12f297ed3d1e",
    "outputId": "678f4947-3a6f-4605-bfaf-8a352b2098ab"
   },
   "outputs": [
    {
     "data": {
      "text/plain": [
       "<COOrdinate sparse matrix of dtype 'float64'\n",
       "\twith 4278492 stored elements and shape (302205, 10031)>"
      ]
     },
     "execution_count": 38,
     "metadata": {},
     "output_type": "execute_result"
    }
   ],
   "source": [
    "from scipy import sparse as sps\n",
    "\n",
    "matrix = sps.coo_matrix(\n",
    "    (np.ones(filtered_train.shape[0]), (filtered_train['user_id'], filtered_train['item_id'])),\n",
    "    shape=(len(filtered_train.user_id.unique()), len(filtered_train.item_id.unique())),\n",
    ")\n",
    "matrix"
   ]
  },
  {
   "cell_type": "markdown",
   "id": "CsAJ72grYlLZ",
   "metadata": {
    "id": "CsAJ72grYlLZ"
   },
   "source": [
    "**Задание №6. Интеракции и частота**\n",
    "\n",
    "Постройте график зависимости количества айтемов и юзеров от значений (порогов) фильтров на встречаемость в матрице интеракций. То есть, нужно выполнить задание №5 для нескольких значений `min_freq` и построить график зависимости числа оставшихся айтемов и юзеров от этого параметра. "
   ]
  },
  {
   "cell_type": "code",
   "execution_count": 39,
   "id": "G-UH_tXBYm9p",
   "metadata": {
    "id": "G-UH_tXBYm9p"
   },
   "outputs": [
    {
     "name": "stdout",
     "output_type": "stream",
     "text": [
      "   min_freq   users  items\n",
      "1         1  302486  10348\n",
      "2         2  302256  10048\n",
      "3         3  302206  10036\n",
      "4         4  302206  10031\n",
      "5         5  302205  10031\n"
     ]
    }
   ],
   "source": [
    "min_freq = [1,2,3,4,5]\n",
    "\n",
    "df_freq = pd.DataFrame({'min_freq':[], 'users':[], 'items':[]})\n",
    "filt_df = df.copy()\n",
    "\n",
    "for freq in min_freq:\n",
    "    filt_df = filter_dataframe(filt_df, ['user_id', 'item_id'], freq)\n",
    "    df_freq.loc[freq] = [freq, len(filt_df.user_id.unique()), len(filt_df.item_id.unique())]\n",
    "\n",
    "print(df_freq.head())"
   ]
  },
  {
   "cell_type": "code",
   "execution_count": 40,
   "id": "221b275b",
   "metadata": {},
   "outputs": [
    {
     "name": "stderr",
     "output_type": "stream",
     "text": [
      "d:\\Programs\\anac\\Lib\\site-packages\\seaborn\\_oldcore.py:1119: FutureWarning: use_inf_as_na option is deprecated and will be removed in a future version. Convert inf values to NaN before operating instead.\n",
      "  with pd.option_context('mode.use_inf_as_na', True):\n",
      "d:\\Programs\\anac\\Lib\\site-packages\\seaborn\\_oldcore.py:1119: FutureWarning: use_inf_as_na option is deprecated and will be removed in a future version. Convert inf values to NaN before operating instead.\n",
      "  with pd.option_context('mode.use_inf_as_na', True):\n",
      "d:\\Programs\\anac\\Lib\\site-packages\\seaborn\\_oldcore.py:1075: FutureWarning: When grouping with a length-1 list-like, you will need to pass a length-1 tuple to get_group in a future version of pandas. Pass `(name,)` instead of `name` to silence this warning.\n",
      "  data_subset = grouped_data.get_group(pd_key)\n",
      "d:\\Programs\\anac\\Lib\\site-packages\\seaborn\\_oldcore.py:1075: FutureWarning: When grouping with a length-1 list-like, you will need to pass a length-1 tuple to get_group in a future version of pandas. Pass `(name,)` instead of `name` to silence this warning.\n",
      "  data_subset = grouped_data.get_group(pd_key)\n"
     ]
    },
    {
     "data": {
      "text/plain": [
       "<Axes: xlabel='min_freq', ylabel='value'>"
      ]
     },
     "execution_count": 40,
     "metadata": {},
     "output_type": "execute_result"
    },
    {
     "data": {
      "image/png": "[encoded data removed]",
      "text/plain": [
       "<Figure size 640x480 with 1 Axes>"
      ]
     },
     "metadata": {},
     "output_type": "display_data"
    }
   ],
   "source": [
    "df_freq_plot = pd.melt(df_freq, ['min_freq'])\n",
    "sns.lineplot(data=df_freq_plot, x='min_freq', y='value', hue='variable')"
   ]
  },
  {
   "cell_type": "code",
   "execution_count": 41,
   "id": "6bee95e8",
   "metadata": {},
   "outputs": [
    {
     "name": "stderr",
     "output_type": "stream",
     "text": [
      "d:\\Programs\\anac\\Lib\\site-packages\\seaborn\\_oldcore.py:1119: FutureWarning: use_inf_as_na option is deprecated and will be removed in a future version. Convert inf values to NaN before operating instead.\n",
      "  with pd.option_context('mode.use_inf_as_na', True):\n",
      "d:\\Programs\\anac\\Lib\\site-packages\\seaborn\\_oldcore.py:1119: FutureWarning: use_inf_as_na option is deprecated and will be removed in a future version. Convert inf values to NaN before operating instead.\n",
      "  with pd.option_context('mode.use_inf_as_na', True):\n"
     ]
    },
    {
     "data": {
      "text/plain": [
       "<Axes: xlabel='min_freq', ylabel='users'>"
      ]
     },
     "execution_count": 41,
     "metadata": {},
     "output_type": "execute_result"
    },
    {
     "data": {
      "image/png": "[encoded data removed]",
      "text/plain": [
       "<Figure size 640x480 with 1 Axes>"
      ]
     },
     "metadata": {},
     "output_type": "display_data"
    }
   ],
   "source": [
    "sns.lineplot(data=df_freq[['min_freq', 'users']], x='min_freq', y='users')"
   ]
  },
  {
   "cell_type": "code",
   "execution_count": 42,
   "id": "6d975c85",
   "metadata": {},
   "outputs": [
    {
     "name": "stderr",
     "output_type": "stream",
     "text": [
      "d:\\Programs\\anac\\Lib\\site-packages\\seaborn\\_oldcore.py:1119: FutureWarning: use_inf_as_na option is deprecated and will be removed in a future version. Convert inf values to NaN before operating instead.\n",
      "  with pd.option_context('mode.use_inf_as_na', True):\n",
      "d:\\Programs\\anac\\Lib\\site-packages\\seaborn\\_oldcore.py:1119: FutureWarning: use_inf_as_na option is deprecated and will be removed in a future version. Convert inf values to NaN before operating instead.\n",
      "  with pd.option_context('mode.use_inf_as_na', True):\n"
     ]
    },
    {
     "data": {
      "text/plain": [
       "<Axes: xlabel='min_freq', ylabel='items'>"
      ]
     },
     "execution_count": 42,
     "metadata": {},
     "output_type": "execute_result"
    },
    {
     "data": {
      "image/png": "[encoded data removed]",
      "text/plain": [
       "<Figure size 640x480 with 1 Axes>"
      ]
     },
     "metadata": {},
     "output_type": "display_data"
    }
   ],
   "source": [
    "sns.lineplot(data=df_freq[['min_freq', 'items']], x='min_freq', y='items')"
   ]
  },
  {
   "cell_type": "markdown",
   "id": "1b41b955",
   "metadata": {},
   "source": [
    "При min_freq >= 6 фильтрация занимает очень большое время (при работе 640 минут, фильтрация так и не завершилась).\n",
    "Число айтемов и юзеров уменьшается при увеличении min_freq."
   ]
  },
  {
   "cell_type": "markdown",
   "id": "d388eb41-094d-4317-9ae6-391a5b014a92",
   "metadata": {
    "id": "d388eb41-094d-4317-9ae6-391a5b014a92"
   },
   "source": [
    "**Задание №7. EASE**\n",
    "\n",
    "Реализуйте EASE, постройте рекомендации для юзеров. Сравните все имплементированные ранее метрики качества с `TopPopular` для некоторого набора k. "
   ]
  },
  {
   "cell_type": "markdown",
   "id": "acccc267-038b-4029-ba63-38e875f87a67",
   "metadata": {
    "id": "acccc267-038b-4029-ba63-38e875f87a67"
   },
   "source": [
    "Реализацию можно взять из семинара. Можно реализовать по статье https://arxiv.org/pdf/1905.03375.pdf. Можно взять и адаптировать из RecBole https://github.com/RUCAIBox/RecBole."
   ]
  },
  {
   "cell_type": "code",
   "execution_count": 43,
   "id": "6377d7a3",
   "metadata": {},
   "outputs": [],
   "source": [
    "import scipy.sparse as sp"
   ]
  },
  {
   "cell_type": "code",
   "execution_count": 44,
   "id": "04e19a99-8797-45e7-ad48-44312f0839d4",
   "metadata": {
    "colab": {
     "base_uri": "https://localhost:8080/"
    },
    "id": "04e19a99-8797-45e7-ad48-44312f0839d4",
    "outputId": "83899393-f38f-4116-9431-8aaa00e09b29"
   },
   "outputs": [
    {
     "name": "stdout",
     "output_type": "stream",
     "text": [
      "CPU times: total: 1min 23s\n",
      "Wall time: 34.7 s\n"
     ]
    }
   ],
   "source": [
    "%%time\n",
    "\n",
    "# Обучаем конечную модель\n",
    "# Мы взяли реализацию из RecBole\n",
    "#\n",
    "def fit_ease(X, reg_weight=1000):\n",
    "     # gram matrix\n",
    "    G = X.T @ X\n",
    "\n",
    "    # add reg to diagonal\n",
    "    G += reg_weight * sp.identity(G.shape[0]).astype(np.float32)\n",
    "\n",
    "    # convert to dense because inverse will be dense\n",
    "    G = G.todense()\n",
    "\n",
    "    # invert. this takes most of the time\n",
    "    P = np.linalg.inv(G)\n",
    "    B = P / (-np.diag(P))\n",
    "    # zero out diag\n",
    "    np.fill_diagonal(B, 0.0)\n",
    "    return B\n",
    "\n",
    "w = fit_ease(matrix)"
   ]
  },
  {
   "cell_type": "markdown",
   "id": "70d0d9db",
   "metadata": {},
   "source": [
    "Далее, вам надо реализовать функцию получения предсказаний. У вас есть обученная матрица весов, которую можно использовать для получения предсказаний. Для этого нужно построить вектор интеракций пользователя и умножить его на матрицу весов."
   ]
  },
  {
   "cell_type": "code",
   "execution_count": 45,
   "id": "ceabfecc-2a1d-4808-998e-404ed6b57592",
   "metadata": {
    "colab": {
     "base_uri": "https://localhost:8080/",
     "height": 833
    },
    "id": "ceabfecc-2a1d-4808-998e-404ed6b57592",
    "outputId": "67abc3e8-3430-477e-c030-01e55bc15448"
   },
   "outputs": [
    {
     "data": {
      "text/html": [
       "<div>\n",
       "<style scoped>\n",
       "    .dataframe tbody tr th:only-of-type {\n",
       "        vertical-align: middle;\n",
       "    }\n",
       "\n",
       "    .dataframe tbody tr th {\n",
       "        vertical-align: top;\n",
       "    }\n",
       "\n",
       "    .dataframe thead th {\n",
       "        text-align: right;\n",
       "    }\n",
       "</style>\n",
       "<table border=\"1\" class=\"dataframe\">\n",
       "  <thead>\n",
       "    <tr style=\"text-align: right;\">\n",
       "      <th></th>\n",
       "      <th>user_id</th>\n",
       "      <th>train_interactions</th>\n",
       "      <th>test_interactions</th>\n",
       "      <th>random_recs</th>\n",
       "      <th>toppopular_recs</th>\n",
       "      <th>toppopular_wind_recs</th>\n",
       "      <th>ease_recs</th>\n",
       "    </tr>\n",
       "  </thead>\n",
       "  <tbody>\n",
       "    <tr>\n",
       "      <th>0</th>\n",
       "      <td>120</td>\n",
       "      <td>[(15297, 151), (6809, 151), (1000, 151)]</td>\n",
       "      <td>[(10440, 157), (13865, 157)]</td>\n",
       "      <td>[14119, 2025, 10442, 46, 11092, 2798, 15227, 1...</td>\n",
       "      <td>[10440, 9728, 15297, 13865, 3734, 4151, 4880, ...</td>\n",
       "      <td>[15297, 9728, 10440, 3734, 13865, 4151, 12192,...</td>\n",
       "      <td>[4151, 10440, 9728, 142, 12192, 4740, 13865, 2...</td>\n",
       "    </tr>\n",
       "    <tr>\n",
       "      <th>1</th>\n",
       "      <td>170</td>\n",
       "      <td>[(13237, 152), (4331, 152)]</td>\n",
       "      <td>[(1453, 153), (741, 154), (15679, 154), (11083...</td>\n",
       "      <td>[14119, 2025, 10442, 46, 11092, 2798, 15227, 1...</td>\n",
       "      <td>[10440, 9728, 15297, 13865, 3734, 4151, 4880, ...</td>\n",
       "      <td>[15297, 9728, 10440, 3734, 13865, 4151, 12192,...</td>\n",
       "      <td>[12455, 2599, 1978, 13959, 14120, 12225, 3678,...</td>\n",
       "    </tr>\n",
       "    <tr>\n",
       "      <th>2</th>\n",
       "      <td>189</td>\n",
       "      <td>[(5505, 144)]</td>\n",
       "      <td>[(12360, 155), (6898, 155), (4549, 160), (582,...</td>\n",
       "      <td>[14119, 2025, 10442, 46, 11092, 2798, 15227, 1...</td>\n",
       "      <td>[10440, 9728, 15297, 13865, 3734, 4151, 4880, ...</td>\n",
       "      <td>[15297, 9728, 10440, 3734, 13865, 4151, 12192,...</td>\n",
       "      <td>[14899, 7597, 13849, 6162, 12356, 13464, 16415...</td>\n",
       "    </tr>\n",
       "    <tr>\n",
       "      <th>3</th>\n",
       "      <td>313</td>\n",
       "      <td>[(14170, 4), (162, 4), (8276, 6), (758, 14), (...</td>\n",
       "      <td>[(9062, 156)]</td>\n",
       "      <td>[14119, 2025, 10442, 46, 11092, 2798, 15227, 1...</td>\n",
       "      <td>[10440, 9728, 15297, 13865, 3734, 4151, 4880, ...</td>\n",
       "      <td>[15297, 9728, 10440, 3734, 13865, 4151, 12192,...</td>\n",
       "      <td>[4151, 10440, 15297, 4927, 1844, 3734, 12192, ...</td>\n",
       "    </tr>\n",
       "    <tr>\n",
       "      <th>4</th>\n",
       "      <td>480</td>\n",
       "      <td>[(7389, 51), (9314, 51), (760, 55), (9709, 56)...</td>\n",
       "      <td>[(7025, 161)]</td>\n",
       "      <td>[14119, 2025, 10442, 46, 11092, 2798, 15227, 1...</td>\n",
       "      <td>[10440, 9728, 15297, 13865, 3734, 4151, 4880, ...</td>\n",
       "      <td>[15297, 9728, 10440, 3734, 13865, 4151, 12192,...</td>\n",
       "      <td>[10440, 9728, 3734, 15297, 12173, 4880, 2954, ...</td>\n",
       "    </tr>\n",
       "  </tbody>\n",
       "</table>\n",
       "</div>"
      ],
      "text/plain": [
       "   user_id                                 train_interactions  \\\n",
       "0      120           [(15297, 151), (6809, 151), (1000, 151)]   \n",
       "1      170                        [(13237, 152), (4331, 152)]   \n",
       "2      189                                      [(5505, 144)]   \n",
       "3      313  [(14170, 4), (162, 4), (8276, 6), (758, 14), (...   \n",
       "4      480  [(7389, 51), (9314, 51), (760, 55), (9709, 56)...   \n",
       "\n",
       "                                   test_interactions  \\\n",
       "0                       [(10440, 157), (13865, 157)]   \n",
       "1  [(1453, 153), (741, 154), (15679, 154), (11083...   \n",
       "2  [(12360, 155), (6898, 155), (4549, 160), (582,...   \n",
       "3                                      [(9062, 156)]   \n",
       "4                                      [(7025, 161)]   \n",
       "\n",
       "                                         random_recs  \\\n",
       "0  [14119, 2025, 10442, 46, 11092, 2798, 15227, 1...   \n",
       "1  [14119, 2025, 10442, 46, 11092, 2798, 15227, 1...   \n",
       "2  [14119, 2025, 10442, 46, 11092, 2798, 15227, 1...   \n",
       "3  [14119, 2025, 10442, 46, 11092, 2798, 15227, 1...   \n",
       "4  [14119, 2025, 10442, 46, 11092, 2798, 15227, 1...   \n",
       "\n",
       "                                     toppopular_recs  \\\n",
       "0  [10440, 9728, 15297, 13865, 3734, 4151, 4880, ...   \n",
       "1  [10440, 9728, 15297, 13865, 3734, 4151, 4880, ...   \n",
       "2  [10440, 9728, 15297, 13865, 3734, 4151, 4880, ...   \n",
       "3  [10440, 9728, 15297, 13865, 3734, 4151, 4880, ...   \n",
       "4  [10440, 9728, 15297, 13865, 3734, 4151, 4880, ...   \n",
       "\n",
       "                                toppopular_wind_recs  \\\n",
       "0  [15297, 9728, 10440, 3734, 13865, 4151, 12192,...   \n",
       "1  [15297, 9728, 10440, 3734, 13865, 4151, 12192,...   \n",
       "2  [15297, 9728, 10440, 3734, 13865, 4151, 12192,...   \n",
       "3  [15297, 9728, 10440, 3734, 13865, 4151, 12192,...   \n",
       "4  [15297, 9728, 10440, 3734, 13865, 4151, 12192,...   \n",
       "\n",
       "                                           ease_recs  \n",
       "0  [4151, 10440, 9728, 142, 12192, 4740, 13865, 2...  \n",
       "1  [12455, 2599, 1978, 13959, 14120, 12225, 3678,...  \n",
       "2  [14899, 7597, 13849, 6162, 12356, 13464, 16415...  \n",
       "3  [4151, 10440, 15297, 4927, 1844, 3734, 12192, ...  \n",
       "4  [10440, 9728, 3734, 15297, 12173, 4880, 2954, ...  "
      ]
     },
     "execution_count": 45,
     "metadata": {},
     "output_type": "execute_result"
    }
   ],
   "source": [
    "def get_preds(x, item2id, id2item, w, n = 10):\n",
    "\n",
    "    user_iteraction = [t[0] for t in x]\n",
    "    encoded = [item2id[t] for t in user_iteraction if t in item2id]\n",
    "    vector = np.zeros(len(item2id))\n",
    "    vector[encoded] = 1\n",
    "\n",
    "    vector = sps.csr_matrix(vector)\n",
    "\n",
    "    preds = np.array(vector.dot(w))[0]\n",
    "    preds[encoded == 1] = -np.inf\n",
    "\n",
    "    ranks = np.argsort(-preds)\n",
    "    decoded = [id2item[t] for t in ranks][:n]\n",
    "\n",
    "    return decoded\n",
    "\n",
    "\n",
    "joined['ease_recs'] = joined.train_interactions.apply(lambda x: get_preds(x, item2id, id2item, w))\n",
    "joined.head()"
   ]
  },
  {
   "cell_type": "code",
   "execution_count": 46,
   "id": "979f3051-5348-4c1e-a21c-033d5cd3d6cd",
   "metadata": {
    "id": "979f3051-5348-4c1e-a21c-033d5cd3d6cd"
   },
   "outputs": [
    {
     "name": "stdout",
     "output_type": "stream",
     "text": [
      "Для метода random: MAP = 0.00102, MRR = 0.00384, HR = 0.0084\n",
      "Для метода toppopular: MAP = 0.06523, MRR = 0.11736, HR = 0.2716\n",
      "Для метода toppopular_wind: MAP = 0.07307, MRR = 0.13119, HR = 0.3013\n",
      "Для метода ease: MAP = 0.07437, MRR = 0.13784, HR = 0.3092\n"
     ]
    }
   ],
   "source": [
    "for col in ['random_recs', 'toppopular_recs', 'toppopular_wind_recs', 'ease_recs']:\n",
    "    res = evaluate_recommender(joined, model_preds=col)\n",
    "    print(f\"Для метода {col[:-5]}: MAP = {round(res['map'], 5)}, MRR = {round(res['mrr'], 5)}, HR = {round(res['hr'], 5)}\")\n"
   ]
  },
  {
   "cell_type": "markdown",
   "id": "24552dc3-4d5d-4e9c-bc16-691a3537e7d9",
   "metadata": {
    "id": "24552dc3-4d5d-4e9c-bc16-691a3537e7d9"
   },
   "source": [
    "Сделайте выводы — какой алгоритм работает лучше?\n",
    "\n",
    "**Ответ:** Лучше всех работает метод Рекомендаций в окне - у него самые большие значения метрик. Далее методы по убыванию - рекомендовать самые популярные айтемы, рандомные айтемы, метод EASE."
   ]
  },
  {
   "cell_type": "markdown",
   "id": "9e2ecca7-92c2-4b1f-b5d3-4f9dd18a4632",
   "metadata": {
    "id": "9e2ecca7-92c2-4b1f-b5d3-4f9dd18a4632"
   },
   "source": [
    "**Задание №8. Тюнинг**\n",
    "\n",
    "Переберите различные значения гиперпараметра коэффициента регуляризации у EASE и постройте графики, как в задании №6. Постарайтесь \"затюнить\" EASE как можно лучше. Возьмите разумное число гиперпараметров - хотя бы штук 20 по логарифмической сетке, либо используйте более хитрые алгоритмы оптимизации. "
   ]
  },
  {
   "cell_type": "code",
   "execution_count": 47,
   "id": "e0837eb6-e81f-4543-b848-fdeacb7169ee",
   "metadata": {
    "id": "e0837eb6-e81f-4543-b848-fdeacb7169ee"
   },
   "outputs": [
    {
     "name": "stdout",
     "output_type": "stream",
     "text": [
      "1\n",
      "5\n",
      "10\n",
      "50\n",
      "100\n",
      "500\n",
      "1000\n",
      "5000\n",
      "10000\n",
      "50000\n",
      "100000\n",
      "500000\n",
      "1000000\n",
      "5000000\n",
      "10000000\n",
      "50000000\n",
      "100000000\n",
      "500000000\n",
      "1000000000\n",
      "5000000000\n",
      "10000000000\n",
      "     weight       map       mrr      hr\n",
      "1       1.0  0.076111  0.140637  0.3228\n",
      "5       5.0  0.075618  0.140142  0.3223\n",
      "10     10.0  0.075292  0.139676  0.3206\n",
      "50     50.0  0.074358  0.137932  0.3161\n",
      "100   100.0  0.074380  0.138179  0.3154\n"
     ]
    }
   ],
   "source": [
    "weights = [10**i for i in range(0, 11, 1)]\n",
    "b = [int(i*0.5) for i in weights[1:]]\n",
    "weights = weights + b\n",
    "weights.sort()\n",
    "\n",
    "df_weights = pd.DataFrame({'weight':[], 'map':[], 'mrr':[], 'hr':[]})\n",
    "j = joined.copy()\n",
    "\n",
    "for i in weights:\n",
    "    print(i)\n",
    "    w = fit_ease(matrix, i)\n",
    "    j['ease_r'] = j.train_interactions.apply(lambda x: get_preds(x, item2id, id2item, w))\n",
    "\n",
    "    res = evaluate_recommender(j, model_preds='ease_r')\n",
    "    df_weights.loc[i] = [i, res['map'], res['mrr'], res['hr']]\n",
    "\n",
    "print(df_weights.head())\n"
   ]
  },
  {
   "cell_type": "code",
   "execution_count": 48,
   "id": "1a086aff",
   "metadata": {},
   "outputs": [
    {
     "name": "stderr",
     "output_type": "stream",
     "text": [
      "d:\\Programs\\anac\\Lib\\site-packages\\seaborn\\_oldcore.py:1119: FutureWarning: use_inf_as_na option is deprecated and will be removed in a future version. Convert inf values to NaN before operating instead.\n",
      "  with pd.option_context('mode.use_inf_as_na', True):\n",
      "d:\\Programs\\anac\\Lib\\site-packages\\seaborn\\_oldcore.py:1119: FutureWarning: use_inf_as_na option is deprecated and will be removed in a future version. Convert inf values to NaN before operating instead.\n",
      "  with pd.option_context('mode.use_inf_as_na', True):\n",
      "d:\\Programs\\anac\\Lib\\site-packages\\seaborn\\_oldcore.py:1075: FutureWarning: When grouping with a length-1 list-like, you will need to pass a length-1 tuple to get_group in a future version of pandas. Pass `(name,)` instead of `name` to silence this warning.\n",
      "  data_subset = grouped_data.get_group(pd_key)\n",
      "d:\\Programs\\anac\\Lib\\site-packages\\seaborn\\_oldcore.py:1075: FutureWarning: When grouping with a length-1 list-like, you will need to pass a length-1 tuple to get_group in a future version of pandas. Pass `(name,)` instead of `name` to silence this warning.\n",
      "  data_subset = grouped_data.get_group(pd_key)\n",
      "d:\\Programs\\anac\\Lib\\site-packages\\seaborn\\_oldcore.py:1075: FutureWarning: When grouping with a length-1 list-like, you will need to pass a length-1 tuple to get_group in a future version of pandas. Pass `(name,)` instead of `name` to silence this warning.\n",
      "  data_subset = grouped_data.get_group(pd_key)\n"
     ]
    },
    {
     "data": {
      "text/plain": [
       "<Axes: xlabel='weight', ylabel='value'>"
      ]
     },
     "execution_count": 48,
     "metadata": {},
     "output_type": "execute_result"
    },
    {
     "data": {
      "image/png": "[encoded data removed]",
      "text/plain": [
       "<Figure size 640x480 with 1 Axes>"
      ]
     },
     "metadata": {},
     "output_type": "display_data"
    }
   ],
   "source": [
    "df_w = pd.melt(df_weights, ['weight'])\n",
    "sns.lineplot(data=df_w, x='weight', y='value', hue='variable')"
   ]
  },
  {
   "cell_type": "code",
   "execution_count": 49,
   "id": "88fddd8d",
   "metadata": {},
   "outputs": [
    {
     "name": "stderr",
     "output_type": "stream",
     "text": [
      "d:\\Programs\\anac\\Lib\\site-packages\\seaborn\\_oldcore.py:1119: FutureWarning: use_inf_as_na option is deprecated and will be removed in a future version. Convert inf values to NaN before operating instead.\n",
      "  with pd.option_context('mode.use_inf_as_na', True):\n",
      "d:\\Programs\\anac\\Lib\\site-packages\\seaborn\\_oldcore.py:1119: FutureWarning: use_inf_as_na option is deprecated and will be removed in a future version. Convert inf values to NaN before operating instead.\n",
      "  with pd.option_context('mode.use_inf_as_na', True):\n"
     ]
    },
    {
     "data": {
      "text/plain": [
       "<Axes: xlabel='weight', ylabel='map'>"
      ]
     },
     "execution_count": 49,
     "metadata": {},
     "output_type": "execute_result"
    },
    {
     "data": {
      "image/png": "[encoded data removed]",
      "text/plain": [
       "<Figure size 640x480 with 1 Axes>"
      ]
     },
     "metadata": {},
     "output_type": "display_data"
    }
   ],
   "source": [
    "sns.lineplot(data=df_weights[['weight', 'map']], x='weight', y='map')"
   ]
  },
  {
   "cell_type": "code",
   "execution_count": 50,
   "id": "9b85664c",
   "metadata": {},
   "outputs": [
    {
     "name": "stderr",
     "output_type": "stream",
     "text": [
      "d:\\Programs\\anac\\Lib\\site-packages\\seaborn\\_oldcore.py:1119: FutureWarning: use_inf_as_na option is deprecated and will be removed in a future version. Convert inf values to NaN before operating instead.\n",
      "  with pd.option_context('mode.use_inf_as_na', True):\n",
      "d:\\Programs\\anac\\Lib\\site-packages\\seaborn\\_oldcore.py:1119: FutureWarning: use_inf_as_na option is deprecated and will be removed in a future version. Convert inf values to NaN before operating instead.\n",
      "  with pd.option_context('mode.use_inf_as_na', True):\n"
     ]
    },
    {
     "data": {
      "text/plain": [
       "<Axes: xlabel='weight', ylabel='map'>"
      ]
     },
     "execution_count": 50,
     "metadata": {},
     "output_type": "execute_result"
    },
    {
     "data": {
      "image/png": "[encoded data removed]",
      "text/plain": [
       "<Figure size 640x480 with 1 Axes>"
      ]
     },
     "metadata": {},
     "output_type": "display_data"
    }
   ],
   "source": [
    "sns.lineplot(data=df_weights[['weight', 'map']][:13], x='weight', y='map')"
   ]
  },
  {
   "cell_type": "code",
   "execution_count": 51,
   "id": "a8ba8db5",
   "metadata": {},
   "outputs": [
    {
     "name": "stderr",
     "output_type": "stream",
     "text": [
      "d:\\Programs\\anac\\Lib\\site-packages\\seaborn\\_oldcore.py:1119: FutureWarning: use_inf_as_na option is deprecated and will be removed in a future version. Convert inf values to NaN before operating instead.\n",
      "  with pd.option_context('mode.use_inf_as_na', True):\n",
      "d:\\Programs\\anac\\Lib\\site-packages\\seaborn\\_oldcore.py:1119: FutureWarning: use_inf_as_na option is deprecated and will be removed in a future version. Convert inf values to NaN before operating instead.\n",
      "  with pd.option_context('mode.use_inf_as_na', True):\n"
     ]
    },
    {
     "data": {
      "text/plain": [
       "<Axes: xlabel='weight', ylabel='mrr'>"
      ]
     },
     "execution_count": 51,
     "metadata": {},
     "output_type": "execute_result"
    },
    {
     "data": {
      "image/png": "[encoded data removed]",
      "text/plain": [
       "<Figure size 640x480 with 1 Axes>"
      ]
     },
     "metadata": {},
     "output_type": "display_data"
    }
   ],
   "source": [
    "sns.lineplot(data=df_weights[['weight', 'mrr']], x='weight', y='mrr')"
   ]
  },
  {
   "cell_type": "code",
   "execution_count": 52,
   "id": "1800b2a9",
   "metadata": {},
   "outputs": [
    {
     "name": "stderr",
     "output_type": "stream",
     "text": [
      "d:\\Programs\\anac\\Lib\\site-packages\\seaborn\\_oldcore.py:1119: FutureWarning: use_inf_as_na option is deprecated and will be removed in a future version. Convert inf values to NaN before operating instead.\n",
      "  with pd.option_context('mode.use_inf_as_na', True):\n",
      "d:\\Programs\\anac\\Lib\\site-packages\\seaborn\\_oldcore.py:1119: FutureWarning: use_inf_as_na option is deprecated and will be removed in a future version. Convert inf values to NaN before operating instead.\n",
      "  with pd.option_context('mode.use_inf_as_na', True):\n"
     ]
    },
    {
     "data": {
      "text/plain": [
       "<Axes: xlabel='weight', ylabel='mrr'>"
      ]
     },
     "execution_count": 52,
     "metadata": {},
     "output_type": "execute_result"
    },
    {
     "data": {
      "image/png": "[encoded data removed]",
      "text/plain": [
       "<Figure size 640x480 with 1 Axes>"
      ]
     },
     "metadata": {},
     "output_type": "display_data"
    }
   ],
   "source": [
    "sns.lineplot(data=df_weights[['weight', 'mrr']][:13], x='weight', y='mrr')"
   ]
  },
  {
   "cell_type": "code",
   "execution_count": 53,
   "id": "6852609e",
   "metadata": {},
   "outputs": [
    {
     "name": "stderr",
     "output_type": "stream",
     "text": [
      "d:\\Programs\\anac\\Lib\\site-packages\\seaborn\\_oldcore.py:1119: FutureWarning: use_inf_as_na option is deprecated and will be removed in a future version. Convert inf values to NaN before operating instead.\n",
      "  with pd.option_context('mode.use_inf_as_na', True):\n",
      "d:\\Programs\\anac\\Lib\\site-packages\\seaborn\\_oldcore.py:1119: FutureWarning: use_inf_as_na option is deprecated and will be removed in a future version. Convert inf values to NaN before operating instead.\n",
      "  with pd.option_context('mode.use_inf_as_na', True):\n"
     ]
    },
    {
     "data": {
      "text/plain": [
       "<Axes: xlabel='weight', ylabel='hr'>"
      ]
     },
     "execution_count": 53,
     "metadata": {},
     "output_type": "execute_result"
    },
    {
     "data": {
      "image/png": "[encoded data removed]",
      "text/plain": [
       "<Figure size 640x480 with 1 Axes>"
      ]
     },
     "metadata": {},
     "output_type": "display_data"
    }
   ],
   "source": [
    "sns.lineplot(data=df_weights[['weight', 'hr']], x='weight', y='hr')"
   ]
  },
  {
   "cell_type": "code",
   "execution_count": 54,
   "id": "4ad82c92",
   "metadata": {},
   "outputs": [
    {
     "name": "stderr",
     "output_type": "stream",
     "text": [
      "d:\\Programs\\anac\\Lib\\site-packages\\seaborn\\_oldcore.py:1119: FutureWarning: use_inf_as_na option is deprecated and will be removed in a future version. Convert inf values to NaN before operating instead.\n",
      "  with pd.option_context('mode.use_inf_as_na', True):\n",
      "d:\\Programs\\anac\\Lib\\site-packages\\seaborn\\_oldcore.py:1119: FutureWarning: use_inf_as_na option is deprecated and will be removed in a future version. Convert inf values to NaN before operating instead.\n",
      "  with pd.option_context('mode.use_inf_as_na', True):\n"
     ]
    },
    {
     "data": {
      "text/plain": [
       "<Axes: xlabel='weight', ylabel='hr'>"
      ]
     },
     "execution_count": 54,
     "metadata": {},
     "output_type": "execute_result"
    },
    {
     "data": {
      "image/png": "[encoded data removed]",
      "text/plain": [
       "<Figure size 640x480 with 1 Axes>"
      ]
     },
     "metadata": {},
     "output_type": "display_data"
    }
   ],
   "source": [
    "sns.lineplot(data=df_weights[['weight', 'hr']][:13], x='weight', y='hr')"
   ]
  },
  {
   "cell_type": "code",
   "execution_count": 55,
   "id": "58257aa6",
   "metadata": {},
   "outputs": [
    {
     "data": {
      "text/html": [
       "<div>\n",
       "<style scoped>\n",
       "    .dataframe tbody tr th:only-of-type {\n",
       "        vertical-align: middle;\n",
       "    }\n",
       "\n",
       "    .dataframe tbody tr th {\n",
       "        vertical-align: top;\n",
       "    }\n",
       "\n",
       "    .dataframe thead th {\n",
       "        text-align: right;\n",
       "    }\n",
       "</style>\n",
       "<table border=\"1\" class=\"dataframe\">\n",
       "  <thead>\n",
       "    <tr style=\"text-align: right;\">\n",
       "      <th></th>\n",
       "      <th>weight</th>\n",
       "      <th>map</th>\n",
       "      <th>mrr</th>\n",
       "      <th>hr</th>\n",
       "    </tr>\n",
       "  </thead>\n",
       "  <tbody>\n",
       "    <tr>\n",
       "      <th>1</th>\n",
       "      <td>1.000000e+00</td>\n",
       "      <td>0.076111</td>\n",
       "      <td>0.140637</td>\n",
       "      <td>0.3228</td>\n",
       "    </tr>\n",
       "    <tr>\n",
       "      <th>5</th>\n",
       "      <td>5.000000e+00</td>\n",
       "      <td>0.075618</td>\n",
       "      <td>0.140142</td>\n",
       "      <td>0.3223</td>\n",
       "    </tr>\n",
       "    <tr>\n",
       "      <th>10</th>\n",
       "      <td>1.000000e+01</td>\n",
       "      <td>0.075292</td>\n",
       "      <td>0.139676</td>\n",
       "      <td>0.3206</td>\n",
       "    </tr>\n",
       "    <tr>\n",
       "      <th>50</th>\n",
       "      <td>5.000000e+01</td>\n",
       "      <td>0.074358</td>\n",
       "      <td>0.137932</td>\n",
       "      <td>0.3161</td>\n",
       "    </tr>\n",
       "    <tr>\n",
       "      <th>100</th>\n",
       "      <td>1.000000e+02</td>\n",
       "      <td>0.074380</td>\n",
       "      <td>0.138179</td>\n",
       "      <td>0.3154</td>\n",
       "    </tr>\n",
       "    <tr>\n",
       "      <th>500</th>\n",
       "      <td>5.000000e+02</td>\n",
       "      <td>0.074356</td>\n",
       "      <td>0.137760</td>\n",
       "      <td>0.3110</td>\n",
       "    </tr>\n",
       "    <tr>\n",
       "      <th>1000</th>\n",
       "      <td>1.000000e+03</td>\n",
       "      <td>0.074366</td>\n",
       "      <td>0.137842</td>\n",
       "      <td>0.3092</td>\n",
       "    </tr>\n",
       "    <tr>\n",
       "      <th>5000</th>\n",
       "      <td>5.000000e+03</td>\n",
       "      <td>0.076346</td>\n",
       "      <td>0.140256</td>\n",
       "      <td>0.3106</td>\n",
       "    </tr>\n",
       "    <tr>\n",
       "      <th>10000</th>\n",
       "      <td>1.000000e+04</td>\n",
       "      <td>0.077214</td>\n",
       "      <td>0.142009</td>\n",
       "      <td>0.3054</td>\n",
       "    </tr>\n",
       "    <tr>\n",
       "      <th>50000</th>\n",
       "      <td>5.000000e+04</td>\n",
       "      <td>0.082080</td>\n",
       "      <td>0.149343</td>\n",
       "      <td>0.3094</td>\n",
       "    </tr>\n",
       "    <tr>\n",
       "      <th>100000</th>\n",
       "      <td>1.000000e+05</td>\n",
       "      <td>0.084321</td>\n",
       "      <td>0.153206</td>\n",
       "      <td>0.3119</td>\n",
       "    </tr>\n",
       "    <tr>\n",
       "      <th>500000</th>\n",
       "      <td>5.000000e+05</td>\n",
       "      <td>0.086336</td>\n",
       "      <td>0.155009</td>\n",
       "      <td>0.3080</td>\n",
       "    </tr>\n",
       "    <tr>\n",
       "      <th>1000000</th>\n",
       "      <td>1.000000e+06</td>\n",
       "      <td>0.086291</td>\n",
       "      <td>0.154310</td>\n",
       "      <td>0.3074</td>\n",
       "    </tr>\n",
       "    <tr>\n",
       "      <th>5000000</th>\n",
       "      <td>5.000000e+06</td>\n",
       "      <td>0.085568</td>\n",
       "      <td>0.152785</td>\n",
       "      <td>0.3063</td>\n",
       "    </tr>\n",
       "    <tr>\n",
       "      <th>10000000</th>\n",
       "      <td>1.000000e+07</td>\n",
       "      <td>0.085448</td>\n",
       "      <td>0.152638</td>\n",
       "      <td>0.3057</td>\n",
       "    </tr>\n",
       "    <tr>\n",
       "      <th>50000000</th>\n",
       "      <td>5.000000e+07</td>\n",
       "      <td>0.085532</td>\n",
       "      <td>0.152739</td>\n",
       "      <td>0.3059</td>\n",
       "    </tr>\n",
       "    <tr>\n",
       "      <th>100000000</th>\n",
       "      <td>1.000000e+08</td>\n",
       "      <td>0.085502</td>\n",
       "      <td>0.152704</td>\n",
       "      <td>0.3060</td>\n",
       "    </tr>\n",
       "    <tr>\n",
       "      <th>500000000</th>\n",
       "      <td>5.000000e+08</td>\n",
       "      <td>0.085508</td>\n",
       "      <td>0.152691</td>\n",
       "      <td>0.3058</td>\n",
       "    </tr>\n",
       "    <tr>\n",
       "      <th>1000000000</th>\n",
       "      <td>1.000000e+09</td>\n",
       "      <td>0.085508</td>\n",
       "      <td>0.152691</td>\n",
       "      <td>0.3058</td>\n",
       "    </tr>\n",
       "    <tr>\n",
       "      <th>5000000000</th>\n",
       "      <td>5.000000e+09</td>\n",
       "      <td>0.085500</td>\n",
       "      <td>0.152674</td>\n",
       "      <td>0.3058</td>\n",
       "    </tr>\n",
       "    <tr>\n",
       "      <th>10000000000</th>\n",
       "      <td>1.000000e+10</td>\n",
       "      <td>0.085500</td>\n",
       "      <td>0.152674</td>\n",
       "      <td>0.3058</td>\n",
       "    </tr>\n",
       "  </tbody>\n",
       "</table>\n",
       "</div>"
      ],
      "text/plain": [
       "                   weight       map       mrr      hr\n",
       "1            1.000000e+00  0.076111  0.140637  0.3228\n",
       "5            5.000000e+00  0.075618  0.140142  0.3223\n",
       "10           1.000000e+01  0.075292  0.139676  0.3206\n",
       "50           5.000000e+01  0.074358  0.137932  0.3161\n",
       "100          1.000000e+02  0.074380  0.138179  0.3154\n",
       "500          5.000000e+02  0.074356  0.137760  0.3110\n",
       "1000         1.000000e+03  0.074366  0.137842  0.3092\n",
       "5000         5.000000e+03  0.076346  0.140256  0.3106\n",
       "10000        1.000000e+04  0.077214  0.142009  0.3054\n",
       "50000        5.000000e+04  0.082080  0.149343  0.3094\n",
       "100000       1.000000e+05  0.084321  0.153206  0.3119\n",
       "500000       5.000000e+05  0.086336  0.155009  0.3080\n",
       "1000000      1.000000e+06  0.086291  0.154310  0.3074\n",
       "5000000      5.000000e+06  0.085568  0.152785  0.3063\n",
       "10000000     1.000000e+07  0.085448  0.152638  0.3057\n",
       "50000000     5.000000e+07  0.085532  0.152739  0.3059\n",
       "100000000    1.000000e+08  0.085502  0.152704  0.3060\n",
       "500000000    5.000000e+08  0.085508  0.152691  0.3058\n",
       "1000000000   1.000000e+09  0.085508  0.152691  0.3058\n",
       "5000000000   5.000000e+09  0.085500  0.152674  0.3058\n",
       "10000000000  1.000000e+10  0.085500  0.152674  0.3058"
      ]
     },
     "execution_count": 55,
     "metadata": {},
     "output_type": "execute_result"
    }
   ],
   "source": [
    "df_weights"
   ]
  },
  {
   "cell_type": "markdown",
   "id": "891c9613-3f51-4186-bfa1-566d82d0628f",
   "metadata": {
    "id": "891c9613-3f51-4186-bfa1-566d82d0628f"
   },
   "source": [
    "Ответьте на следующие вопросы:\n",
    "\n",
    "8.1 Какое значение гиперпараметра является наилучшим? \n",
    "\n",
    "\n",
    "**Ответ:** Метрики MAP и MRR достигают лучшего результата при весе равном 500000 (MAP = 0.082773, MRR = 0.150588). HR достигает маклимального значения с весом равном 1. Если нам важно, чтобы в рекомендациях, пользователя был хотя бы 1 релевантный айтем, то можно использовать вес = 1, но если нам важны другие метрики, то лучше использовать вес равный 500000\n",
    "\n",
    "8.2 Что еще интересного вы можете сказать по графикам? Может быть, что-то свзяанное с распределением параметров, влиянием на отдельные метрики, скоростью тюнинга?\n",
    "\n",
    "**Ответ:** После определенного значения (500000000) гиперпараметра метрики перестают изменяться. До значения 500000 метрики активно изменяются (MAP, MRR растут, HR падает), после - изменения небольшие."
   ]
  },
  {
   "cell_type": "markdown",
   "id": "e38fcce4-b192-4faa-8ddf-8e8791f2c28b",
   "metadata": {
    "id": "e38fcce4-b192-4faa-8ddf-8e8791f2c28b"
   },
   "source": [
    "**Задание №9. EASE и topk**\n",
    "\n",
    "В лекции №2 говорилось, что качество у EASE растет с ослаблением фильтра на число айтемов. В этом задании постройте кривые метрик качества MAP/MRR/HR в зависимости от topk (например, от 1 до 100 с некоторым шагом), где кривая параметризована минимальным требуемым значением встречаемости user/item (из задания №6). Опишите свои выводы."
   ]
  },
  {
   "cell_type": "markdown",
   "id": "ca0be51b-5055-407d-8916-96d38cdabdb7",
   "metadata": {
    "id": "ca0be51b-5055-407d-8916-96d38cdabdb7"
   },
   "source": [
    "Важно: в этом задании линии могут быть мало различимыми, поэтому ваша задача для каждой метрики найти нужный масштаб на каких-то конкретных topk, чтобы линии стали визуально отличимы. "
   ]
  },
  {
   "cell_type": "code",
   "execution_count": 56,
   "id": "54b8ffce",
   "metadata": {},
   "outputs": [
    {
     "name": "stderr",
     "output_type": "stream",
     "text": [
      "C:\\Users\\DARYA\\AppData\\Local\\Temp\\ipykernel_4700\\3322146621.py:1: DeprecationWarning: DataFrameGroupBy.apply operated on the grouping columns. This behavior is deprecated, and in a future version of pandas the grouping columns will be excluded from the operation. Either pass `include_groups=False` to exclude the groupings or explicitly select the grouping columns after groupby to silence this warning.\n",
      "  train_grouped = filtered_train.groupby('user_id').apply(\n",
      "C:\\Users\\DARYA\\AppData\\Local\\Temp\\ipykernel_4700\\3322146621.py:7: DeprecationWarning: DataFrameGroupBy.apply operated on the grouping columns. This behavior is deprecated, and in a future version of pandas the grouping columns will be excluded from the operation. Either pass `include_groups=False` to exclude the groupings or explicitly select the grouping columns after groupby to silence this warning.\n",
      "  test_grouped = test_df.groupby('user_id').apply(\n"
     ]
    },
    {
     "data": {
      "text/html": [
       "<div>\n",
       "<style scoped>\n",
       "    .dataframe tbody tr th:only-of-type {\n",
       "        vertical-align: middle;\n",
       "    }\n",
       "\n",
       "    .dataframe tbody tr th {\n",
       "        vertical-align: top;\n",
       "    }\n",
       "\n",
       "    .dataframe thead th {\n",
       "        text-align: right;\n",
       "    }\n",
       "</style>\n",
       "<table border=\"1\" class=\"dataframe\">\n",
       "  <thead>\n",
       "    <tr style=\"text-align: right;\">\n",
       "      <th></th>\n",
       "      <th>user_id</th>\n",
       "      <th>train_interactions</th>\n",
       "      <th>test_interactions</th>\n",
       "    </tr>\n",
       "  </thead>\n",
       "  <tbody>\n",
       "    <tr>\n",
       "      <th>0</th>\n",
       "      <td>120</td>\n",
       "      <td>[(448, 67), (1180, 67), (1345, 67), (111, 74),...</td>\n",
       "      <td>[(10440, 157), (13865, 157)]</td>\n",
       "    </tr>\n",
       "    <tr>\n",
       "      <th>1</th>\n",
       "      <td>170</td>\n",
       "      <td>[(3415, 60), (1523, 60), (1516, 64), (1019, 74...</td>\n",
       "      <td>[(1453, 153), (741, 154), (15679, 154), (11083...</td>\n",
       "    </tr>\n",
       "    <tr>\n",
       "      <th>2</th>\n",
       "      <td>189</td>\n",
       "      <td>[(1550, 63), (3217, 63), (4685, 63), (3765, 63...</td>\n",
       "      <td>[(12360, 155), (6898, 155), (4549, 160), (582,...</td>\n",
       "    </tr>\n",
       "    <tr>\n",
       "      <th>3</th>\n",
       "      <td>313</td>\n",
       "      <td>[(52, 35), (854, 35), (3489, 35), (3512, 37), ...</td>\n",
       "      <td>[(9062, 156)]</td>\n",
       "    </tr>\n",
       "    <tr>\n",
       "      <th>4</th>\n",
       "      <td>480</td>\n",
       "      <td>[(685, 24), (403, 24), (1534, 25), (2083, 50),...</td>\n",
       "      <td>[(7025, 161)]</td>\n",
       "    </tr>\n",
       "  </tbody>\n",
       "</table>\n",
       "</div>"
      ],
      "text/plain": [
       "   user_id                                 train_interactions  \\\n",
       "0      120  [(448, 67), (1180, 67), (1345, 67), (111, 74),...   \n",
       "1      170  [(3415, 60), (1523, 60), (1516, 64), (1019, 74...   \n",
       "2      189  [(1550, 63), (3217, 63), (4685, 63), (3765, 63...   \n",
       "3      313  [(52, 35), (854, 35), (3489, 35), (3512, 37), ...   \n",
       "4      480  [(685, 24), (403, 24), (1534, 25), (2083, 50),...   \n",
       "\n",
       "                                   test_interactions  \n",
       "0                       [(10440, 157), (13865, 157)]  \n",
       "1  [(1453, 153), (741, 154), (15679, 154), (11083...  \n",
       "2  [(12360, 155), (6898, 155), (4549, 160), (582,...  \n",
       "3                                      [(9062, 156)]  \n",
       "4                                      [(7025, 161)]  "
      ]
     },
     "execution_count": 56,
     "metadata": {},
     "output_type": "execute_result"
    }
   ],
   "source": [
    "train_grouped = filtered_train.groupby('user_id').apply(\n",
    "    lambda x: [(t1, t2) for t1, t2 in sorted(zip(x.item_id,\n",
    "                                                 x.last_watch_dt), key=lambda x: x[1])]\n",
    ").reset_index()\n",
    "train_grouped.rename({0:'train_interactions'}, axis=1, inplace=True)\n",
    "\n",
    "test_grouped = test_df.groupby('user_id').apply(\n",
    "    lambda x: [(t1, t2) for t1, t2 in sorted(zip(x.item_id,\n",
    "                                                         x.last_watch_dt), key=lambda x: x[1])]\n",
    ").reset_index()\n",
    "test_grouped.rename({0:'test_interactions'}, axis=1, inplace=True)\n",
    "\n",
    "train_grouped.head()\n",
    "\n",
    "joined_f = train_grouped.merge(test_grouped)\n",
    "joined_f.head()"
   ]
  },
  {
   "cell_type": "code",
   "execution_count": 57,
   "id": "92ca1190",
   "metadata": {},
   "outputs": [
    {
     "name": "stdout",
     "output_type": "stream",
     "text": [
      "    top_k       map       mrr        hr\n",
      "1     1.0  0.006867  0.006867  0.006867\n",
      "6     6.0  0.006291  0.012715  0.025660\n",
      "11   11.0  0.006884  0.014258  0.039754\n",
      "16   16.0  0.007393  0.015464  0.056740\n",
      "21   21.0  0.007790  0.016313  0.072642\n"
     ]
    }
   ],
   "source": [
    "top_k = range(1, 100, 5)\n",
    "df_top_k = pd.DataFrame({'top_k':[], 'map':[], 'mrr':[], 'hr':[]})\n",
    "j = joined_f.copy()\n",
    "w = fit_ease(matrix)\n",
    "\n",
    "for i in top_k:  \n",
    "    j['ease_r'] = j.train_interactions.apply(lambda x: get_preds(x, item2id, id2item, w, i))\n",
    "\n",
    "    res = evaluate_recommender(j, model_preds='ease_r')\n",
    "    df_top_k.loc[i] = [i, res['map'], res['mrr'], res['hr']]\n",
    "\n",
    "print(df_top_k.head())"
   ]
  },
  {
   "cell_type": "code",
   "execution_count": 58,
   "id": "d1c5f46a",
   "metadata": {},
   "outputs": [
    {
     "name": "stderr",
     "output_type": "stream",
     "text": [
      "d:\\Programs\\anac\\Lib\\site-packages\\seaborn\\_oldcore.py:1119: FutureWarning: use_inf_as_na option is deprecated and will be removed in a future version. Convert inf values to NaN before operating instead.\n",
      "  with pd.option_context('mode.use_inf_as_na', True):\n",
      "d:\\Programs\\anac\\Lib\\site-packages\\seaborn\\_oldcore.py:1119: FutureWarning: use_inf_as_na option is deprecated and will be removed in a future version. Convert inf values to NaN before operating instead.\n",
      "  with pd.option_context('mode.use_inf_as_na', True):\n",
      "d:\\Programs\\anac\\Lib\\site-packages\\seaborn\\_oldcore.py:1075: FutureWarning: When grouping with a length-1 list-like, you will need to pass a length-1 tuple to get_group in a future version of pandas. Pass `(name,)` instead of `name` to silence this warning.\n",
      "  data_subset = grouped_data.get_group(pd_key)\n",
      "d:\\Programs\\anac\\Lib\\site-packages\\seaborn\\_oldcore.py:1075: FutureWarning: When grouping with a length-1 list-like, you will need to pass a length-1 tuple to get_group in a future version of pandas. Pass `(name,)` instead of `name` to silence this warning.\n",
      "  data_subset = grouped_data.get_group(pd_key)\n",
      "d:\\Programs\\anac\\Lib\\site-packages\\seaborn\\_oldcore.py:1075: FutureWarning: When grouping with a length-1 list-like, you will need to pass a length-1 tuple to get_group in a future version of pandas. Pass `(name,)` instead of `name` to silence this warning.\n",
      "  data_subset = grouped_data.get_group(pd_key)\n"
     ]
    },
    {
     "data": {
      "text/plain": [
       "<Axes: xlabel='top_k', ylabel='value'>"
      ]
     },
     "execution_count": 58,
     "metadata": {},
     "output_type": "execute_result"
    },
    {
     "data": {
      "image/png": "[encoded data removed]",
      "text/plain": [
       "<Figure size 640x480 with 1 Axes>"
      ]
     },
     "metadata": {},
     "output_type": "display_data"
    }
   ],
   "source": [
    "df_w = pd.melt(df_top_k, ['top_k'])\n",
    "sns.lineplot(data=df_w, x='top_k', y='value', hue='variable')"
   ]
  },
  {
   "cell_type": "code",
   "execution_count": 59,
   "id": "a82571dd",
   "metadata": {},
   "outputs": [
    {
     "name": "stderr",
     "output_type": "stream",
     "text": [
      "d:\\Programs\\anac\\Lib\\site-packages\\seaborn\\_oldcore.py:1119: FutureWarning: use_inf_as_na option is deprecated and will be removed in a future version. Convert inf values to NaN before operating instead.\n",
      "  with pd.option_context('mode.use_inf_as_na', True):\n",
      "d:\\Programs\\anac\\Lib\\site-packages\\seaborn\\_oldcore.py:1119: FutureWarning: use_inf_as_na option is deprecated and will be removed in a future version. Convert inf values to NaN before operating instead.\n",
      "  with pd.option_context('mode.use_inf_as_na', True):\n",
      "d:\\Programs\\anac\\Lib\\site-packages\\seaborn\\_oldcore.py:1075: FutureWarning: When grouping with a length-1 list-like, you will need to pass a length-1 tuple to get_group in a future version of pandas. Pass `(name,)` instead of `name` to silence this warning.\n",
      "  data_subset = grouped_data.get_group(pd_key)\n",
      "d:\\Programs\\anac\\Lib\\site-packages\\seaborn\\_oldcore.py:1075: FutureWarning: When grouping with a length-1 list-like, you will need to pass a length-1 tuple to get_group in a future version of pandas. Pass `(name,)` instead of `name` to silence this warning.\n",
      "  data_subset = grouped_data.get_group(pd_key)\n"
     ]
    },
    {
     "data": {
      "text/plain": [
       "<Axes: xlabel='top_k', ylabel='value'>"
      ]
     },
     "execution_count": 59,
     "metadata": {},
     "output_type": "execute_result"
    },
    {
     "data": {
      "image/png": "[encoded data removed]",
      "text/plain": [
       "<Figure size 640x480 with 1 Axes>"
      ]
     },
     "metadata": {},
     "output_type": "display_data"
    }
   ],
   "source": [
    "df_w = pd.melt(df_top_k[['top_k', 'map', 'mrr']], ['top_k'])\n",
    "sns.lineplot(data=df_w, x='top_k', y='value', hue='variable')"
   ]
  },
  {
   "cell_type": "markdown",
   "id": "fec3b4b8-e2e0-4722-9f33-08922afe9ac8",
   "metadata": {
    "id": "fec3b4b8-e2e0-4722-9f33-08922afe9ac8"
   },
   "source": [
    "Что вы можете сказать на основе полученных графиков? Соответствуют ли они вашим ожиданиям?\n",
    "\n",
    "**Ответ:** Графики соответствую ожиданиям. Чем больше выборка айтемов, тем выше вероятность, что пользователь найдет в ней желаемый айтем."
   ]
  },
  {
   "cell_type": "markdown",
   "id": "3448c27a-aadb-4c6a-b17a-84bd58761e67",
   "metadata": {
    "id": "3448c27a-aadb-4c6a-b17a-84bd58761e67"
   },
   "source": [
    "**Задание №10. Интерпретируемые рекомендации**\n",
    "\n",
    "Используйте выученную матрицу весов для item2item рекомендаций. Приведите 10 примеров топ-5 рекомендаций от EASE к сэмплируемым айтемам. Используйте названия фильмов вместо id при выводе рекомендаций. "
   ]
  },
  {
   "cell_type": "code",
   "execution_count": 60,
   "id": "83946038-22e8-461f-8385-dd308a284825",
   "metadata": {
    "id": "83946038-22e8-461f-8385-dd308a284825"
   },
   "outputs": [
    {
     "name": "stdout",
     "output_type": "stream",
     "text": [
      "0         [6686, 6193, 10971, 9214, 8070]\n",
      "1        [15297, 13865, 4495, 8373, 6192]\n",
      "2          [142, 9728, 10772, 2657, 4151]\n",
      "3         [10440, 6443, 7216, 3784, 3768]\n",
      "4        [142, 12609, 14703, 10569, 9079]\n",
      "                      ...                \n",
      "2762       [8101, 2956, 741, 6964, 10939]\n",
      "2763     [11654, 4946, 8726, 15473, 9370]\n",
      "2764    [15297, 10440, 12396, 6192, 4495]\n",
      "2765     [10941, 8337, 10732, 1737, 1785]\n",
      "2766       [9728, 7102, 7793, 7829, 5287]\n",
      "Name: ease_r, Length: 2767, dtype: object\n"
     ]
    }
   ],
   "source": [
    "j = joined_f.copy()\n",
    "w = fit_ease(matrix)\n",
    "\n",
    "j['ease_r'] = j.train_interactions.apply(lambda x: get_preds(x, item2id, id2item, w, 5))\n",
    "\n",
    "j['name_item'] = j['ease_r'].apply(lambda x: [items[items['item_id']==id]['title'].values[0] for id in x])\n",
    "\n",
    "print(j['ease_r'])"
   ]
  },
  {
   "cell_type": "code",
   "execution_count": 61,
   "id": "4ef1fa84",
   "metadata": {},
   "outputs": [],
   "source": [
    "j['name_item_test'] = j['test_interactions'].apply(lambda x: [items[items['item_id']==id[0]]['title'].values[0] for id in x])"
   ]
  },
  {
   "cell_type": "code",
   "execution_count": null,
   "id": "5e50cf29",
   "metadata": {},
   "outputs": [],
   "source": [
    "j['name_item_train'] = j['train_interactions'].apply(lambda x: [items[items['item_id'] == id[0]]['title'].values[0] for id in x])"
   ]
  },
  {
   "cell_type": "code",
   "execution_count": 79,
   "id": "fba6489e",
   "metadata": {},
   "outputs": [
    {
     "data": {
      "text/plain": [
       "0       [[Стукач], [Преступления страсти], [Эвротико 5...\n",
       "1       [[Любовь или секс], [Стены], [Мосгорсмех], [Де...\n",
       "2       [[Бояка мухи не обидит], [Солдат Иван Бровкин]...\n",
       "3       [[Главное – не бояться!], [Северо-Юг], [Кримин...\n",
       "4       [[Игры джентльменов], [Встреча двух сердец (Ка...\n",
       "                              ...                        \n",
       "2762    [[Город 312 - караоке], [Папик (жестовым языко...\n",
       "2763    [[Пиковая дама], [Белая ночь, нежная ночь], [Т...\n",
       "2764    [[Бледнолицый лжец], [Пришелец из Сказки], [Зо...\n",
       "2765    [[Мульт «Кухня»], [], [], [Переполох], [TheBra...\n",
       "2766    [[Главное – не бояться!], [Эвротико 7], [Москв...\n",
       "Name: name_item_train, Length: 2767, dtype: object"
      ]
     },
     "execution_count": 79,
     "metadata": {},
     "output_type": "execute_result"
    }
   ],
   "source": [
    "j['name_item_train']"
   ]
  },
  {
   "cell_type": "code",
   "execution_count": 104,
   "id": "50e0341d",
   "metadata": {},
   "outputs": [
    {
     "data": {
      "text/html": [
       "<div>\n",
       "<style scoped>\n",
       "    .dataframe tbody tr th:only-of-type {\n",
       "        vertical-align: middle;\n",
       "    }\n",
       "\n",
       "    .dataframe tbody tr th {\n",
       "        vertical-align: top;\n",
       "    }\n",
       "\n",
       "    .dataframe thead th {\n",
       "        text-align: right;\n",
       "    }\n",
       "</style>\n",
       "<table border=\"1\" class=\"dataframe\">\n",
       "  <thead>\n",
       "    <tr style=\"text-align: right;\">\n",
       "      <th></th>\n",
       "      <th>user_id</th>\n",
       "      <th>train_interactions</th>\n",
       "      <th>test_interactions</th>\n",
       "      <th>ease_r</th>\n",
       "      <th>name_item</th>\n",
       "      <th>name_item_test</th>\n",
       "      <th>name_item_train</th>\n",
       "    </tr>\n",
       "  </thead>\n",
       "  <tbody>\n",
       "    <tr>\n",
       "      <th>1395</th>\n",
       "      <td>150771</td>\n",
       "      <td>[(1678, 79), (245, 79), (1321, 85), (1191, 86)...</td>\n",
       "      <td>[(14488, 158), (3734, 159)]</td>\n",
       "      <td>[9214, 8070, 5669, 7107, 15428]</td>\n",
       "      <td>[Ржев, Приказ \"Уничтожить\", 28 панфиловцев, Де...</td>\n",
       "      <td>[Мастер меча, Прабабушка легкого поведения]</td>\n",
       "      <td>[[Тихое место], [Парижанка], [Созвездие Сказок...</td>\n",
       "    </tr>\n",
       "    <tr>\n",
       "      <th>1411</th>\n",
       "      <td>151955</td>\n",
       "      <td>[(371, 10), (1501, 11), (295, 20), (135, 51), ...</td>\n",
       "      <td>[(3363, 154), (1785, 154), (7626, 154), (12360...</td>\n",
       "      <td>[9214, 8070, 7107, 8373, 24]</td>\n",
       "      <td>[Ржев, Приказ \"Уничтожить\", Девятаев, Любовь м...</td>\n",
       "      <td>[Помогите, я уменьшил свою училку!, Чёрная пан...</td>\n",
       "      <td>[[Виктория], [Брачные игры], [Подводная лодка]...</td>\n",
       "    </tr>\n",
       "    <tr>\n",
       "      <th>1042</th>\n",
       "      <td>112852</td>\n",
       "      <td>[(12, 105), (32, 105), (1963, 106), (920, 106)...</td>\n",
       "      <td>[(16484, 155), (9728, 155), (7793, 155)]</td>\n",
       "      <td>[9896, 8373, 3804, 12501, 146]</td>\n",
       "      <td>[В гостях у Элис, Любовь между строк, Mamma Mi...</td>\n",
       "      <td>[Пила: Начало, Гнев человеческий, Радиовспышка]</td>\n",
       "      <td>[[Ворона-проказница], [В ритме сердца], [Даже ...</td>\n",
       "    </tr>\n",
       "    <tr>\n",
       "      <th>600</th>\n",
       "      <td>67167</td>\n",
       "      <td>[(1327, 102), (616, 133), (1333, 133), (309, 1...</td>\n",
       "      <td>[(12149, 154), (1046, 158)]</td>\n",
       "      <td>[14809, 5635, 16244, 3474, 6192]</td>\n",
       "      <td>[Красотка, Другая женщина, Предложение (2009),...</td>\n",
       "      <td>[9 рота, Легенда о Красном Орле]</td>\n",
       "      <td>[[Сердцеедки], [Слушай своё сердце], [Мальтийс...</td>\n",
       "    </tr>\n",
       "    <tr>\n",
       "      <th>124</th>\n",
       "      <td>14443</td>\n",
       "      <td>[(66, 111), (70, 113), (12, 116), (488, 116), ...</td>\n",
       "      <td>[(4583, 162), (10073, 162)]</td>\n",
       "      <td>[4740, 12995, 13865, 9445, 2043]</td>\n",
       "      <td>[Сахаров. Две жизни, Восемь сотен, Девятаев, Л...</td>\n",
       "      <td>[Успеть до полуночи, Джон Уик 3]</td>\n",
       "      <td>[[Три дня на побег], [Мульт «Кухня»], [Ворона-...</td>\n",
       "    </tr>\n",
       "    <tr>\n",
       "      <th>1466</th>\n",
       "      <td>159492</td>\n",
       "      <td>[(209, 115), (187, 115), (1515, 116), (2028, 1...</td>\n",
       "      <td>[(9506, 157), (7582, 157), (7192, 158), (3541,...</td>\n",
       "      <td>[15297, 3734, 12663, 1042, 11237]</td>\n",
       "      <td>[Клиника счастья, Прабабушка легкого поведения...</td>\n",
       "      <td>[Холодное сердце, Холодное сердце II, Ледников...</td>\n",
       "      <td>[[Общее достояние], [Край Бебис Мэджик Тирс], ...</td>\n",
       "    </tr>\n",
       "    <tr>\n",
       "      <th>971</th>\n",
       "      <td>105378</td>\n",
       "      <td>[(114, 24), (2126, 24), (803, 24), (107, 24), ...</td>\n",
       "      <td>[(15297, 158), (12615, 158)]</td>\n",
       "      <td>[12743, 3541, 10119, 7192, 9214]</td>\n",
       "      <td>[Ледниковый период 4: Континентальный дрейф, Л...</td>\n",
       "      <td>[Клиника счастья, Вызов]</td>\n",
       "      <td>[[Неизвестная Италия. Матера — город из камня ...</td>\n",
       "    </tr>\n",
       "    <tr>\n",
       "      <th>150</th>\n",
       "      <td>18278</td>\n",
       "      <td>[(260, 1), (233, 54), (791, 84), (2665, 84), (...</td>\n",
       "      <td>[(846, 154), (476, 155), (3554, 156), (4281, 1...</td>\n",
       "      <td>[5635, 3076, 4448, 6143, 1562]</td>\n",
       "      <td>[Другая женщина, Земля кочевников (субтитры), ...</td>\n",
       "      <td>[Новенький, Мир грядущий, Последняя смена, Бол...</td>\n",
       "      <td>[[Прости за любовь], [Белый пудель], [Суходол]...</td>\n",
       "    </tr>\n",
       "    <tr>\n",
       "      <th>2623</th>\n",
       "      <td>287170</td>\n",
       "      <td>[(12, 105), (70, 105), (54, 149), (682, 149), ...</td>\n",
       "      <td>[(15411, 159), (9718, 161)]</td>\n",
       "      <td>[10942, 7626, 12173, 3940, 9298]</td>\n",
       "      <td>[Мстители, Мстители: Война бесконечности, Мсти...</td>\n",
       "      <td>[Двойник дьявола, Ребекка]</td>\n",
       "      <td>[[Ворона-проказница], [Мульт «Кухня»], [Пинкфо...</td>\n",
       "    </tr>\n",
       "    <tr>\n",
       "      <th>1479</th>\n",
       "      <td>160663</td>\n",
       "      <td>[(1546, 0), (5060, 1), (3632, 2), (1112, 2), (...</td>\n",
       "      <td>[(5434, 156), (8776, 162), (9728, 162), (14488...</td>\n",
       "      <td>[13545, 13865, 2657, 12995, 598]</td>\n",
       "      <td>[Королевские каникулы, Девятаев, Подслушано, В...</td>\n",
       "      <td>[История семьи Блум, Ещё один мальчишник, Гнев...</td>\n",
       "      <td>[[Схема], [Ограбление века. Пропавшие сокровищ...</td>\n",
       "    </tr>\n",
       "  </tbody>\n",
       "</table>\n",
       "</div>"
      ],
      "text/plain": [
       "      user_id                                 train_interactions  \\\n",
       "1395   150771  [(1678, 79), (245, 79), (1321, 85), (1191, 86)...   \n",
       "1411   151955  [(371, 10), (1501, 11), (295, 20), (135, 51), ...   \n",
       "1042   112852  [(12, 105), (32, 105), (1963, 106), (920, 106)...   \n",
       "600     67167  [(1327, 102), (616, 133), (1333, 133), (309, 1...   \n",
       "124     14443  [(66, 111), (70, 113), (12, 116), (488, 116), ...   \n",
       "1466   159492  [(209, 115), (187, 115), (1515, 116), (2028, 1...   \n",
       "971    105378  [(114, 24), (2126, 24), (803, 24), (107, 24), ...   \n",
       "150     18278  [(260, 1), (233, 54), (791, 84), (2665, 84), (...   \n",
       "2623   287170  [(12, 105), (70, 105), (54, 149), (682, 149), ...   \n",
       "1479   160663  [(1546, 0), (5060, 1), (3632, 2), (1112, 2), (...   \n",
       "\n",
       "                                      test_interactions  \\\n",
       "1395                        [(14488, 158), (3734, 159)]   \n",
       "1411  [(3363, 154), (1785, 154), (7626, 154), (12360...   \n",
       "1042           [(16484, 155), (9728, 155), (7793, 155)]   \n",
       "600                         [(12149, 154), (1046, 158)]   \n",
       "124                         [(4583, 162), (10073, 162)]   \n",
       "1466  [(9506, 157), (7582, 157), (7192, 158), (3541,...   \n",
       "971                        [(15297, 158), (12615, 158)]   \n",
       "150   [(846, 154), (476, 155), (3554, 156), (4281, 1...   \n",
       "2623                        [(15411, 159), (9718, 161)]   \n",
       "1479  [(5434, 156), (8776, 162), (9728, 162), (14488...   \n",
       "\n",
       "                                 ease_r  \\\n",
       "1395    [9214, 8070, 5669, 7107, 15428]   \n",
       "1411       [9214, 8070, 7107, 8373, 24]   \n",
       "1042     [9896, 8373, 3804, 12501, 146]   \n",
       "600    [14809, 5635, 16244, 3474, 6192]   \n",
       "124    [4740, 12995, 13865, 9445, 2043]   \n",
       "1466  [15297, 3734, 12663, 1042, 11237]   \n",
       "971    [12743, 3541, 10119, 7192, 9214]   \n",
       "150      [5635, 3076, 4448, 6143, 1562]   \n",
       "2623   [10942, 7626, 12173, 3940, 9298]   \n",
       "1479   [13545, 13865, 2657, 12995, 598]   \n",
       "\n",
       "                                              name_item  \\\n",
       "1395  [Ржев, Приказ \"Уничтожить\", 28 панфиловцев, Де...   \n",
       "1411  [Ржев, Приказ \"Уничтожить\", Девятаев, Любовь м...   \n",
       "1042  [В гостях у Элис, Любовь между строк, Mamma Mi...   \n",
       "600   [Красотка, Другая женщина, Предложение (2009),...   \n",
       "124   [Сахаров. Две жизни, Восемь сотен, Девятаев, Л...   \n",
       "1466  [Клиника счастья, Прабабушка легкого поведения...   \n",
       "971   [Ледниковый период 4: Континентальный дрейф, Л...   \n",
       "150   [Другая женщина, Земля кочевников (субтитры), ...   \n",
       "2623  [Мстители, Мстители: Война бесконечности, Мсти...   \n",
       "1479  [Королевские каникулы, Девятаев, Подслушано, В...   \n",
       "\n",
       "                                         name_item_test  \\\n",
       "1395        [Мастер меча, Прабабушка легкого поведения]   \n",
       "1411  [Помогите, я уменьшил свою училку!, Чёрная пан...   \n",
       "1042    [Пила: Начало, Гнев человеческий, Радиовспышка]   \n",
       "600                    [9 рота, Легенда о Красном Орле]   \n",
       "124                    [Успеть до полуночи, Джон Уик 3]   \n",
       "1466  [Холодное сердце, Холодное сердце II, Ледников...   \n",
       "971                            [Клиника счастья, Вызов]   \n",
       "150   [Новенький, Мир грядущий, Последняя смена, Бол...   \n",
       "2623                         [Двойник дьявола, Ребекка]   \n",
       "1479  [История семьи Блум, Ещё один мальчишник, Гнев...   \n",
       "\n",
       "                                        name_item_train  \n",
       "1395  [[Тихое место], [Парижанка], [Созвездие Сказок...  \n",
       "1411  [[Виктория], [Брачные игры], [Подводная лодка]...  \n",
       "1042  [[Ворона-проказница], [В ритме сердца], [Даже ...  \n",
       "600   [[Сердцеедки], [Слушай своё сердце], [Мальтийс...  \n",
       "124   [[Три дня на побег], [Мульт «Кухня»], [Ворона-...  \n",
       "1466  [[Общее достояние], [Край Бебис Мэджик Тирс], ...  \n",
       "971   [[Неизвестная Италия. Матера — город из камня ...  \n",
       "150   [[Прости за любовь], [Белый пудель], [Суходол]...  \n",
       "2623  [[Ворона-проказница], [Мульт «Кухня»], [Пинкфо...  \n",
       "1479  [[Схема], [Ограбление века. Пропавшие сокровищ...  "
      ]
     },
     "execution_count": 104,
     "metadata": {},
     "output_type": "execute_result"
    }
   ],
   "source": [
    "j.sample(10)"
   ]
  },
  {
   "cell_type": "markdown",
   "id": "8fed8a63-c95d-458b-b437-2856927c85bb",
   "metadata": {
    "id": "8fed8a63-c95d-458b-b437-2856927c85bb"
   },
   "source": [
    "Хорошие ли получились рекомендации? Почему? Есть ли хорошие примеры? Есть ли плохие? Почему бывают плохие примеры?\n",
    "\n",
    "**Ответ:** Рекомендации получились не очень хорошие, но есть пользователи с хорошими: 139961 - юзер смотрел мультфильмы и ему прдложили мультфильм, 26929, 170635 - смотрел Последний богатырь, а ему предложили другую часть Последнего богатыря. Плохие примеры тоже есть - к сожалению, сразу не записала user_id, но было, что пользователь смотрел только русские сериалы, а ему предложили все иностранные, также если человек посмотрел 1 фильм из серии, то в рекомендации может попасться несколько фильмов из нее.\n",
    "Плохие примеры могут быть, из-за того, что аккаунтом пользуется несколько человек, фатем не очень популярный и алгоритм не может понять какой другой айтем похож на него. Если юзер долгое время смотрел один тип айтемов, то ему будут рекомендовать только их, даже если он начнет смотреть внезапно другие."
   ]
  }
 ],
 "metadata": {
  "colab": {
   "provenance": []
  },
  "kernelspec": {
   "display_name": "base",
   "language": "python",
   "name": "python3"
  },
  "language_info": {
   "codemirror_mode": {
    "name": "ipython",
    "version": 3
   },
   "file_extension": ".py",
   "mimetype": "text/x-python",
   "name": "python",
   "nbconvert_exporter": "python",
   "pygments_lexer": "ipython3",
   "version": "3.11.4"
  }
 },
 "nbformat": 4,
 "nbformat_minor": 5
}
