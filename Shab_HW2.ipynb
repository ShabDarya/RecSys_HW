{
 "cells": [
  {
   "cell_type": "markdown",
   "id": "93831896-683d-4946-8cae-7aff56608a65",
   "metadata": {},
   "source": [
    "## ДЗ №2. Матричные факторизации"
   ]
  },
  {
   "cell_type": "markdown",
   "id": "03b424ec-3791-4113-a672-25ef7cfa704d",
   "metadata": {},
   "source": [
    "#### В этой домашке вам предстоит реализовать некоторые базовые модели матричной факторизации\n",
    "\n",
    "#### Дата выдачи: 17.02.25\n",
    "\n",
    "#### Мягкий дедлайн: 02.03.25 23:59 MSK\n",
    "\n",
    "#### Жесткий дедлайн: 09.03.25 23:59 MSK"
   ]
  },
  {
   "cell_type": "markdown",
   "id": "d8f4b315-75b8-4225-953c-5510c584ff2b",
   "metadata": {},
   "source": [
    "В этом задании мы будем работать с классическим для рекоендательных систем датасетом [MovieLens 1M](https://grouplens.org/datasets/movielens/1m/). Датасет содержит рейтинги оценки для 4000 фильмов от 6000 пользователей. Более подробное описание можете найти на странице с датасетом и в README файле"
   ]
  },
  {
   "cell_type": "code",
   "execution_count": 1,
   "id": "f5a85f84-4854-4249-963d-143d08bb7e36",
   "metadata": {},
   "outputs": [
    {
     "name": "stderr",
     "output_type": "stream",
     "text": [
      "\"wget\" �� ���� ����७��� ��� ���譥�\n",
      "��������, �ᯮ��塞�� �ணࠬ��� ��� ������ 䠩���.\n",
      "\"unzip\" �� ���� ����७��� ��� ���譥�\n",
      "��������, �ᯮ��塞�� �ணࠬ��� ��� ������ 䠩���.\n",
      "\"cat\" �� ���� ����७��� ��� ���譥�\n",
      "��������, �ᯮ��塞�� �ணࠬ��� ��� ������ 䠩���.\n"
     ]
    }
   ],
   "source": [
    "!wget https://files.grouplens.org/datasets/movielens/ml-1m.zip\n",
    "!unzip ml-1m.zip\n",
    "!cat ml-1m/README"
   ]
  },
  {
   "cell_type": "code",
   "execution_count": 2,
   "id": "669137ca-f0f9-48d4-ae04-e42a4b0f8d14",
   "metadata": {},
   "outputs": [
    {
     "name": "stderr",
     "output_type": "stream",
     "text": [
      "d:\\Programs\\anac\\Lib\\site-packages\\pandas\\core\\arrays\\masked.py:60: UserWarning: Pandas requires version '1.3.6' or newer of 'bottleneck' (version '1.3.5' currently installed).\n",
      "  from pandas.core import (\n"
     ]
    }
   ],
   "source": [
    "import pandas as pd\n",
    "import numpy as np\n",
    "from typing import Union"
   ]
  },
  {
   "cell_type": "code",
   "execution_count": 3,
   "id": "ed65b0ae-ce2d-437a-9739-e7981011089f",
   "metadata": {},
   "outputs": [
    {
     "data": {
      "text/html": [
       "<div>\n",
       "<style scoped>\n",
       "    .dataframe tbody tr th:only-of-type {\n",
       "        vertical-align: middle;\n",
       "    }\n",
       "\n",
       "    .dataframe tbody tr th {\n",
       "        vertical-align: top;\n",
       "    }\n",
       "\n",
       "    .dataframe thead th {\n",
       "        text-align: right;\n",
       "    }\n",
       "</style>\n",
       "<table border=\"1\" class=\"dataframe\">\n",
       "  <thead>\n",
       "    <tr style=\"text-align: right;\">\n",
       "      <th></th>\n",
       "      <th>user_id</th>\n",
       "      <th>item_id</th>\n",
       "      <th>rating</th>\n",
       "      <th>datetime</th>\n",
       "    </tr>\n",
       "  </thead>\n",
       "  <tbody>\n",
       "    <tr>\n",
       "      <th>0</th>\n",
       "      <td>1</td>\n",
       "      <td>1193</td>\n",
       "      <td>5</td>\n",
       "      <td>2000-12-31 22:12:40</td>\n",
       "    </tr>\n",
       "    <tr>\n",
       "      <th>1</th>\n",
       "      <td>1</td>\n",
       "      <td>661</td>\n",
       "      <td>3</td>\n",
       "      <td>2000-12-31 22:35:09</td>\n",
       "    </tr>\n",
       "    <tr>\n",
       "      <th>2</th>\n",
       "      <td>1</td>\n",
       "      <td>914</td>\n",
       "      <td>3</td>\n",
       "      <td>2000-12-31 22:32:48</td>\n",
       "    </tr>\n",
       "    <tr>\n",
       "      <th>3</th>\n",
       "      <td>1</td>\n",
       "      <td>3408</td>\n",
       "      <td>4</td>\n",
       "      <td>2000-12-31 22:04:35</td>\n",
       "    </tr>\n",
       "    <tr>\n",
       "      <th>4</th>\n",
       "      <td>1</td>\n",
       "      <td>2355</td>\n",
       "      <td>5</td>\n",
       "      <td>2001-01-06 23:38:11</td>\n",
       "    </tr>\n",
       "  </tbody>\n",
       "</table>\n",
       "</div>"
      ],
      "text/plain": [
       "   user_id  item_id  rating            datetime\n",
       "0        1     1193       5 2000-12-31 22:12:40\n",
       "1        1      661       3 2000-12-31 22:35:09\n",
       "2        1      914       3 2000-12-31 22:32:48\n",
       "3        1     3408       4 2000-12-31 22:04:35\n",
       "4        1     2355       5 2001-01-06 23:38:11"
      ]
     },
     "execution_count": 3,
     "metadata": {},
     "output_type": "execute_result"
    }
   ],
   "source": [
    "df = pd.read_csv(\"ml-1m/ratings.dat\", sep='::', names=['user_id', 'item_id', 'rating', 'timestamp'], engine='python')\n",
    "df['datetime'] = pd.to_datetime(df['timestamp'], unit='s')\n",
    "df.drop('timestamp', axis=1, inplace=True)\n",
    "df.head()"
   ]
  },
  {
   "cell_type": "code",
   "execution_count": 4,
   "id": "4988d476-542e-4a32-9c45-7a16bc2a5db5",
   "metadata": {},
   "outputs": [],
   "source": [
    "value_counts = df['item_id'].value_counts()\n",
    "filtered_values = value_counts[value_counts > 20].index\n",
    "df = df[df['item_id'].isin(filtered_values)].copy()"
   ]
  },
  {
   "cell_type": "code",
   "execution_count": 5,
   "id": "1e05bd3b-ab2f-4c02-9a97-a4153e9550bc",
   "metadata": {},
   "outputs": [
    {
     "data": {
      "text/plain": [
       "((787420, 4), (207432, 4))"
      ]
     },
     "execution_count": 5,
     "metadata": {},
     "output_type": "execute_result"
    }
   ],
   "source": [
    "train_end = '2000-12-01'\n",
    "df_train = df[df['datetime'] < train_end].copy()\n",
    "df_test = df[df['datetime'] >= train_end].copy()\n",
    "df_train.shape, df_test.shape"
   ]
  },
  {
   "cell_type": "code",
   "execution_count": 6,
   "id": "414b8ed7-20d6-4778-9d60-f9c8ccbfa7e3",
   "metadata": {},
   "outputs": [
    {
     "data": {
      "text/plain": [
       "(106471, 4)"
      ]
     },
     "execution_count": 6,
     "metadata": {},
     "output_type": "execute_result"
    }
   ],
   "source": [
    "train_users = df_train['user_id'].unique()\n",
    "train_items = df_train['item_id'].unique()\n",
    "\n",
    "df_test = df_test[df_test['user_id'].isin(train_users)]\n",
    "df_test = df_test[df_test['item_id'].isin(train_items)]\n",
    "df_test.shape"
   ]
  },
  {
   "cell_type": "code",
   "execution_count": 7,
   "id": "19f53d61-990c-4626-a470-7eefd06d2ec7",
   "metadata": {},
   "outputs": [],
   "source": [
    "from sklearn.preprocessing import LabelEncoder\n",
    "\n",
    "user_le = LabelEncoder()\n",
    "item_le = LabelEncoder()\n",
    "\n",
    "df_train['user_id'] = user_le.fit_transform(df_train['user_id'])\n",
    "df_train['item_id'] = item_le.fit_transform(df_train['item_id'])\n",
    "\n",
    "df_test['user_id'] = user_le.transform(df_test['user_id'])\n",
    "df_test['item_id'] = item_le.transform(df_test['item_id'])"
   ]
  },
  {
   "cell_type": "code",
   "execution_count": 8,
   "id": "f4ef3e2f-792d-4511-b4d0-74495d9cb30b",
   "metadata": {},
   "outputs": [
    {
     "data": {
      "text/plain": [
       "(3010, 3009)"
      ]
     },
     "execution_count": 8,
     "metadata": {},
     "output_type": "execute_result"
    }
   ],
   "source": [
    "df_train['user_id'].nunique(), df_train['user_id'].max()\n",
    "df_train['item_id'].nunique(), df_train['item_id'].max()"
   ]
  },
  {
   "cell_type": "markdown",
   "id": "3d356df8-9157-4752-b30d-dc80aba5e53c",
   "metadata": {},
   "source": [
    "##### Задание 1. Напишем функцию, которая превратит датафрейм в матрицу интеракций. В функции df_to_matrix реализуйте функцию, которая принимает датафрейм и возвращает np.array матрицу интеракций. В функции df_to_coo реализуйте функцию, которая принимает датафрейм и возвращает разреженную матрицу интеракций в coo_array формате"
   ]
  },
  {
   "cell_type": "code",
   "execution_count": 9,
   "id": "d38a7bb7-7f2d-4957-8dac-6397af9b1645",
   "metadata": {},
   "outputs": [],
   "source": [
    "def df_to_matrix(df: pd.DataFrame) -> np.ndarray:\n",
    "    result = pd.pivot_table(df, index='user_id', columns='item_id', values='rating', fill_value=0)\n",
    "    result = result.to_numpy()\n",
    "\n",
    "    return result #shape ~ [n_users, n_items]"
   ]
  },
  {
   "cell_type": "code",
   "execution_count": 10,
   "id": "55362cbb-5e2d-455b-afd1-8507f1dd51ba",
   "metadata": {},
   "outputs": [],
   "source": [
    "interactions = df_to_matrix(df_train)"
   ]
  },
  {
   "cell_type": "code",
   "execution_count": 11,
   "id": "794b646d-a560-42dd-a466-87cad2589271",
   "metadata": {},
   "outputs": [],
   "source": [
    "from scipy.sparse import coo_array\n",
    "\n",
    "def df_to_coo(df: pd.DataFrame) -> coo_array:\n",
    "    result = pd.pivot_table(df, index='user_id', columns='item_id', values='rating', fill_value=0)\n",
    "    rows, cols = np.where(result >= 0)\n",
    "    data = result.values[rows, cols]\n",
    "    result = coo_array((data, (rows, cols)), shape=result.shape)\n",
    "\n",
    "    return result "
   ]
  },
  {
   "cell_type": "code",
   "execution_count": 12,
   "id": "30f9c218-0419-41b2-a112-c2214fad1d99",
   "metadata": {},
   "outputs": [],
   "source": [
    "coo_interactions = df_to_coo(df_train)"
   ]
  },
  {
   "cell_type": "code",
   "execution_count": 13,
   "id": "96b57a7a-0551-4f75-8047-fb9904ac93df",
   "metadata": {},
   "outputs": [],
   "source": [
    "assert (interactions != 0).sum() == df_train.shape[0]\n",
    "assert interactions[0, 2994] == 3\n",
    "assert interactions[2369, 1203] == 5\n",
    "assert interactions[1557, 459] == 3\n",
    "assert np.allclose(coo_interactions.toarray(), interactions)"
   ]
  },
  {
   "cell_type": "markdown",
   "id": "93b3862a-e62a-4ebe-a70c-29102e9f99fd",
   "metadata": {},
   "source": [
    "##### Задание 2.1. Рассмотрим [SVD](https://en.wikipedia.org/wiki/Singular_value_decomposition). Возьмите готовую реализуцию алгоритма из numpy.linalg или из scipy.linalg и примените алгоритм к матрицам интеракций, полученным в первом задании. Для работы со sparse матрицей обычная реализация svd не подойдет и нужно будет воспользоваться scipy.sparse.linalg.svds. Вам нужно разложить матрицу интеракций на 3 матрицы U, S, V, а затем перемножить их и восстановить изначальную матрицу. При полном разложении исходная матрица должна восстанавливаться максимально хорошо"
   ]
  },
  {
   "cell_type": "code",
   "execution_count": 14,
   "id": "aad88643",
   "metadata": {},
   "outputs": [],
   "source": [
    "from numpy.linalg import svd\n",
    "from scipy.sparse.linalg import svds"
   ]
  },
  {
   "cell_type": "code",
   "execution_count": 15,
   "id": "eead134a-9aac-4027-b0b8-592de614c3d0",
   "metadata": {},
   "outputs": [],
   "source": [
    "def make_svd(interractions: Union[np.ndarray, coo_array], n_singular_values: int = -1):\n",
    "    # функция должна работать и для полной матрицы и для sparse матрицы(вам поможет isinstance).\n",
    "    # если n_singular_values = -1, то берем все сингулярные числа для полной матрицы\n",
    "    # и все кроме одного сингулярного числа для coo-матрицы(иначе scipy.sparse.linalg.svds не будет работать)\n",
    "    try:\n",
    "        if isinstance(interactions, np.ndarray):\n",
    "            if n_singular_values == -1:\n",
    "                U, s, V = svd(interractions)\n",
    "                shape = interractions.shape\n",
    "            else:\n",
    "                U, s, V = svd(interractions, full_matrices=False)\n",
    "                shape = (n_singular_values, n_singular_values)\n",
    "\n",
    "            S = np.zeros(shape)\n",
    "            S[:len(s), :len(s)] = np.diag(s)\n",
    "        \n",
    "        else:\n",
    "            if n_singular_values == -1:\n",
    "                M, N = interractions.shape\n",
    "                k = min(M, N) - 1\n",
    "                U, s, V = svds(interractions, k)\n",
    "                shape = (k, k)\n",
    "            else:\n",
    "                U, s, V = svds(interractions, n_singular_values)\n",
    "                shape = (n_singular_values, n_singular_values)\n",
    "            \n",
    "            S = np.zeros(shape)\n",
    "            S[:len(s), :len(s)] = np.diag(s)\n",
    "    except:\n",
    "        inter = coo_array(interactions)\n",
    "\n",
    "        if n_singular_values == -1:\n",
    "            M, N = inter.shape\n",
    "            k = min(M, N) - 1\n",
    "            U, s, V = svds(inter, k)\n",
    "            shape = (k, k)\n",
    "        else:\n",
    "            U, s, V = svds(inter, n_singular_values)\n",
    "            shape = (n_singular_values, n_singular_values)\n",
    "        \n",
    "        S = np.zeros(shape)\n",
    "        S[:len(s), :len(s)] = np.diag(s)\n",
    "    \n",
    "\n",
    "    return U, S, V"
   ]
  },
  {
   "cell_type": "code",
   "execution_count": 16,
   "id": "5c5fecd4-4739-4f6b-9c9c-44bde8b66a34",
   "metadata": {},
   "outputs": [],
   "source": [
    "U, S, V = make_svd(interactions)\n",
    "assert np.allclose(U @ S @ V, interactions)"
   ]
  },
  {
   "cell_type": "code",
   "execution_count": 17,
   "id": "c5a5f59e-3832-4a7d-95b4-856531582bbd",
   "metadata": {},
   "outputs": [],
   "source": [
    "U1, S1, V1 = make_svd(interactions, 10)\n",
    "U, S, V = make_svd(coo_interactions, 10)\n",
    "assert np.allclose(U1 @ S1 @ V1, U @ S @ V)"
   ]
  },
  {
   "cell_type": "markdown",
   "id": "9443daa6-e9f1-414a-8107-5a3016452929",
   "metadata": {},
   "source": [
    "##### Задание 2.2. Теперь попробуем сделать рекомендации с помощью SVD. Мы научились восстанавливать исходную матрицу с помощью разложения, теперь же мы хотим порекомендовать пользователю айтемы, которые будут для него максимально релевантны(в восстановленной матрице у них будет самый высокий скор). Для каждого пользователя нужно будет найти индексы айтемов, которые имеют максимальный скор. При этом стоит обратить внимание, что мы не хотим рекомендовать пользователю айтемы, с которыми он уже взаимодействовал"
   ]
  },
  {
   "cell_type": "code",
   "execution_count": 18,
   "id": "787da18f-48d0-4dfa-b18f-b7e97cc98a4f",
   "metadata": {},
   "outputs": [],
   "source": [
    "import warnings\n",
    "warnings.filterwarnings(\"ignore\")\n",
    "def make_svd_recommendations(interractions: Union[np.ndarray, coo_array], n_singular_values: int = -1, top_k: int = 100):\n",
    "    # Возвращает матрицу вида n_users, top_k, то есть для каждого пользователя возвращаем индексы \n",
    "    # top_k самых релевантный айтемов среди тех с которыми он еще не взаимодействовал\n",
    "\n",
    "    #your code here\n",
    "    U, S, V = make_svd(interractions, n_singular_values)\n",
    "    preds_matrix = U @ S @ V\n",
    "    recommendations = []\n",
    "    try:\n",
    "        c = interractions[0, :]\n",
    "        \n",
    "    except:\n",
    "        interractions = interractions.todense()\n",
    "    finally:\n",
    "        for i in range(0, interractions.shape[0]):\n",
    "            df = pd.DataFrame(data=(zip(interractions[i, :], preds_matrix[i, :])), columns=['init', 'preds']).sort_values(by='init', ascending=False)\n",
    "            df['preds'] = df['preds'].astype('float32')\n",
    "\n",
    "            recommend = df.sort_values(by='preds', ascending=False)\n",
    "            recommend = recommend[recommend.init == 0].head(top_k)\n",
    "\n",
    "            recommendations.append(list(recommend.index))\n",
    "    return np.array(recommendations) #shape ~ [n_users, top_k]"
   ]
  },
  {
   "cell_type": "code",
   "execution_count": 19,
   "id": "ec72f3dd-c8f2-4434-b84e-ef016c4773a1",
   "metadata": {},
   "outputs": [],
   "source": [
    "recs = make_svd_recommendations(interactions, -1, 100)\n",
    "assert recs.shape == (interactions.shape[0], 100)"
   ]
  },
  {
   "cell_type": "markdown",
   "id": "f5d0b788-855a-4fd9-8cbb-38c0dd289ef5",
   "metadata": {},
   "source": [
    "##### Задание 2.3. Теперь давайте посмотрим как будет зависеть качетво рекомендаций, от количества сингулярных чисел, которые мы возьмем в SVD разложении. Переберите n_singular_values из списка [1, 10, 50, 200, 1000] и посмотрите как будет изменяться метрика NDCG на тестовом датасете для таких рекомендаций и как будет меняться время вычисления. Для каждого графики зависимости метрики NDCG от n_singular_values и времени работы алгоритма от n_singular_values(Время работы будет меняться только для sparse-матрицы, стоит запускать алгоритм именно для нее)"
   ]
  },
  {
   "cell_type": "code",
   "execution_count": 20,
   "id": "1026d340",
   "metadata": {},
   "outputs": [],
   "source": [
    "from sklearn.metrics import ndcg_score"
   ]
  },
  {
   "cell_type": "code",
   "execution_count": 21,
   "id": "a11b56e8",
   "metadata": {},
   "outputs": [],
   "source": [
    "def ndcg_metric(gt_items, predicted):\n",
    "    \n",
    "    at = len(predicted)\n",
    "    relevance = np.array([1 if x in predicted else 0 for x in gt_items['item_id'].values])\n",
    "    # DCG uses the relevance of the recommended items\n",
    "    rank_dcg = dcg(relevance)\n",
    "\n",
    "    if rank_dcg == 0.0:\n",
    "        return 0.0\n",
    "\n",
    "    # IDCG has all relevances to 1 (or the values provided), up to the number of items in the test set that can fit in the list length\n",
    "    ideal_dcg = dcg(np.sort(relevance)[::-1][:at])\n",
    "\n",
    "    if ideal_dcg == 0.0:\n",
    "        return 0.0\n",
    "\n",
    "    ndcg_ = rank_dcg / ideal_dcg\n",
    "\n",
    "    return ndcg_\n",
    "\n",
    "\n",
    "def dcg(scores):\n",
    "    return np.sum(np.divide(np.power(2, scores) - 1, np.log2(np.arange(scores.shape[0], dtype=np.float64) + 2)),\n",
    "                  dtype=np.float64)\n",
    "\n",
    "def evaluate_recommender(df, model_preds, topn=10):\n",
    "    metric_values = []\n",
    "    \n",
    "    for i in range(0, model_preds.shape[0]):\n",
    "        df_u = df[df['user_id'] == i]\n",
    "        metric_values.append(ndcg_metric(df_u, model_preds[i]))\n",
    "\n",
    "    return np.mean(metric_values)"
   ]
  },
  {
   "cell_type": "code",
   "execution_count": 22,
   "id": "06f931fd-0eb0-4965-9e02-e005ed545c71",
   "metadata": {},
   "outputs": [],
   "source": [
    "import time\n",
    "def plot_graphs(interractions: Union[np.ndarray, coo_array], top_k: int = 100):\n",
    "    df = pd.DataFrame(columns=['NDCG', 'time'])\n",
    "    for n_singular_values in [1, 10, 50, 200, 1000]:\n",
    "        time_s = time.time()\n",
    "        recs = make_svd_recommendations(interractions, n_singular_values, top_k)\n",
    "        time_e = time.time() - time_s\n",
    "        ndcg = evaluate_recommender(df_test, recs)\n",
    "        df.loc[n_singular_values] = {'NDCG': ndcg, 'time': time_e}\n",
    "    \n",
    "    print(df)\n",
    "    lines = df.plot.line(subplots=True)\n"
   ]
  },
  {
   "cell_type": "code",
   "execution_count": 23,
   "id": "ee22fe02-b1c2-4fb5-a7b1-0525356fe9f0",
   "metadata": {},
   "outputs": [
    {
     "name": "stdout",
     "output_type": "stream",
     "text": [
      "          NDCG        time\n",
      "1     0.115364   27.441251\n",
      "10    0.128137   25.159947\n",
      "50    0.124020   26.439461\n",
      "200   0.109943   30.027156\n",
      "1000  0.064285  249.520120\n"
     ]
    },
    {
     "data": {
      "image/png": "[encoded data removed]",
      "text/plain": [
       "<Figure size 640x480 with 2 Axes>"
      ]
     },
     "metadata": {},
     "output_type": "display_data"
    }
   ],
   "source": [
    "plot_graphs(coo_interactions)"
   ]
  },
  {
   "cell_type": "markdown",
   "id": "a8612d96-c694-42d6-9525-58808f642577",
   "metadata": {},
   "source": [
    "##### Задание 3.1. Перейдем к [ALS](http://yifanhu.net/PUB/cf.pdf). Возьмем реализацию iALS из библиотеки [implicit](https://benfred.github.io/implicit/api/models/cpu/als.html). Обучите ALS на нашем датасете, сделайте top_k рекомендации для юзеров из тестового датасета, и сравните метрики ALS с метриками, которые получились в SVD. Попробуйте перебрать гиперпараметры и найдите оптимальное число факторов, коэффициент alpha и коэффициент регуляризации."
   ]
  },
  {
   "cell_type": "code",
   "execution_count": 24,
   "id": "4ace0b2b",
   "metadata": {},
   "outputs": [],
   "source": [
    "from implicit.als import AlternatingLeastSquares\n",
    "from scipy.sparse import csr_matrix"
   ]
  },
  {
   "cell_type": "code",
   "execution_count": 25,
   "id": "b5fb16e9-49d1-4d7e-a384-ccbdad4f1cdf",
   "metadata": {},
   "outputs": [],
   "source": [
    "def make_als_recommendations(\n",
    "    interractions: Union[np.ndarray, coo_array], \n",
    "    top_k: int = 100, \n",
    "    n_factors: int = 100,\n",
    "    alpha: float = 1.0,\n",
    "    regularization: float = 0.01,\n",
    "):\n",
    "    model = AlternatingLeastSquares(random_state = 42, factors = n_factors, alpha = alpha, regularization = regularization)\n",
    "    datas = csr_matrix(interractions)\n",
    "    model.fit(datas)\n",
    "    \n",
    "    recommendations, scores = model.recommend(np.arange(0, interactions.shape[0]), datas, 100)\n",
    "\n",
    "    return recommendations #shape ~ [n_users, top_k]"
   ]
  },
  {
   "cell_type": "code",
   "execution_count": 26,
   "id": "b5573d01-8512-450f-9260-03928ee9b367",
   "metadata": {},
   "outputs": [
    {
     "data": {
      "application/vnd.jupyter.widget-view+json": {
       "model_id": "9dac8d5ac0be456eaa9aefec3c54b9d5",
       "version_major": 2,
       "version_minor": 0
      },
      "text/plain": [
       "  0%|          | 0/15 [00:00<?, ?it/s]"
      ]
     },
     "metadata": {},
     "output_type": "display_data"
    }
   ],
   "source": [
    "recs = make_als_recommendations(interactions, 100, 50, 0.5, 0.01)\n",
    "assert recs.shape == (interactions.shape[0], 100)"
   ]
  },
  {
   "cell_type": "code",
   "execution_count": 27,
   "id": "f7ebecfa",
   "metadata": {},
   "outputs": [
    {
     "data": {
      "text/plain": [
       "0.12428725513459839"
      ]
     },
     "execution_count": 27,
     "metadata": {},
     "output_type": "execute_result"
    }
   ],
   "source": [
    "evaluate_recommender(df_test, recs)"
   ]
  },
  {
   "cell_type": "markdown",
   "id": "b4e1cc8a",
   "metadata": {},
   "source": [
    "Со стандартными гиперпараметрами метрика NDCG равна 0.118115. Если в SVD использовать сингулярные числа от 10 до 50 включительно, то метрика NDCG у модели будет больше, чем у iALS. В остальных случаях метрика была ниже.\n",
    "\n",
    "С гиперпараметрами factors = 50, alpha = 0.5, regularization = 0.01 NDCG равняется 0.124287. Это значениы больше расчитанных значений результатов SVD при использовании различных сингулярных чисел."
   ]
  },
  {
   "cell_type": "markdown",
   "id": "81f3b1cc-760b-4d6a-ab8a-aca57b7b6dfe",
   "metadata": {},
   "source": [
    "##### Задание 3.2. Сделайте объяснение рекомендаций для нескольких юзеров(als.explain). Воспользуйтесь файлом movies.dat чтобы перейти от индексов фильмов к их названием"
   ]
  },
  {
   "cell_type": "code",
   "execution_count": null,
   "id": "ddd9a956-d2f5-4560-8d0c-c72164ebdfa8",
   "metadata": {},
   "outputs": [
    {
     "data": {
      "application/vnd.jupyter.widget-view+json": {
       "model_id": "0ae7a3f354254059b9f33678edf8afd5",
       "version_major": 2,
       "version_minor": 0
      },
      "text/plain": [
       "  0%|          | 0/15 [00:00<?, ?it/s]"
      ]
     },
     "metadata": {},
     "output_type": "display_data"
    }
   ],
   "source": [
    "model = AlternatingLeastSquares(random_state = 42, factors = 50, alpha = 0.5, regularization = 0.01)\n",
    "datas = csr_matrix(interactions)\n",
    "model.fit(datas)\n",
    "\n",
    "movies = pd.read_csv(\"ml-1m/movies.dat\", sep='::', names= ['item_id', 'name (year)', 'tags'], engine='python', encoding='utf-8', index_col='item_id')\n"
   ]
  },
  {
   "cell_type": "code",
   "execution_count": null,
   "id": "3e461baa",
   "metadata": {},
   "outputs": [
    {
     "name": "stdout",
     "output_type": "stream",
     "text": [
      "Объяснение рекомендаций для 2-го юзера:\n",
      "Топ 3 рекомендации c объяснениями для юзера:\n",
      "1 - Brother Minister: The Assassination of Malcolm X (1994)\n",
      "Данная рекомендация с вероятностью 0.832 должна понравиться пользователю. Ранее пользователь взаимодействовал с 10 похожими фильмами из 10:\n",
      "Beautiful Girls (1996) - рейтинг схожести 0.099\n",
      "What Happened Was... (1994) - рейтинг схожести 0.092\n",
      "Dear God (1996) - рейтинг схожести 0.078\n",
      "Wend Kuuni (God's Gift) (1982) - рейтинг схожести 0.06\n",
      "Much Ado About Nothing (1993) - рейтинг схожести 0.054\n",
      "Ninotchka (1939) - рейтинг схожести 0.052\n",
      "JLG/JLG - autoportrait de d�cembre (1994) - рейтинг схожести 0.047\n",
      "Browning Version, The (1994) - рейтинг схожести 0.045\n",
      "Scout, The (1994) - рейтинг схожести 0.042\n",
      "Class (1983) - рейтинг схожести 0.038\n",
      "\n",
      "2 - Night of the Living Dead (1968)\n",
      "Данная рекомендация с вероятностью 0.648 должна понравиться пользователю. Ранее пользователь взаимодействовал с 10 похожими фильмами из 10:\n",
      "Girls Town (1996) - рейтинг схожести 0.106\n",
      "Spirits of the Dead (Tre Passi nel Delirio) (1968) - рейтинг схожести 0.077\n",
      "Great White Hype, The (1996) - рейтинг схожести 0.051\n",
      "Indecent Proposal (1993) - рейтинг схожести 0.05\n",
      "Little Princess, The (1939) - рейтинг схожести 0.042\n",
      "My Bodyguard (1980) - рейтинг схожести 0.042\n",
      "Zeus and Roxanne (1997) - рейтинг схожести 0.042\n",
      "Relic, The (1997) - рейтинг схожести 0.041\n",
      "Browning Version, The (1994) - рейтинг схожести 0.04\n",
      "Much Ado About Nothing (1993) - рейтинг схожести 0.04\n",
      "\n",
      "3 - World of Apu, The (Apur Sansar) (1959)\n",
      "Данная рекомендация с вероятностью 0.633 должна понравиться пользователю. Ранее пользователь взаимодействовал с 10 похожими фильмами из 10:\n",
      "Wend Kuuni (God's Gift) (1982) - рейтинг схожести 0.07\n",
      "Ninotchka (1939) - рейтинг схожести 0.066\n",
      "Women, The (1939) - рейтинг схожести 0.064\n",
      "Hostile Intentions (1994) - рейтинг схожести 0.042\n",
      "Jack and Sarah (1995) - рейтинг схожести 0.039\n",
      "Foreign Correspondent (1940) - рейтинг схожести 0.037\n",
      "American in Paris, An (1951) - рейтинг схожести 0.036\n",
      "Maximum Overdrive (1986) - рейтинг схожести 0.034\n",
      "Favor, The (1994) - рейтинг схожести 0.033\n",
      "Tigrero: A Film That Was Never Made (1994) - рейтинг схожести 0.031\n",
      "\n",
      "Объяснение рекомендаций для 10-го юзера:\n",
      "Топ 3 рекомендации c объяснениями для юзера:\n",
      "1 - Welcome to Woop-Woop (1997)\n",
      "Данная рекомендация с вероятностью 0.612 должна понравиться пользователю. Ранее пользователь взаимодействовал с 10 похожими фильмами из 10:\n",
      "Rain Man (1988) - рейтинг схожести 0.092\n",
      "Dance with Me (1998) - рейтинг схожести 0.081\n",
      "Police Story 4: Project S (Chao ji ji hua) (1993) - рейтинг схожести 0.068\n",
      "Something Wicked This Way Comes (1983) - рейтинг схожести 0.067\n",
      "Fear of a Black Hat (1993) - рейтинг схожести 0.058\n",
      "Vermin (1998) - рейтинг схожести 0.054\n",
      "Hot Lead and Cold Feet (1978) - рейтинг схожести 0.049\n",
      "Wood, The (1999) - рейтинг схожести 0.041\n",
      "Ronin (1998) - рейтинг схожести 0.036\n",
      "Heartburn (1986) - рейтинг схожести 0.028\n",
      "\n",
      "2 - 1-900 (1994)\n",
      "Данная рекомендация с вероятностью 0.595 должна понравиться пользователю. Ранее пользователь взаимодействовал с 10 похожими фильмами из 10:\n",
      "Browning Version, The (1994) - рейтинг схожести 0.188\n",
      "Police Story 4: Project S (Chao ji ji hua) (1993) - рейтинг схожести 0.097\n",
      "Night of the Living Dead (1968) - рейтинг схожести 0.068\n",
      "Rosencrantz and Guildenstern Are Dead (1990) - рейтинг схожести 0.054\n",
      "Dance with Me (1998) - рейтинг схожести 0.05\n",
      "Matilda (1996) - рейтинг схожести 0.047\n",
      "Heartburn (1986) - рейтинг схожести 0.044\n",
      "Billy's Hollywood Screen Kiss (1997) - рейтинг схожести 0.018\n",
      "Something Wicked This Way Comes (1983) - рейтинг схожести 0.017\n",
      "Hot Lead and Cold Feet (1978) - рейтинг схожести 0.017\n",
      "\n",
      "3 - Say Anything... (1989)\n",
      "Данная рекомендация с вероятностью 0.579 должна понравиться пользователю. Ранее пользователь взаимодействовал с 10 похожими фильмами из 10:\n",
      "Something Wicked This Way Comes (1983) - рейтинг схожести 0.084\n",
      "Dance with Me (1998) - рейтинг схожести 0.069\n",
      "Wood, The (1999) - рейтинг схожести 0.066\n",
      "Ronin (1998) - рейтинг схожести 0.044\n",
      "Mallrats (1995) - рейтинг схожести 0.033\n",
      "Runaway Train (1985) - рейтинг схожести 0.033\n",
      "Heartburn (1986) - рейтинг схожести 0.033\n",
      "West Side Story (1961) - рейтинг схожести 0.032\n",
      "Rain Man (1988) - рейтинг схожести 0.022\n",
      "Matilda (1996) - рейтинг схожести 0.02\n",
      "\n",
      "Объяснение рекомендаций для 24-го юзера:\n",
      "Топ 3 рекомендации c объяснениями для юзера:\n",
      "1 - Mallrats (1995)\n",
      "Данная рекомендация с вероятностью 0.602 должна понравиться пользователю. Ранее пользователь взаимодействовал с 10 похожими фильмами из 10:\n",
      "Condorman (1981) - рейтинг схожести 0.073\n",
      "Rain Man (1988) - рейтинг схожести 0.071\n",
      "U.S. Marshalls (1998) - рейтинг схожести 0.07\n",
      "Ronin (1998) - рейтинг схожести 0.056\n",
      "Dance with Me (1998) - рейтинг схожести 0.053\n",
      "Hope Floats (1998) - рейтинг схожести 0.047\n",
      "Small Soldiers (1998) - рейтинг схожести 0.044\n",
      "Say Anything... (1989) - рейтинг схожести 0.033\n",
      "Governess, The (1998) - рейтинг схожести 0.025\n",
      "Adventures of Elmo in Grouchland, The (1999) - рейтинг схожести 0.021\n",
      "\n",
      "2 - Pleasantville (1998)\n",
      "Данная рекомендация с вероятностью 0.541 должна понравиться пользователю. Ранее пользователь взаимодействовал с 10 похожими фильмами из 10:\n",
      "Ronin (1998) - рейтинг схожести 0.113\n",
      "Say Anything... (1989) - рейтинг схожести 0.071\n",
      "Dance with Me (1998) - рейтинг схожести 0.065\n",
      "Runaway Train (1985) - рейтинг схожести 0.049\n",
      "Great Dictator, The (1940) - рейтинг схожести 0.043\n",
      "Pushing Hands (1992) - рейтинг схожести 0.029\n",
      "Koyaanisqatsi (1983) - рейтинг схожести 0.026\n",
      "Condorman (1981) - рейтинг схожести 0.025\n",
      "Soldier (1998) - рейтинг схожести 0.019\n",
      "Rain Man (1988) - рейтинг схожести 0.019\n",
      "\n",
      "3 - Back to School (1986)\n",
      "Данная рекомендация с вероятностью 0.529 должна понравиться пользователю. Ранее пользователь взаимодействовал с 10 похожими фильмами из 10:\n",
      "Ronin (1998) - рейтинг схожести 0.074\n",
      "Say Anything... (1989) - рейтинг схожести 0.069\n",
      "Runaway Train (1985) - рейтинг схожести 0.066\n",
      "Safe (1995) - рейтинг схожести 0.04\n",
      "Herbie Goes to Monte Carlo (1977) - рейтинг схожести 0.035\n",
      "Great Dictator, The (1940) - рейтинг схожести 0.033\n",
      "Cocoon (1985) - рейтинг схожести 0.027\n",
      "Hope Floats (1998) - рейтинг схожести 0.025\n",
      "Dance with Me (1998) - рейтинг схожести 0.022\n",
      "U.S. Marshalls (1998) - рейтинг схожести 0.022\n",
      "\n"
     ]
    }
   ],
   "source": [
    "users = [2, 10, 24]\n",
    "for u in users:\n",
    "    print(f'Объяснение рекомендаций для {u}-го юзера:')\n",
    "    print(f'Топ 3 рекомендации c объяснениями для юзера:')\n",
    "    n = 1\n",
    "    user_weights=None\n",
    "    N_count = 10\n",
    "    \n",
    "    for mov in recs[u][:3]:\n",
    "        print(f'{n} - {movies.loc[mov][\"name (year)\"]}')\n",
    "\n",
    "        total_score, top_contributions, user_weights = model.explain(u, datas, mov, user_weights=user_weights, N = N_count)\n",
    "        df_u = df_train[df_train.user_id == u]\n",
    "        merge_item = []\n",
    "        for t in top_contributions:\n",
    "            if df_u[df_u.item_id == t[0]].shape[0] > 0:\n",
    "                merge_item.append(t)\n",
    "        \n",
    "        print(f'Данная рекомендация с вероятностью {round(total_score, 3)} должна понравиться пользователю. Ранее пользователь взаимодействовал с {len(merge_item)} похожими фильмами из {N_count}:')\n",
    "        for m in merge_item:\n",
    "            print(f'{movies.loc[m[0]][\"name (year)\"]} - рейтинг схожести {round(m[1], 3)}')\n",
    "\n",
    "        n += 1\n",
    "\n",
    "        print('')\n"
   ]
  },
  {
   "cell_type": "markdown",
   "id": "d7d7ea0c-8288-45f5-83d4-9761a8952669",
   "metadata": {},
   "source": [
    "##### Задание 4. До этого мы работали с рейтингами, но как обсуждалось на лекции, implicit ALS отлично работает и с implicit фидбэком. Давайте попробуем преобразовать наш датасет(трейн и тест) следующим образом\n",
    "\n",
    "1. Бинаризуем все рейтинги(заменим любую интеракцию пользователя на 1)\n",
    "2. Заменим на 1 только рейтинги 4 и 5, а рейтинг ниже 4 заменим на 0\n",
    "3. Заменим на 1 только рейтинги 4 и 5, а рейтинг ниже 4 заменим на -1\n",
    "4. Заменим на 1 только рейтинги 4 и 5, а рейтинг ниже 4 заменим на -1 и добавим сглаживание по времени. То есть чем дальше была интеракция от максимальной даты трейна, тем с меньшим весом мы будем ее учитывать(например можно интеракции за последний месяц брать в исходном виде, и с каждым месяцем в прошлое умножать их на какой-нибудь коэффициент меньший 1). Таким образом более старые интеракции пользователя будут вносить меньший вклад в его интересы\n",
    "5. Придумайте свой вариант(опционально)\n",
    "\n",
    "Для каждой полученной матрицы обучите iALS и SVD и сравните их результаты между собой(преобразовывать нужно только обучающую выборку, тестовую оставляем неизменной)"
   ]
  },
  {
   "cell_type": "code",
   "execution_count": 102,
   "id": "ac6a1723",
   "metadata": {},
   "outputs": [],
   "source": [
    "var1 = df_train.copy()\n",
    "var2 = df_train.copy()\n",
    "var3 = df_train.copy()\n",
    "var4 = df_train.copy()"
   ]
  },
  {
   "cell_type": "code",
   "execution_count": 103,
   "id": "ab656f82",
   "metadata": {},
   "outputs": [],
   "source": [
    "var1.rating = var1.rating.apply(lambda x: 1)\n",
    "var2.rating = var2.rating.apply(lambda x: 1 if x>=4 else 0)\n",
    "var3.rating = var3.rating.apply(lambda x: 1 if x>=4 else -1)"
   ]
  },
  {
   "cell_type": "code",
   "execution_count": 104,
   "id": "d37e1b87",
   "metadata": {},
   "outputs": [],
   "source": [
    "max = var4.datetime.max()\n",
    "var4['diff_dt'] = var4.datetime.apply(lambda x: round((max - x)/pd.Timedelta(days=30), 0))\n",
    "var4.rating = var4.apply(lambda x: 1 if (x['rating'] >= 4) else -1 + 0.6 ** x['diff_dt'], axis =  1)"
   ]
  },
  {
   "cell_type": "code",
   "execution_count": 107,
   "id": "3d864b2d",
   "metadata": {},
   "outputs": [
    {
     "data": {
      "application/vnd.jupyter.widget-view+json": {
       "model_id": "b0c492372c8a446a8b7602af267318ba",
       "version_major": 2,
       "version_minor": 0
      },
      "text/plain": [
       "  0%|          | 0/15 [00:00<?, ?it/s]"
      ]
     },
     "metadata": {},
     "output_type": "display_data"
    },
    {
     "name": "stdout",
     "output_type": "stream",
     "text": [
      "Для 1-го варианта:\n",
      "SVD: NDCG = 0.12813713415955272, time = 97\n",
      "iALS: NDCG = 0.12193254149403424, time = 7\n",
      "\n"
     ]
    },
    {
     "data": {
      "application/vnd.jupyter.widget-view+json": {
       "model_id": "2366de60d462452390fee39431b7759e",
       "version_major": 2,
       "version_minor": 0
      },
      "text/plain": [
       "  0%|          | 0/15 [00:00<?, ?it/s]"
      ]
     },
     "metadata": {},
     "output_type": "display_data"
    },
    {
     "name": "stdout",
     "output_type": "stream",
     "text": [
      "Для 2-го варианта:\n",
      "SVD: NDCG = 0.11865799457613709, time = 82\n",
      "iALS: NDCG = 0.11691010783648544, time = 3\n",
      "\n"
     ]
    },
    {
     "data": {
      "application/vnd.jupyter.widget-view+json": {
       "model_id": "811cda48f4ca4643892ec1c0e97075cc",
       "version_major": 2,
       "version_minor": 0
      },
      "text/plain": [
       "  0%|          | 0/15 [00:00<?, ?it/s]"
      ]
     },
     "metadata": {},
     "output_type": "display_data"
    },
    {
     "name": "stdout",
     "output_type": "stream",
     "text": [
      "Для 3-го варианта:\n",
      "SVD: NDCG = 0.12813713415955272, time = 85\n",
      "iALS: NDCG = 0.12379684900232171, time = 5\n",
      "\n"
     ]
    },
    {
     "data": {
      "application/vnd.jupyter.widget-view+json": {
       "model_id": "e4e92dd3d4de4a92ac60d6ab22c85d2b",
       "version_major": 2,
       "version_minor": 0
      },
      "text/plain": [
       "  0%|          | 0/15 [00:00<?, ?it/s]"
      ]
     },
     "metadata": {},
     "output_type": "display_data"
    },
    {
     "name": "stdout",
     "output_type": "stream",
     "text": [
      "Для 4-го варианта:\n",
      "SVD: NDCG = 0.1240801474199982, time = 82\n",
      "iALS: NDCG = 0.12081147044092835, time = 4\n",
      "\n"
     ]
    }
   ],
   "source": [
    "datasets = [var1, var2, var3, var4]\n",
    "n = 1\n",
    "for d in datasets:\n",
    "    inter = df_to_matrix(d)\n",
    "    time_f = time.time()\n",
    "    recs_svd = make_svd_recommendations(inter, 10, 100)\n",
    "    time_s = time.time()\n",
    "    recs_als = make_als_recommendations(inter, 100, 50, 0.5, 0.01)\n",
    "    time_t = time.time()\n",
    "    ndcg_svd = evaluate_recommender(df_test, recs_svd)\n",
    "    ndcg_als = evaluate_recommender(df_test, recs_als)\n",
    "\n",
    "    print(f'Для {n}-го варианта:')\n",
    "    print(f'SVD: NDCG = {ndcg_svd}, time = {round(time_s - time_f)}')\n",
    "    print(f'iALS: NDCG = {ndcg_als}, time = {round(time_t - time_s)}\\n')\n",
    "\n",
    "    n += 1"
   ]
  },
  {
   "cell_type": "markdown",
   "id": "edfe67ed",
   "metadata": {},
   "source": [
    "Для всех вариантов метод SVD оказался более лучшим по метрике NDCG, но во всех вариантах разница небольшая - от 2 до 6 тысячных. Но время работы функции сильно отличается - SVD обучалась и предсказывала от 80 секунд, а метод iALS до 10 секунд максимум."
   ]
  },
  {
   "cell_type": "markdown",
   "id": "ee7a03b1-5072-4bc4-ba46-1fc3c989b888",
   "metadata": {},
   "source": [
    "##### Задание 5. iALS на numpy/torch. Давайте реализуем алгоритм iALS на нумпае или торче. Требуется реализовать алгорит, описанный в 4 части [статьи](http://yifanhu.net/PUB/cf.pdf). Обратите внимания на все оптимизации, которые они описывают в статье, чтобы сократить лишние вычисления. Hint: метрики у вашего алгоритма должны быть сравнимы с метриками ALS из библиотеки implicit"
   ]
  },
  {
   "cell_type": "code",
   "execution_count": 41,
   "id": "e6be5f0d-1454-4f15-9dd1-17d1f1f99583",
   "metadata": {},
   "outputs": [
    {
     "ename": "IndentationError",
     "evalue": "expected an indented block after function definition on line 2 (3105765018.py, line 5)",
     "output_type": "error",
     "traceback": [
      "\u001b[1;36m  Cell \u001b[1;32mIn[41], line 5\u001b[1;36m\u001b[0m\n\u001b[1;33m    def fit(self, interractions: np.ndarray, n_iterations: int 10):\u001b[0m\n\u001b[1;37m    ^\u001b[0m\n\u001b[1;31mIndentationError\u001b[0m\u001b[1;31m:\u001b[0m expected an indented block after function definition on line 2\n"
     ]
    }
   ],
   "source": [
    "class iALS:\n",
    "    def __init__(self, n_factors: int = 100, alpha: float = 1.0, reg_coef = 0.01):\n",
    "        #your code here\n",
    "\n",
    "    def fit(self, interractions: np.ndarray, n_iterations: int 10):\n",
    "        #your code here\n",
    "\n",
    "    def predict(self, top_k: int = 100):\n",
    "        # возвращает top-k айтемов для каждого юзера(айтемы с которыми юзер взаимодействовал не должны попасть в рекомендации)\n",
    "        #your code here\n",
    "\n",
    "        return predicts # shape ~ [n_users, top_k]"
   ]
  },
  {
   "cell_type": "code",
   "execution_count": null,
   "id": "a9aa65d7-11dc-48d9-a270-8d0a6d96f28e",
   "metadata": {},
   "outputs": [],
   "source": []
  }
 ],
 "metadata": {
  "kernelspec": {
   "display_name": "base",
   "language": "python",
   "name": "python3"
  },
  "language_info": {
   "codemirror_mode": {
    "name": "ipython",
    "version": 3
   },
   "file_extension": ".py",
   "mimetype": "text/x-python",
   "name": "python",
   "nbconvert_exporter": "python",
   "pygments_lexer": "ipython3",
   "version": "3.11.4"
  }
 },
 "nbformat": 4,
 "nbformat_minor": 5
}
